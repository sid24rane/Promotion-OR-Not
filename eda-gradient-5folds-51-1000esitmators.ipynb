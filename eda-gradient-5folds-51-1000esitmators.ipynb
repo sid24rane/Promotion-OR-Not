{
 "cells": [
  {
   "cell_type": "code",
   "execution_count": null,
   "metadata": {
    "_uuid": "b7633c3776a139d6c1caaf7a821f0a85843bc11a",
    "collapsed": true
   },
   "outputs": [],
   "source": [
    "!wget https://datahack-prod.s3.amazonaws.com/train_file/train_LZdllcl.csv -O train.csv\n",
    "\n",
    "!wget https://datahack-prod.s3.amazonaws.com/test_file/test_2umaH9m.csv -O test.csv\n",
    "\n",
    "!wget https://datahack-prod.s3.amazonaws.com/sample_submission/sample_submission_M0L0uXE.csv -O sample_submission.csv"
   ]
  },
  {
   "cell_type": "code",
   "execution_count": null,
   "metadata": {
    "_uuid": "26708f7d764135fd2fd47e600069e5cbe7887f71",
    "collapsed": true
   },
   "outputs": [],
   "source": [
    "# Import the required packages\n",
    "import pandas as pd \n",
    "import numpy as np\n",
    "import matplotlib.pyplot as plt \n",
    "%matplotlib inline \n",
    "import seaborn as sns"
   ]
  },
  {
   "cell_type": "code",
   "execution_count": null,
   "metadata": {
    "_uuid": "25f40cdb83beb98d47c5f19a23190e8a42be5a64",
    "collapsed": true
   },
   "outputs": [],
   "source": [
    "# Read the train and test data\n",
    "train=pd.read_csv(\"train.csv\")\n",
    "train.drop('employee_id',inplace=True,axis = 1)\n",
    "test=pd.read_csv(\"test.csv\")"
   ]
  },
  {
   "cell_type": "code",
   "execution_count": null,
   "metadata": {
    "_uuid": "99e1a13c0de47e834e8de343607592aed8938792",
    "collapsed": true
   },
   "outputs": [],
   "source": [
    "# Check the variables in train data\n",
    "train.columns"
   ]
  },
  {
   "cell_type": "code",
   "execution_count": null,
   "metadata": {
    "_uuid": "ac93f6ab0061a3a52a6a474d8908c32ad45f3413",
    "collapsed": true
   },
   "outputs": [],
   "source": [
    "# Print datatype of each variable\n",
    "train.dtypes"
   ]
  },
  {
   "cell_type": "code",
   "execution_count": null,
   "metadata": {
    "_uuid": "a761ae73de6f97c0f39e70b972107b68b872baf2",
    "collapsed": true
   },
   "outputs": [],
   "source": [
    "# Dimension of the train dataset\n",
    "train.shape"
   ]
  },
  {
   "cell_type": "code",
   "execution_count": null,
   "metadata": {
    "_uuid": "62e4fa900d65189c05b9253a97111fdc5082da65",
    "collapsed": true
   },
   "outputs": [],
   "source": [
    "# Print the head of train dataset\n",
    "train.head()"
   ]
  },
  {
   "cell_type": "code",
   "execution_count": null,
   "metadata": {
    "_uuid": "d23ab5f7d2a08d190fe83807f86f6e3cd21dfe66",
    "collapsed": true
   },
   "outputs": [],
   "source": [
    "# Unique values in each variable of train dataset\n",
    "train.nunique()"
   ]
  },
  {
   "cell_type": "markdown",
   "metadata": {
    "_uuid": "08873b4885821f6a69ebe2f86c8653911b9de9ed"
   },
   "source": [
    "### Univariate Analysis"
   ]
  },
  {
   "cell_type": "markdown",
   "metadata": {
    "_uuid": "96c55f1e1d8b25971b62667045e55b26f6cadcee"
   },
   "source": [
    "#### Target Variable"
   ]
  },
  {
   "cell_type": "code",
   "execution_count": null,
   "metadata": {
    "_uuid": "2ce5bbfa1e4e0bdfafbadd9cbedbc10ce13c6ce7",
    "collapsed": true
   },
   "outputs": [],
   "source": [
    "train['is_promoted'].value_counts(normalize=True)"
   ]
  },
  {
   "cell_type": "code",
   "execution_count": null,
   "metadata": {
    "_uuid": "79be89f499f99ccda7e0b425da2cd7ac210dd091",
    "collapsed": true
   },
   "outputs": [],
   "source": [
    "# Around 91% trainee have promoted\n",
    "# Unbalanced dataset "
   ]
  },
  {
   "cell_type": "markdown",
   "metadata": {
    "_uuid": "a9c77308cdf23905b732a3ebdd8ac5ca79212716"
   },
   "source": [
    "#### Categorical Independent Variables"
   ]
  },
  {
   "cell_type": "code",
   "execution_count": null,
   "metadata": {
    "_uuid": "bfc8278ea9cbbeb3eae635361bb002a3601e2eef",
    "collapsed": true
   },
   "outputs": [],
   "source": [
    "plt.figure(1)\n",
    "plt.subplot(221)\n",
    "train['department'].value_counts(normalize=True).plot.bar(figsize=(20,10), title= 'Department')\n",
    "\n",
    "plt.subplot(222)\n",
    "train['awards_won?'].value_counts(normalize=True).plot.bar(title= 'Awards won')\n",
    "\n",
    "plt.subplot(223)\n",
    "train['education'].value_counts(normalize=True).plot.bar(title= 'Education')\n",
    "\n",
    "plt.subplot(224)\n",
    "train['gender'].value_counts(normalize=True).plot.bar(title= 'Gender')\n",
    "\n",
    "plt.show()"
   ]
  },
  {
   "cell_type": "code",
   "execution_count": null,
   "metadata": {
    "_uuid": "448b0008c0005b8bac7517e2712afcd275d16c1f",
    "collapsed": true
   },
   "outputs": [],
   "source": [
    "# Most of the trainee are enrolled for Y and T program_type.\n",
    "# More number of trainee enrolment for offline test than online test.\n",
    "# Most of the test are easy in terms of difficulty level."
   ]
  },
  {
   "cell_type": "code",
   "execution_count": null,
   "metadata": {
    "_uuid": "38c90f687147e812444d82fd39a1f4ef89ea85cd",
    "collapsed": true
   },
   "outputs": [],
   "source": [
    "train['KPIs_met >80%'].value_counts(normalize=True).plot.bar(title= 'KPI met greater than 80')\n"
   ]
  },
  {
   "cell_type": "code",
   "execution_count": null,
   "metadata": {
    "_uuid": "06e10d4d08c38687cf7ee3415dbeae59b71da4f2",
    "collapsed": true
   },
   "outputs": [],
   "source": [
    "plt.figure(1)\n",
    "plt.subplot(221)\n",
    "train['region'].value_counts(normalize=True).plot.bar(figsize=(20,10), title= 'Region')\n",
    "\n",
    "plt.subplot(222)\n",
    "train['recruitment_channel'].value_counts(normalize=True).plot.bar(title='Recruitment Channels')\n",
    "\n",
    "plt.subplot(223)\n",
    "train['no_of_trainings'].value_counts(normalize=True).plot.bar(title= 'No of Trainings')\n",
    "\n",
    "plt.subplot(224)\n",
    "train['previous_year_rating'].value_counts(normalize=True).plot.bar(title= 'Previous year ratings')\n",
    "\n",
    "plt.show()"
   ]
  },
  {
   "cell_type": "code",
   "execution_count": null,
   "metadata": {
    "_uuid": "ce58132467771804d0c6dde66b7201ef132e7e2b",
    "collapsed": true
   },
   "outputs": [],
   "source": [
    "# More male trainee as compared to female trainee\n",
    "# Most of the trainee have diploma\n",
    "# Most of the trainee belongs to tier 3 city\n",
    "# 10% of the trainee are handicapped"
   ]
  },
  {
   "cell_type": "markdown",
   "metadata": {
    "_uuid": "36cd44e98df41020144f72ce9e479441e1efc925"
   },
   "source": [
    "#### Numerical Independent Variables"
   ]
  },
  {
   "cell_type": "code",
   "execution_count": null,
   "metadata": {
    "_uuid": "ff05893eb22a4b5abc53c026f01049b464540fa7",
    "collapsed": true
   },
   "outputs": [],
   "source": [
    "sns.distplot(train['age']);"
   ]
  },
  {
   "cell_type": "code",
   "execution_count": null,
   "metadata": {
    "_uuid": "ab0bb2436a8aafdbccfb5b70395f7d470acaa5f3",
    "collapsed": true
   },
   "outputs": [],
   "source": [
    "# Most of the trainee are in the age range of 20-30 and 40-50"
   ]
  },
  {
   "cell_type": "code",
   "execution_count": null,
   "metadata": {
    "_uuid": "56fe72b47516e3033cb1dcb5fe96fcba49adee73",
    "collapsed": true
   },
   "outputs": [],
   "source": [
    "sns.distplot(train['length_of_service']);"
   ]
  },
  {
   "cell_type": "code",
   "execution_count": null,
   "metadata": {
    "_uuid": "cd71f64c6498e307516c236f4d71d8b94e6f786f",
    "collapsed": true
   },
   "outputs": [],
   "source": [
    "sns.distplot(train['avg_training_score']);"
   ]
  },
  {
   "cell_type": "markdown",
   "metadata": {
    "_uuid": "a9c395da513a03c3d4cf74559ec5e6ddf69ae471"
   },
   "source": [
    "### Bivariate Analysis"
   ]
  },
  {
   "cell_type": "code",
   "execution_count": null,
   "metadata": {
    "_uuid": "455257d6faeef3ac9e54ed79d7bb388f9777eb61",
    "collapsed": true
   },
   "outputs": [],
   "source": [
    "# Correlation between numerical variables\n",
    "matrix = train.corr()\n",
    "f, ax = plt.subplots(figsize=(9, 6))\n",
    "sns.heatmap(matrix, vmax=.8, square=True, cmap=\"BuPu\");"
   ]
  },
  {
   "cell_type": "code",
   "execution_count": null,
   "metadata": {
    "_uuid": "529566e738cdc1e9e1b868c72e5030963b94f71e",
    "collapsed": true
   },
   "outputs": [],
   "source": [
    "# Not much correlation between the variables"
   ]
  },
  {
   "cell_type": "code",
   "execution_count": null,
   "metadata": {
    "_uuid": "359e86f33d96063a3121ca837a8f6713d527c185",
    "collapsed": true
   },
   "outputs": [],
   "source": [
    "# program_id vs is_pass\n",
    "plt.figure(figsize=(12,4))\n",
    "sns.barplot(train['department'], train['is_promoted'])"
   ]
  },
  {
   "cell_type": "code",
   "execution_count": null,
   "metadata": {
    "_uuid": "4b363419b6df265a056614c149b7174d62a0b6d5",
    "collapsed": true
   },
   "outputs": [],
   "source": [
    "plt.figure(figsize=(20,8))\n",
    "# program_type vs is_pass\n",
    "sns.barplot(train['region'], train['is_promoted'])"
   ]
  },
  {
   "cell_type": "code",
   "execution_count": null,
   "metadata": {
    "_uuid": "d805673ffe0ba6b0f4032335d5d144505a9d0b0d",
    "collapsed": true
   },
   "outputs": [],
   "source": [
    "# Trainee in X and Y program type have higher chances to pass the test"
   ]
  },
  {
   "cell_type": "code",
   "execution_count": null,
   "metadata": {
    "_uuid": "7db2c6101077a51ab70b9f6d21d16acc65ef85cb",
    "collapsed": true
   },
   "outputs": [],
   "source": [
    "# test_type vs is_pass\n",
    "sns.barplot(train['recruitment_channel'], train['is_promoted'])"
   ]
  },
  {
   "cell_type": "code",
   "execution_count": null,
   "metadata": {
    "_uuid": "a36cf43fd15ae9e80d494dc0d5fd3ea8473173b3",
    "collapsed": true
   },
   "outputs": [],
   "source": [
    "# Trainee attending online mode of test have higher chances to pass the test"
   ]
  },
  {
   "cell_type": "code",
   "execution_count": null,
   "metadata": {
    "_uuid": "e580b8149834e54d735f045d80c3f64003070dfc",
    "collapsed": true
   },
   "outputs": [],
   "source": [
    "# difficulty_level vs is_pass\n",
    "sns.barplot(train['no_of_trainings'], train['is_promoted'])"
   ]
  },
  {
   "cell_type": "code",
   "execution_count": null,
   "metadata": {
    "_uuid": "6c01fd50943611cce679e628b6da4afdb0414ae4",
    "collapsed": true
   },
   "outputs": [],
   "source": [
    "# If the difficulty level of the test is easy, chances to pass the test are higher"
   ]
  },
  {
   "cell_type": "code",
   "execution_count": null,
   "metadata": {
    "_uuid": "2e1396ae174e216cbc155b0e5fc4443b32229da9",
    "collapsed": true
   },
   "outputs": [],
   "source": [
    "# Gender vs is_pass\n",
    "sns.barplot(train['previous_year_rating'], train['is_promoted'])"
   ]
  },
  {
   "cell_type": "code",
   "execution_count": null,
   "metadata": {
    "_uuid": "82e575ccbe1e225e608f718e721d9bf92257a0bb",
    "collapsed": true
   },
   "outputs": [],
   "source": [
    "# Gender does not affect the chances to pass the test"
   ]
  },
  {
   "cell_type": "code",
   "execution_count": null,
   "metadata": {
    "_uuid": "f6171daa2a2453ec54a68ac3216a6708e4ba3667",
    "collapsed": true
   },
   "outputs": [],
   "source": [
    "# education vs is_pass\n",
    "plt.figure(figsize=(12,4))\n",
    "sns.barplot(train['education'], train['is_promoted'])"
   ]
  },
  {
   "cell_type": "code",
   "execution_count": null,
   "metadata": {
    "_uuid": "4d51a39c0f8b5b26b7721a1357ed344b72fd5d6b",
    "collapsed": true
   },
   "outputs": [],
   "source": [
    "# Trainee with Masters education level have more chances to pass the test"
   ]
  },
  {
   "cell_type": "code",
   "execution_count": null,
   "metadata": {
    "_uuid": "d6407f1d29497a0b7aa4303822c4716e38d81353",
    "collapsed": true
   },
   "outputs": [],
   "source": [
    "plt.figure(figsize=(20,8))\n",
    "# is_handicapped vs is_pass\n",
    "sns.barplot(train['length_of_service'], train['is_promoted'])"
   ]
  },
  {
   "cell_type": "code",
   "execution_count": null,
   "metadata": {
    "_uuid": "482d44e64b2f2585489ef8a8773f8365858144ce",
    "collapsed": true
   },
   "outputs": [],
   "source": [
    "# Handicapped trainee have less chances to pass the test"
   ]
  },
  {
   "cell_type": "code",
   "execution_count": null,
   "metadata": {
    "_uuid": "a991342a7b47b1bb5c3f6eaa8c17213d2e64b86a",
    "collapsed": true
   },
   "outputs": [],
   "source": [
    "# city_tier vs is_pass\n",
    "sns.barplot(train['KPIs_met >80%'], train['is_promoted'])"
   ]
  },
  {
   "cell_type": "code",
   "execution_count": null,
   "metadata": {
    "_uuid": "582bdb73dabbcde0f5c1182c935142b2274323b9",
    "collapsed": true
   },
   "outputs": [],
   "source": [
    "# Trainee from city tier 1 have higher chances to pass the test"
   ]
  },
  {
   "cell_type": "code",
   "execution_count": null,
   "metadata": {
    "_uuid": "7e1eb7ddf0872f2169a8db6d239dbaf08568fb84",
    "collapsed": true
   },
   "outputs": [],
   "source": [
    "# trainee_engagement_rating vs is_pass\n",
    "sns.barplot(train['awards_won?'], train['is_promoted'])"
   ]
  },
  {
   "cell_type": "code",
   "execution_count": null,
   "metadata": {
    "_uuid": "b5114cf69693c817f808443c10bc02baff6aa327",
    "collapsed": true
   },
   "outputs": [],
   "source": [
    "# As the trainee engagement rating increases, chances to pass the test also increases"
   ]
  },
  {
   "cell_type": "markdown",
   "metadata": {
    "_uuid": "fd27a117a89fd064d466909c4c58413c8617b8ee"
   },
   "source": [
    "### Missing Values Treatment"
   ]
  },
  {
   "cell_type": "code",
   "execution_count": null,
   "metadata": {
    "_uuid": "785a4c7e34acfeff9b06aacada3a0aaecb599476",
    "collapsed": true
   },
   "outputs": [],
   "source": [
    "# Check the number of missing values in each variable\n",
    "train.isnull().sum()"
   ]
  },
  {
   "cell_type": "code",
   "execution_count": null,
   "metadata": {
    "_uuid": "7f7bddd4e740fc8513c93f9c4fee2d79e46fa5ba",
    "collapsed": true
   },
   "outputs": [],
   "source": [
    "# age and trainee_engagement_rating variables have missing values in it."
   ]
  },
  {
   "cell_type": "code",
   "execution_count": null,
   "metadata": {
    "_uuid": "7efee8262046723ea76c5d6b09539f8e315a007d",
    "collapsed": true
   },
   "outputs": [],
   "source": [
    "test = pd.read_csv('test.csv')\n",
    "test.drop('employee_id',inplace=True,axis = 1)\n",
    "test.head()"
   ]
  },
  {
   "cell_type": "code",
   "execution_count": null,
   "metadata": {
    "_uuid": "2c59197cac0b3c20984bf0066bb77154e79aa158",
    "collapsed": true
   },
   "outputs": [],
   "source": [
    "test['education'].fillna('other',inplace=True)\n",
    "test['previous_year_rating'].fillna(99,inplace=True)\n",
    "\n",
    "train['education'].fillna('other',inplace=True)\n",
    "train['previous_year_rating'].fillna(99,inplace=True)"
   ]
  },
  {
   "cell_type": "markdown",
   "metadata": {
    "_uuid": "e19dc042f8d583d6a0e9b9db9bbad37e239d487a"
   },
   "source": [
    "### Logistic Regression"
   ]
  },
  {
   "cell_type": "code",
   "execution_count": null,
   "metadata": {
    "_uuid": "19f12e96cede2a29c1b917d94838e13a7662dba1",
    "collapsed": true
   },
   "outputs": [],
   "source": [
    "train.head()"
   ]
  },
  {
   "cell_type": "code",
   "execution_count": null,
   "metadata": {
    "_uuid": "9d27eeb9cae2d1b88f5b6c26ffe534e2d7f55757",
    "collapsed": true
   },
   "outputs": [],
   "source": [
    "# Save target variable in separate dataset\n",
    "X = train.drop('is_promoted',axis=1)\n",
    "y = train.is_promoted"
   ]
  },
  {
   "cell_type": "code",
   "execution_count": null,
   "metadata": {
    "_uuid": "01c549003c69b99f646eff61116f49ddde6ebad8",
    "collapsed": true
   },
   "outputs": [],
   "source": [
    "test"
   ]
  },
  {
   "cell_type": "code",
   "execution_count": null,
   "metadata": {
    "_uuid": "f4f266e38e7a900c1a03a2c2031bab3a5b47c743",
    "collapsed": true
   },
   "outputs": [],
   "source": [
    "# Apply dummies to the dataset\n",
    "X=pd.get_dummies(X)\n",
    "test=pd.get_dummies(test)"
   ]
  },
  {
   "cell_type": "code",
   "execution_count": null,
   "metadata": {
    "_uuid": "69c6f1ef5f4e8f476a6317b4121a363a24f6a080",
    "collapsed": true
   },
   "outputs": [],
   "source": [
    "from sklearn.linear_model import LogisticRegression\n",
    "from sklearn.model_selection import StratifiedKFold\n",
    "from sklearn.metrics import f1_score"
   ]
  },
  {
   "cell_type": "code",
   "execution_count": null,
   "metadata": {
    "_uuid": "aca76f9c13049856cf966ff4c3ce636d829abc01",
    "collapsed": true
   },
   "outputs": [],
   "source": [
    "from sklearn.ensemble import GradientBoostingClassifier\n",
    "# Logistic regression using 5 fold stratified cross validation\n",
    "i=1\n",
    "scores = []\n",
    "kf = StratifiedKFold(n_splits=5,random_state=1,shuffle=True)\n",
    "for train_index,test_index in kf.split(X,y):\n",
    "     print('\\n{} of kfold {}'.format(i,kf.n_splits))\n",
    "     xtr,xvl = X.loc[train_index],X.loc[test_index]\n",
    "     ytr,yvl = y[train_index],y[test_index]\n",
    "    \n",
    "     model = GradientBoostingClassifier(n_estimators=1000,verbose=1)\n",
    "     model.fit(xtr, ytr)\n",
    "     pred=model.predict_proba(xvl)[:,1]\n",
    "     score = f1_score(yvl,pred.round())\n",
    "     print('f1_score',score)\n",
    "     scores.append(score)\n",
    "     i+=1\n",
    "# Making predictions for the test data\n",
    "pred=model.predict_proba(test)[:,1]\n",
    "print(\"Mean accuracy:\",np.mean(scores))\n",
    "print(\"Standard deviation:\",np.std(scores))"
   ]
  },
  {
   "cell_type": "code",
   "execution_count": null,
   "metadata": {
    "_uuid": "9afcd37e809cd5b3dd6c79711cb94caeb91149eb",
    "collapsed": true
   },
   "outputs": [],
   "source": [
    "# Read the submission file\n",
    "submission=pd.read_csv(\"sample_submission.csv\")"
   ]
  },
  {
   "cell_type": "code",
   "execution_count": null,
   "metadata": {
    "_uuid": "5b4ba649b5a8f0846d1dcc287513925e64ab6c8a",
    "collapsed": true
   },
   "outputs": [],
   "source": [
    "submission.head()"
   ]
  },
  {
   "cell_type": "code",
   "execution_count": null,
   "metadata": {
    "_uuid": "963cdc37a3b48c94017c16d526f3408d59a729c3",
    "collapsed": true
   },
   "outputs": [],
   "source": [
    "# Fill the is_pass variable with the predictions\n",
    "submission['is_promoted']=pred.round()"
   ]
  },
  {
   "cell_type": "code",
   "execution_count": null,
   "metadata": {
    "_uuid": "3957d16c1f26c5ca0fe781f39da79a224f388a0a",
    "collapsed": true
   },
   "outputs": [],
   "source": [
    "submission['is_promoted'] = submission['is_promoted'].astype(np.int64)"
   ]
  },
  {
   "cell_type": "code",
   "execution_count": null,
   "metadata": {
    "_uuid": "22591f429efdf09a5ae090f7ceceddb8c9037595",
    "collapsed": true
   },
   "outputs": [],
   "source": [
    "submission.head()"
   ]
  },
  {
   "cell_type": "code",
   "execution_count": null,
   "metadata": {
    "_uuid": "f23311e0bb07bffc8e41360b27390ae2f53ca273",
    "collapsed": true
   },
   "outputs": [],
   "source": [
    "submission['is_promoted'].value_counts()"
   ]
  },
  {
   "cell_type": "code",
   "execution_count": null,
   "metadata": {
    "_uuid": "3800779bb3832dfead3c44df7723a4f71628b475",
    "collapsed": true
   },
   "outputs": [],
   "source": [
    "# Converting the submission file to csv format\n",
    "submission.to_csv('logistic_submission.csv', index=False)"
   ]
  },
  {
   "cell_type": "markdown",
   "metadata": {
    "_uuid": "b7dbd31bb3eaa4494d614e4b3aca075a4e833d62"
   },
   "source": [
    "score on leaderboard - 0.71145"
   ]
  }
 ],
 "metadata": {
  "kernelspec": {
   "display_name": "Python 3",
   "language": "python",
   "name": "python3"
  },
  "language_info": {
   "codemirror_mode": {
    "name": "ipython",
    "version": 3
   },
   "file_extension": ".py",
   "mimetype": "text/x-python",
   "name": "python",
   "nbconvert_exporter": "python",
   "pygments_lexer": "ipython3",
   "version": "3.5.2"
  }
 },
 "nbformat": 4,
 "nbformat_minor": 2
}
