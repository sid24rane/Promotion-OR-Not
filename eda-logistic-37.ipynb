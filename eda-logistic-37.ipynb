{
  "cells": [
    {
      "metadata": {
        "trusted": true,
        "_uuid": "b7633c3776a139d6c1caaf7a821f0a85843bc11a",
        "collapsed": true
      },
      "cell_type": "code",
      "source": "!wget https://datahack-prod.s3.amazonaws.com/train_file/train_LZdllcl.csv -O train.csv\n\n!wget https://datahack-prod.s3.amazonaws.com/test_file/test_2umaH9m.csv -O test.csv\n\n!wget https://datahack-prod.s3.amazonaws.com/sample_submission/sample_submission_M0L0uXE.csv -O sample_submission.csv",
      "execution_count": null,
      "outputs": []
    },
    {
      "metadata": {
        "collapsed": true,
        "trusted": true,
        "_uuid": "26708f7d764135fd2fd47e600069e5cbe7887f71"
      },
      "cell_type": "code",
      "source": "# Import the required packages\nimport pandas as pd \nimport numpy as np\nimport matplotlib.pyplot as plt \n%matplotlib inline \nimport seaborn as sns",
      "execution_count": null,
      "outputs": []
    },
    {
      "metadata": {
        "collapsed": true,
        "trusted": true,
        "_uuid": "25f40cdb83beb98d47c5f19a23190e8a42be5a64"
      },
      "cell_type": "code",
      "source": "# Read the train and test data\ntrain=pd.read_csv(\"train.csv\")\ntrain.drop('employee_id',inplace=True,axis = 1)\ntest=pd.read_csv(\"test.csv\")",
      "execution_count": null,
      "outputs": []
    },
    {
      "metadata": {
        "trusted": true,
        "_uuid": "99e1a13c0de47e834e8de343607592aed8938792",
        "collapsed": true
      },
      "cell_type": "code",
      "source": "# Check the variables in train data\ntrain.columns",
      "execution_count": null,
      "outputs": []
    },
    {
      "metadata": {
        "trusted": true,
        "_uuid": "ac93f6ab0061a3a52a6a474d8908c32ad45f3413",
        "collapsed": true
      },
      "cell_type": "code",
      "source": "# Print datatype of each variable\ntrain.dtypes",
      "execution_count": null,
      "outputs": []
    },
    {
      "metadata": {
        "trusted": true,
        "_uuid": "a761ae73de6f97c0f39e70b972107b68b872baf2",
        "collapsed": true
      },
      "cell_type": "code",
      "source": "# Dimension of the train dataset\ntrain.shape",
      "execution_count": null,
      "outputs": []
    },
    {
      "metadata": {
        "trusted": true,
        "_uuid": "62e4fa900d65189c05b9253a97111fdc5082da65",
        "collapsed": true
      },
      "cell_type": "code",
      "source": "# Print the head of train dataset\ntrain.head()",
      "execution_count": null,
      "outputs": []
    },
    {
      "metadata": {
        "trusted": true,
        "_uuid": "d23ab5f7d2a08d190fe83807f86f6e3cd21dfe66",
        "collapsed": true
      },
      "cell_type": "code",
      "source": "# Unique values in each variable of train dataset\ntrain.nunique()",
      "execution_count": null,
      "outputs": []
    },
    {
      "metadata": {
        "_uuid": "08873b4885821f6a69ebe2f86c8653911b9de9ed"
      },
      "cell_type": "markdown",
      "source": "### Univariate Analysis"
    },
    {
      "metadata": {
        "_uuid": "96c55f1e1d8b25971b62667045e55b26f6cadcee"
      },
      "cell_type": "markdown",
      "source": "#### Target Variable"
    },
    {
      "metadata": {
        "trusted": true,
        "_uuid": "2ce5bbfa1e4e0bdfafbadd9cbedbc10ce13c6ce7",
        "collapsed": true
      },
      "cell_type": "code",
      "source": "train['is_promoted'].value_counts(normalize=True)",
      "execution_count": null,
      "outputs": []
    },
    {
      "metadata": {
        "collapsed": true,
        "trusted": true,
        "_uuid": "79be89f499f99ccda7e0b425da2cd7ac210dd091"
      },
      "cell_type": "code",
      "source": "# Around 91% trainee have promoted\n# Unbalanced dataset ",
      "execution_count": null,
      "outputs": []
    },
    {
      "metadata": {
        "_uuid": "a9c77308cdf23905b732a3ebdd8ac5ca79212716"
      },
      "cell_type": "markdown",
      "source": "#### Categorical Independent Variables"
    },
    {
      "metadata": {
        "trusted": true,
        "_uuid": "bfc8278ea9cbbeb3eae635361bb002a3601e2eef",
        "collapsed": true
      },
      "cell_type": "code",
      "source": "plt.figure(1)\nplt.subplot(221)\ntrain['department'].value_counts(normalize=True).plot.bar(figsize=(20,10), title= 'Department')\n\nplt.subplot(222)\ntrain['awards_won?'].value_counts(normalize=True).plot.bar(title= 'Awards won')\n\nplt.subplot(223)\ntrain['education'].value_counts(normalize=True).plot.bar(title= 'Education')\n\nplt.subplot(224)\ntrain['gender'].value_counts(normalize=True).plot.bar(title= 'Gender')\n\nplt.show()",
      "execution_count": null,
      "outputs": []
    },
    {
      "metadata": {
        "collapsed": true,
        "trusted": false,
        "_uuid": "448b0008c0005b8bac7517e2712afcd275d16c1f"
      },
      "cell_type": "code",
      "source": "# Most of the trainee are enrolled for Y and T program_type.\n# More number of trainee enrolment for offline test than online test.\n# Most of the test are easy in terms of difficulty level.",
      "execution_count": null,
      "outputs": []
    },
    {
      "metadata": {
        "trusted": true,
        "_uuid": "38c90f687147e812444d82fd39a1f4ef89ea85cd",
        "collapsed": true
      },
      "cell_type": "code",
      "source": "train['KPIs_met >80%'].value_counts(normalize=True).plot.bar(title= 'KPI met greater than 80')\n",
      "execution_count": null,
      "outputs": []
    },
    {
      "metadata": {
        "trusted": true,
        "_uuid": "06e10d4d08c38687cf7ee3415dbeae59b71da4f2",
        "collapsed": true
      },
      "cell_type": "code",
      "source": "plt.figure(1)\nplt.subplot(221)\ntrain['region'].value_counts(normalize=True).plot.bar(figsize=(20,10), title= 'Region')\n\nplt.subplot(222)\ntrain['recruitment_channel'].value_counts(normalize=True).plot.bar(title='Recruitment Channels')\n\nplt.subplot(223)\ntrain['no_of_trainings'].value_counts(normalize=True).plot.bar(title= 'No of Trainings')\n\nplt.subplot(224)\ntrain['previous_year_rating'].value_counts(normalize=True).plot.bar(title= 'Previous year ratings')\n\nplt.show()",
      "execution_count": null,
      "outputs": []
    },
    {
      "metadata": {
        "collapsed": true,
        "trusted": false,
        "_uuid": "ce58132467771804d0c6dde66b7201ef132e7e2b"
      },
      "cell_type": "code",
      "source": "# More male trainee as compared to female trainee\n# Most of the trainee have diploma\n# Most of the trainee belongs to tier 3 city\n# 10% of the trainee are handicapped",
      "execution_count": null,
      "outputs": []
    },
    {
      "metadata": {
        "_uuid": "36cd44e98df41020144f72ce9e479441e1efc925"
      },
      "cell_type": "markdown",
      "source": "#### Numerical Independent Variables"
    },
    {
      "metadata": {
        "trusted": true,
        "_uuid": "ff05893eb22a4b5abc53c026f01049b464540fa7",
        "collapsed": true
      },
      "cell_type": "code",
      "source": "sns.distplot(train['age']);",
      "execution_count": null,
      "outputs": []
    },
    {
      "metadata": {
        "collapsed": true,
        "trusted": true,
        "_uuid": "ab0bb2436a8aafdbccfb5b70395f7d470acaa5f3"
      },
      "cell_type": "code",
      "source": "# Most of the trainee are in the age range of 20-30 and 40-50",
      "execution_count": null,
      "outputs": []
    },
    {
      "metadata": {
        "trusted": true,
        "_uuid": "56fe72b47516e3033cb1dcb5fe96fcba49adee73",
        "collapsed": true
      },
      "cell_type": "code",
      "source": "sns.distplot(train['length_of_service']);",
      "execution_count": null,
      "outputs": []
    },
    {
      "metadata": {
        "trusted": true,
        "_uuid": "cd71f64c6498e307516c236f4d71d8b94e6f786f",
        "collapsed": true
      },
      "cell_type": "code",
      "source": "sns.distplot(train['avg_training_score']);",
      "execution_count": null,
      "outputs": []
    },
    {
      "metadata": {
        "_uuid": "a9c395da513a03c3d4cf74559ec5e6ddf69ae471"
      },
      "cell_type": "markdown",
      "source": "### Bivariate Analysis"
    },
    {
      "metadata": {
        "trusted": true,
        "_uuid": "455257d6faeef3ac9e54ed79d7bb388f9777eb61",
        "collapsed": true
      },
      "cell_type": "code",
      "source": "# Correlation between numerical variables\nmatrix = train.corr()\nf, ax = plt.subplots(figsize=(9, 6))\nsns.heatmap(matrix, vmax=.8, square=True, cmap=\"BuPu\");",
      "execution_count": null,
      "outputs": []
    },
    {
      "metadata": {
        "collapsed": true,
        "trusted": true,
        "_uuid": "529566e738cdc1e9e1b868c72e5030963b94f71e"
      },
      "cell_type": "code",
      "source": "# Not much correlation between the variables",
      "execution_count": null,
      "outputs": []
    },
    {
      "metadata": {
        "trusted": true,
        "_uuid": "359e86f33d96063a3121ca837a8f6713d527c185",
        "collapsed": true
      },
      "cell_type": "code",
      "source": "# program_id vs is_pass\nplt.figure(figsize=(12,4))\nsns.barplot(train['department'], train['is_promoted'])",
      "execution_count": null,
      "outputs": []
    },
    {
      "metadata": {
        "trusted": true,
        "_uuid": "4b363419b6df265a056614c149b7174d62a0b6d5",
        "collapsed": true
      },
      "cell_type": "code",
      "source": "plt.figure(figsize=(20,8))\n# program_type vs is_pass\nsns.barplot(train['region'], train['is_promoted'])",
      "execution_count": null,
      "outputs": []
    },
    {
      "metadata": {
        "collapsed": true,
        "trusted": false,
        "_uuid": "d805673ffe0ba6b0f4032335d5d144505a9d0b0d"
      },
      "cell_type": "code",
      "source": "# Trainee in X and Y program type have higher chances to pass the test",
      "execution_count": null,
      "outputs": []
    },
    {
      "metadata": {
        "trusted": true,
        "_uuid": "7db2c6101077a51ab70b9f6d21d16acc65ef85cb",
        "collapsed": true
      },
      "cell_type": "code",
      "source": "# test_type vs is_pass\nsns.barplot(train['recruitment_channel'], train['is_promoted'])",
      "execution_count": null,
      "outputs": []
    },
    {
      "metadata": {
        "collapsed": true,
        "trusted": false,
        "_uuid": "a36cf43fd15ae9e80d494dc0d5fd3ea8473173b3"
      },
      "cell_type": "code",
      "source": "# Trainee attending online mode of test have higher chances to pass the test",
      "execution_count": null,
      "outputs": []
    },
    {
      "metadata": {
        "trusted": true,
        "_uuid": "e580b8149834e54d735f045d80c3f64003070dfc",
        "collapsed": true
      },
      "cell_type": "code",
      "source": "# difficulty_level vs is_pass\nsns.barplot(train['no_of_trainings'], train['is_promoted'])",
      "execution_count": null,
      "outputs": []
    },
    {
      "metadata": {
        "collapsed": true,
        "trusted": false,
        "_uuid": "6c01fd50943611cce679e628b6da4afdb0414ae4"
      },
      "cell_type": "code",
      "source": "# If the difficulty level of the test is easy, chances to pass the test are higher",
      "execution_count": null,
      "outputs": []
    },
    {
      "metadata": {
        "trusted": true,
        "_uuid": "2e1396ae174e216cbc155b0e5fc4443b32229da9",
        "collapsed": true
      },
      "cell_type": "code",
      "source": "# Gender vs is_pass\nsns.barplot(train['previous_year_rating'], train['is_promoted'])",
      "execution_count": null,
      "outputs": []
    },
    {
      "metadata": {
        "collapsed": true,
        "trusted": false,
        "_uuid": "82e575ccbe1e225e608f718e721d9bf92257a0bb"
      },
      "cell_type": "code",
      "source": "# Gender does not affect the chances to pass the test",
      "execution_count": null,
      "outputs": []
    },
    {
      "metadata": {
        "trusted": true,
        "_uuid": "f6171daa2a2453ec54a68ac3216a6708e4ba3667",
        "collapsed": true
      },
      "cell_type": "code",
      "source": "# education vs is_pass\nplt.figure(figsize=(12,4))\nsns.barplot(train['education'], train['is_promoted'])",
      "execution_count": null,
      "outputs": []
    },
    {
      "metadata": {
        "collapsed": true,
        "trusted": false,
        "_uuid": "4d51a39c0f8b5b26b7721a1357ed344b72fd5d6b"
      },
      "cell_type": "code",
      "source": "# Trainee with Masters education level have more chances to pass the test",
      "execution_count": null,
      "outputs": []
    },
    {
      "metadata": {
        "trusted": true,
        "_uuid": "d6407f1d29497a0b7aa4303822c4716e38d81353",
        "collapsed": true
      },
      "cell_type": "code",
      "source": "plt.figure(figsize=(20,8))\n# is_handicapped vs is_pass\nsns.barplot(train['length_of_service'], train['is_promoted'])",
      "execution_count": null,
      "outputs": []
    },
    {
      "metadata": {
        "collapsed": true,
        "trusted": false,
        "_uuid": "482d44e64b2f2585489ef8a8773f8365858144ce"
      },
      "cell_type": "code",
      "source": "# Handicapped trainee have less chances to pass the test",
      "execution_count": null,
      "outputs": []
    },
    {
      "metadata": {
        "trusted": true,
        "_uuid": "a991342a7b47b1bb5c3f6eaa8c17213d2e64b86a",
        "collapsed": true
      },
      "cell_type": "code",
      "source": "# city_tier vs is_pass\nsns.barplot(train['KPIs_met >80%'], train['is_promoted'])",
      "execution_count": null,
      "outputs": []
    },
    {
      "metadata": {
        "collapsed": true,
        "trusted": false,
        "_uuid": "582bdb73dabbcde0f5c1182c935142b2274323b9"
      },
      "cell_type": "code",
      "source": "# Trainee from city tier 1 have higher chances to pass the test",
      "execution_count": null,
      "outputs": []
    },
    {
      "metadata": {
        "trusted": true,
        "_uuid": "7e1eb7ddf0872f2169a8db6d239dbaf08568fb84",
        "collapsed": true
      },
      "cell_type": "code",
      "source": "# trainee_engagement_rating vs is_pass\nsns.barplot(train['awards_won?'], train['is_promoted'])",
      "execution_count": null,
      "outputs": []
    },
    {
      "metadata": {
        "collapsed": true,
        "trusted": false,
        "_uuid": "b5114cf69693c817f808443c10bc02baff6aa327"
      },
      "cell_type": "code",
      "source": "# As the trainee engagement rating increases, chances to pass the test also increases",
      "execution_count": null,
      "outputs": []
    },
    {
      "metadata": {
        "_uuid": "fd27a117a89fd064d466909c4c58413c8617b8ee"
      },
      "cell_type": "markdown",
      "source": "### Missing Values Treatment"
    },
    {
      "metadata": {
        "trusted": true,
        "_uuid": "785a4c7e34acfeff9b06aacada3a0aaecb599476",
        "collapsed": true
      },
      "cell_type": "code",
      "source": "# Check the number of missing values in each variable\ntrain.isnull().sum()",
      "execution_count": null,
      "outputs": []
    },
    {
      "metadata": {
        "collapsed": true,
        "trusted": false,
        "_uuid": "7f7bddd4e740fc8513c93f9c4fee2d79e46fa5ba"
      },
      "cell_type": "code",
      "source": "# age and trainee_engagement_rating variables have missing values in it.",
      "execution_count": null,
      "outputs": []
    },
    {
      "metadata": {
        "trusted": true,
        "_uuid": "7efee8262046723ea76c5d6b09539f8e315a007d"
      },
      "cell_type": "code",
      "source": "test = pd.read_csv('test.csv')\ntest.drop('employee_id',inplace=True,axis = 1)\ntest.head()",
      "execution_count": 119,
      "outputs": [
        {
          "output_type": "execute_result",
          "execution_count": 119,
          "data": {
            "text/plain": "          department     region   education gender recruitment_channel  \\\n0         Technology  region_26  Bachelor's      m            sourcing   \n1                 HR   region_4  Bachelor's      f               other   \n2  Sales & Marketing  region_13  Bachelor's      m               other   \n3        Procurement   region_2  Bachelor's      f               other   \n4            Finance  region_29  Bachelor's      m            sourcing   \n\n   no_of_trainings  age  previous_year_rating  length_of_service  \\\n0                1   24                   NaN                  1   \n1                1   31                   3.0                  5   \n2                1   31                   1.0                  4   \n3                3   31                   2.0                  9   \n4                1   30                   4.0                  7   \n\n   KPIs_met >80%  awards_won?  avg_training_score  \n0              1            0                  77  \n1              0            0                  51  \n2              0            0                  47  \n3              0            0                  65  \n4              0            0                  61  ",
            "text/html": "<div>\n<style scoped>\n    .dataframe tbody tr th:only-of-type {\n        vertical-align: middle;\n    }\n\n    .dataframe tbody tr th {\n        vertical-align: top;\n    }\n\n    .dataframe thead th {\n        text-align: right;\n    }\n</style>\n<table border=\"1\" class=\"dataframe\">\n  <thead>\n    <tr style=\"text-align: right;\">\n      <th></th>\n      <th>department</th>\n      <th>region</th>\n      <th>education</th>\n      <th>gender</th>\n      <th>recruitment_channel</th>\n      <th>no_of_trainings</th>\n      <th>age</th>\n      <th>previous_year_rating</th>\n      <th>length_of_service</th>\n      <th>KPIs_met &gt;80%</th>\n      <th>awards_won?</th>\n      <th>avg_training_score</th>\n    </tr>\n  </thead>\n  <tbody>\n    <tr>\n      <th>0</th>\n      <td>Technology</td>\n      <td>region_26</td>\n      <td>Bachelor's</td>\n      <td>m</td>\n      <td>sourcing</td>\n      <td>1</td>\n      <td>24</td>\n      <td>NaN</td>\n      <td>1</td>\n      <td>1</td>\n      <td>0</td>\n      <td>77</td>\n    </tr>\n    <tr>\n      <th>1</th>\n      <td>HR</td>\n      <td>region_4</td>\n      <td>Bachelor's</td>\n      <td>f</td>\n      <td>other</td>\n      <td>1</td>\n      <td>31</td>\n      <td>3.0</td>\n      <td>5</td>\n      <td>0</td>\n      <td>0</td>\n      <td>51</td>\n    </tr>\n    <tr>\n      <th>2</th>\n      <td>Sales &amp; Marketing</td>\n      <td>region_13</td>\n      <td>Bachelor's</td>\n      <td>m</td>\n      <td>other</td>\n      <td>1</td>\n      <td>31</td>\n      <td>1.0</td>\n      <td>4</td>\n      <td>0</td>\n      <td>0</td>\n      <td>47</td>\n    </tr>\n    <tr>\n      <th>3</th>\n      <td>Procurement</td>\n      <td>region_2</td>\n      <td>Bachelor's</td>\n      <td>f</td>\n      <td>other</td>\n      <td>3</td>\n      <td>31</td>\n      <td>2.0</td>\n      <td>9</td>\n      <td>0</td>\n      <td>0</td>\n      <td>65</td>\n    </tr>\n    <tr>\n      <th>4</th>\n      <td>Finance</td>\n      <td>region_29</td>\n      <td>Bachelor's</td>\n      <td>m</td>\n      <td>sourcing</td>\n      <td>1</td>\n      <td>30</td>\n      <td>4.0</td>\n      <td>7</td>\n      <td>0</td>\n      <td>0</td>\n      <td>61</td>\n    </tr>\n  </tbody>\n</table>\n</div>"
          },
          "metadata": {}
        }
      ]
    },
    {
      "metadata": {
        "collapsed": true,
        "trusted": true,
        "_uuid": "2c59197cac0b3c20984bf0066bb77154e79aa158"
      },
      "cell_type": "code",
      "source": "test['education'].fillna('other',inplace=True)\ntest['previous_year_rating'].fillna(99,inplace=True)\n\ntrain['education'].fillna('other',inplace=True)\ntrain['previous_year_rating'].fillna(99,inplace=True)",
      "execution_count": 120,
      "outputs": []
    },
    {
      "metadata": {
        "_uuid": "e19dc042f8d583d6a0e9b9db9bbad37e239d487a"
      },
      "cell_type": "markdown",
      "source": "### Logistic Regression"
    },
    {
      "metadata": {
        "trusted": true,
        "_uuid": "717d57ada7bcd2e53b231c07322c896d12c8e63c"
      },
      "cell_type": "code",
      "source": "train.head()",
      "execution_count": 121,
      "outputs": [
        {
          "output_type": "execute_result",
          "execution_count": 121,
          "data": {
            "text/plain": "          department     region         education gender recruitment_channel  \\\n0  Sales & Marketing   region_7  Master's & above      f            sourcing   \n1         Operations  region_22        Bachelor's      m               other   \n2  Sales & Marketing  region_19        Bachelor's      m            sourcing   \n3  Sales & Marketing  region_23        Bachelor's      m               other   \n4         Technology  region_26        Bachelor's      m               other   \n\n   no_of_trainings  age  previous_year_rating  length_of_service  \\\n0                1   35                   5.0                  8   \n1                1   30                   5.0                  4   \n2                1   34                   3.0                  7   \n3                2   39                   1.0                 10   \n4                1   45                   3.0                  2   \n\n   KPIs_met >80%  awards_won?  avg_training_score  is_promoted  \n0              1            0                  49            0  \n1              0            0                  60            0  \n2              0            0                  50            0  \n3              0            0                  50            0  \n4              0            0                  73            0  ",
            "text/html": "<div>\n<style scoped>\n    .dataframe tbody tr th:only-of-type {\n        vertical-align: middle;\n    }\n\n    .dataframe tbody tr th {\n        vertical-align: top;\n    }\n\n    .dataframe thead th {\n        text-align: right;\n    }\n</style>\n<table border=\"1\" class=\"dataframe\">\n  <thead>\n    <tr style=\"text-align: right;\">\n      <th></th>\n      <th>department</th>\n      <th>region</th>\n      <th>education</th>\n      <th>gender</th>\n      <th>recruitment_channel</th>\n      <th>no_of_trainings</th>\n      <th>age</th>\n      <th>previous_year_rating</th>\n      <th>length_of_service</th>\n      <th>KPIs_met &gt;80%</th>\n      <th>awards_won?</th>\n      <th>avg_training_score</th>\n      <th>is_promoted</th>\n    </tr>\n  </thead>\n  <tbody>\n    <tr>\n      <th>0</th>\n      <td>Sales &amp; Marketing</td>\n      <td>region_7</td>\n      <td>Master's &amp; above</td>\n      <td>f</td>\n      <td>sourcing</td>\n      <td>1</td>\n      <td>35</td>\n      <td>5.0</td>\n      <td>8</td>\n      <td>1</td>\n      <td>0</td>\n      <td>49</td>\n      <td>0</td>\n    </tr>\n    <tr>\n      <th>1</th>\n      <td>Operations</td>\n      <td>region_22</td>\n      <td>Bachelor's</td>\n      <td>m</td>\n      <td>other</td>\n      <td>1</td>\n      <td>30</td>\n      <td>5.0</td>\n      <td>4</td>\n      <td>0</td>\n      <td>0</td>\n      <td>60</td>\n      <td>0</td>\n    </tr>\n    <tr>\n      <th>2</th>\n      <td>Sales &amp; Marketing</td>\n      <td>region_19</td>\n      <td>Bachelor's</td>\n      <td>m</td>\n      <td>sourcing</td>\n      <td>1</td>\n      <td>34</td>\n      <td>3.0</td>\n      <td>7</td>\n      <td>0</td>\n      <td>0</td>\n      <td>50</td>\n      <td>0</td>\n    </tr>\n    <tr>\n      <th>3</th>\n      <td>Sales &amp; Marketing</td>\n      <td>region_23</td>\n      <td>Bachelor's</td>\n      <td>m</td>\n      <td>other</td>\n      <td>2</td>\n      <td>39</td>\n      <td>1.0</td>\n      <td>10</td>\n      <td>0</td>\n      <td>0</td>\n      <td>50</td>\n      <td>0</td>\n    </tr>\n    <tr>\n      <th>4</th>\n      <td>Technology</td>\n      <td>region_26</td>\n      <td>Bachelor's</td>\n      <td>m</td>\n      <td>other</td>\n      <td>1</td>\n      <td>45</td>\n      <td>3.0</td>\n      <td>2</td>\n      <td>0</td>\n      <td>0</td>\n      <td>73</td>\n      <td>0</td>\n    </tr>\n  </tbody>\n</table>\n</div>"
          },
          "metadata": {}
        }
      ]
    },
    {
      "metadata": {
        "collapsed": true,
        "trusted": true,
        "_uuid": "9d27eeb9cae2d1b88f5b6c26ffe534e2d7f55757"
      },
      "cell_type": "code",
      "source": "# Save target variable in separate dataset\nX = train.drop('is_promoted',axis=1)\ny = train.is_promoted",
      "execution_count": 126,
      "outputs": []
    },
    {
      "metadata": {
        "trusted": true,
        "_uuid": "54d158376d4474904ba58561e4ff81e49c6fbc24"
      },
      "cell_type": "code",
      "source": "test",
      "execution_count": 129,
      "outputs": [
        {
          "output_type": "execute_result",
          "execution_count": 129,
          "data": {
            "text/plain": "              department     region         education gender  \\\n0             Technology  region_26        Bachelor's      m   \n1                     HR   region_4        Bachelor's      f   \n2      Sales & Marketing  region_13        Bachelor's      m   \n3            Procurement   region_2        Bachelor's      f   \n4                Finance  region_29        Bachelor's      m   \n5            Procurement   region_7        Bachelor's      m   \n6                Finance   region_2        Bachelor's      m   \n7              Analytics  region_22        Bachelor's      m   \n8             Technology   region_7  Master's & above      m   \n9             Technology  region_22        Bachelor's      m   \n10     Sales & Marketing  region_16        Bachelor's      m   \n11     Sales & Marketing  region_17  Master's & above      m   \n12     Sales & Marketing   region_4  Master's & above      f   \n13             Analytics  region_24        Bachelor's      m   \n14            Operations  region_11        Bachelor's      m   \n15     Sales & Marketing   region_7        Bachelor's      m   \n16            Operations  region_27        Bachelor's      f   \n17     Sales & Marketing  region_17        Bachelor's      m   \n18           Procurement   region_7        Bachelor's      f   \n19           Procurement  region_27        Bachelor's      m   \n20     Sales & Marketing   region_9  Master's & above      m   \n21            Technology  region_17        Bachelor's      m   \n22            Technology  region_29  Master's & above      m   \n23           Procurement   region_4  Master's & above      m   \n24               Finance  region_20        Bachelor's      f   \n25            Operations  region_20        Bachelor's      m   \n26     Sales & Marketing  region_17  Master's & above      m   \n27             Analytics  region_13        Bachelor's      m   \n28            Operations  region_22        Bachelor's      m   \n29     Sales & Marketing  region_34        Bachelor's      m   \n...                  ...        ...               ...    ...   \n23460         Operations  region_32        Bachelor's      f   \n23461  Sales & Marketing  region_22        Bachelor's      f   \n23462          Analytics  region_31        Bachelor's      m   \n23463          Analytics  region_21        Bachelor's      m   \n23464          Analytics   region_2        Bachelor's      m   \n23465         Technology   region_7        Bachelor's      f   \n23466         Technology   region_2  Master's & above      f   \n23467         Technology   region_2        Bachelor's      m   \n23468  Sales & Marketing   region_2        Bachelor's      m   \n23469        Procurement  region_26        Bachelor's      f   \n23470  Sales & Marketing  region_30        Bachelor's      m   \n23471        Procurement  region_13  Master's & above      m   \n23472         Technology   region_6        Bachelor's      f   \n23473         Operations  region_25  Master's & above      m   \n23474         Operations   region_7  Master's & above      f   \n23475              Legal  region_27        Bachelor's      f   \n23476  Sales & Marketing   region_2  Master's & above      f   \n23477        Procurement   region_2        Bachelor's      m   \n23478        Procurement  region_17        Bachelor's      f   \n23479  Sales & Marketing   region_2        Bachelor's      m   \n23480         Operations  region_33        Bachelor's      f   \n23481         Operations  region_22  Master's & above      m   \n23482  Sales & Marketing   region_2             other      m   \n23483  Sales & Marketing  region_30        Bachelor's      m   \n23484  Sales & Marketing  region_20        Bachelor's      m   \n23485              Legal   region_2   Below Secondary      m   \n23486         Technology  region_25        Bachelor's      m   \n23487                 HR  region_16        Bachelor's      f   \n23488        Procurement  region_31        Bachelor's      m   \n23489         Technology  region_17  Master's & above      m   \n\n      recruitment_channel  no_of_trainings  age  previous_year_rating  \\\n0                sourcing                1   24                  99.0   \n1                   other                1   31                   3.0   \n2                   other                1   31                   1.0   \n3                   other                3   31                   2.0   \n4                sourcing                1   30                   4.0   \n5                sourcing                1   36                   3.0   \n6                   other                1   33                   5.0   \n7                sourcing                2   36                   3.0   \n8                   other                1   51                   4.0   \n9                sourcing                1   29                   5.0   \n10               sourcing                2   40                   5.0   \n11               sourcing                1   40                   3.0   \n12                  other                1   34                   3.0   \n13                  other                1   37                   3.0   \n14               sourcing                1   30                   5.0   \n15               sourcing                1   31                   4.0   \n16               sourcing                1   26                   5.0   \n17               sourcing                1   40                   5.0   \n18                  other                1   49                   3.0   \n19                  other                1   27                   2.0   \n20               sourcing                1   37                   5.0   \n21               sourcing                1   25                  99.0   \n22               sourcing                1   30                   1.0   \n23                  other                1   41                   3.0   \n24                  other                1   29                   4.0   \n25                  other                1   33                   3.0   \n26               sourcing                1   34                   4.0   \n27               sourcing                1   34                   3.0   \n28                  other                1   52                   1.0   \n29               sourcing                1   30                   2.0   \n...                   ...              ...  ...                   ...   \n23460               other                1   31                   4.0   \n23461               other                2   27                   4.0   \n23462               other                1   36                   5.0   \n23463               other                1   30                   3.0   \n23464            sourcing                2   25                   1.0   \n23465            sourcing                1   24                   4.0   \n23466               other                1   40                   4.0   \n23467            referred                2   28                   4.0   \n23468               other                1   32                   2.0   \n23469               other                1   30                   1.0   \n23470            sourcing                1   36                   5.0   \n23471            sourcing                1   40                   4.0   \n23472               other                1   29                   3.0   \n23473            sourcing                1   38                   3.0   \n23474               other                2   43                   3.0   \n23475            sourcing                1   28                   3.0   \n23476               other                1   51                   4.0   \n23477            sourcing                3   28                   4.0   \n23478            sourcing                1   27                   4.0   \n23479               other                3   20                  99.0   \n23480            sourcing                1   29                   5.0   \n23481               other                2   40                   5.0   \n23482            sourcing                2   44                   4.0   \n23483               other                1   34                   3.0   \n23484               other                1   28                   4.0   \n23485            sourcing                1   24                   3.0   \n23486            sourcing                1   31                   3.0   \n23487            sourcing                1   26                   4.0   \n23488            sourcing                3   27                  99.0   \n23489               other                3   40                   5.0   \n\n       length_of_service  KPIs_met >80%  awards_won?  avg_training_score  \n0                      1              1            0                  77  \n1                      5              0            0                  51  \n2                      4              0            0                  47  \n3                      9              0            0                  65  \n4                      7              0            0                  61  \n5                      2              0            0                  68  \n6                      3              1            0                  57  \n7                      3              0            0                  85  \n8                     11              0            0                  75  \n9                      2              1            0                  76  \n10                    12              1            0                  50  \n11                    10              0            0                  46  \n12                     4              0            0                  52  \n13                    10              0            0                  82  \n14                     6              1            0                  58  \n15                     4              1            0                  47  \n16                     3              0            0                  56  \n17                     6              1            0                  50  \n18                     7              1            0                  64  \n19                     5              0            0                  65  \n20                     3              0            0                  47  \n21                     1              0            0                  80  \n22                     3              0            0                  83  \n23                     4              0            0                  76  \n24                     6              1            0                  58  \n25                     7              1            1                  62  \n26                     6              1            0                  50  \n27                     3              1            0                  87  \n28                    10              0            0                  61  \n29                     3              0            0                  50  \n...                  ...            ...          ...                 ...  \n23460                  7              1            0                  65  \n23461                  4              0            0                  48  \n23462                  7              1            0                  86  \n23463                  3              1            0                  87  \n23464                  2              1            0                  83  \n23465                  2              0            0                  85  \n23466                 10              0            0                  76  \n23467                  6              1            0                  79  \n23468                  6              1            0                  49  \n23469                  1              0            0                  69  \n23470                  3              0            0                  49  \n23471                  9              1            0                  69  \n23472                  3              0            0                  87  \n23473                  8              0            0                  57  \n23474                  3              0            0                  61  \n23475                  2              0            0                  61  \n23476                  8              0            0                  50  \n23477                  6              0            0                  68  \n23478                  3              1            0                  69  \n23479                  1              0            0                  49  \n23480                  6              1            0                  60  \n23481                  3              1            0                  60  \n23482                  4              0            0                  49  \n23483                  5              0            0                  49  \n23484                  2              0            0                  51  \n23485                  1              0            0                  61  \n23486                  7              0            0                  74  \n23487                  4              0            0                  50  \n23488                  1              0            0                  70  \n23489                  5              1            0                  89  \n\n[23490 rows x 12 columns]",
            "text/html": "<div>\n<style scoped>\n    .dataframe tbody tr th:only-of-type {\n        vertical-align: middle;\n    }\n\n    .dataframe tbody tr th {\n        vertical-align: top;\n    }\n\n    .dataframe thead th {\n        text-align: right;\n    }\n</style>\n<table border=\"1\" class=\"dataframe\">\n  <thead>\n    <tr style=\"text-align: right;\">\n      <th></th>\n      <th>department</th>\n      <th>region</th>\n      <th>education</th>\n      <th>gender</th>\n      <th>recruitment_channel</th>\n      <th>no_of_trainings</th>\n      <th>age</th>\n      <th>previous_year_rating</th>\n      <th>length_of_service</th>\n      <th>KPIs_met &gt;80%</th>\n      <th>awards_won?</th>\n      <th>avg_training_score</th>\n    </tr>\n  </thead>\n  <tbody>\n    <tr>\n      <th>0</th>\n      <td>Technology</td>\n      <td>region_26</td>\n      <td>Bachelor's</td>\n      <td>m</td>\n      <td>sourcing</td>\n      <td>1</td>\n      <td>24</td>\n      <td>99.0</td>\n      <td>1</td>\n      <td>1</td>\n      <td>0</td>\n      <td>77</td>\n    </tr>\n    <tr>\n      <th>1</th>\n      <td>HR</td>\n      <td>region_4</td>\n      <td>Bachelor's</td>\n      <td>f</td>\n      <td>other</td>\n      <td>1</td>\n      <td>31</td>\n      <td>3.0</td>\n      <td>5</td>\n      <td>0</td>\n      <td>0</td>\n      <td>51</td>\n    </tr>\n    <tr>\n      <th>2</th>\n      <td>Sales &amp; Marketing</td>\n      <td>region_13</td>\n      <td>Bachelor's</td>\n      <td>m</td>\n      <td>other</td>\n      <td>1</td>\n      <td>31</td>\n      <td>1.0</td>\n      <td>4</td>\n      <td>0</td>\n      <td>0</td>\n      <td>47</td>\n    </tr>\n    <tr>\n      <th>3</th>\n      <td>Procurement</td>\n      <td>region_2</td>\n      <td>Bachelor's</td>\n      <td>f</td>\n      <td>other</td>\n      <td>3</td>\n      <td>31</td>\n      <td>2.0</td>\n      <td>9</td>\n      <td>0</td>\n      <td>0</td>\n      <td>65</td>\n    </tr>\n    <tr>\n      <th>4</th>\n      <td>Finance</td>\n      <td>region_29</td>\n      <td>Bachelor's</td>\n      <td>m</td>\n      <td>sourcing</td>\n      <td>1</td>\n      <td>30</td>\n      <td>4.0</td>\n      <td>7</td>\n      <td>0</td>\n      <td>0</td>\n      <td>61</td>\n    </tr>\n    <tr>\n      <th>5</th>\n      <td>Procurement</td>\n      <td>region_7</td>\n      <td>Bachelor's</td>\n      <td>m</td>\n      <td>sourcing</td>\n      <td>1</td>\n      <td>36</td>\n      <td>3.0</td>\n      <td>2</td>\n      <td>0</td>\n      <td>0</td>\n      <td>68</td>\n    </tr>\n    <tr>\n      <th>6</th>\n      <td>Finance</td>\n      <td>region_2</td>\n      <td>Bachelor's</td>\n      <td>m</td>\n      <td>other</td>\n      <td>1</td>\n      <td>33</td>\n      <td>5.0</td>\n      <td>3</td>\n      <td>1</td>\n      <td>0</td>\n      <td>57</td>\n    </tr>\n    <tr>\n      <th>7</th>\n      <td>Analytics</td>\n      <td>region_22</td>\n      <td>Bachelor's</td>\n      <td>m</td>\n      <td>sourcing</td>\n      <td>2</td>\n      <td>36</td>\n      <td>3.0</td>\n      <td>3</td>\n      <td>0</td>\n      <td>0</td>\n      <td>85</td>\n    </tr>\n    <tr>\n      <th>8</th>\n      <td>Technology</td>\n      <td>region_7</td>\n      <td>Master's &amp; above</td>\n      <td>m</td>\n      <td>other</td>\n      <td>1</td>\n      <td>51</td>\n      <td>4.0</td>\n      <td>11</td>\n      <td>0</td>\n      <td>0</td>\n      <td>75</td>\n    </tr>\n    <tr>\n      <th>9</th>\n      <td>Technology</td>\n      <td>region_22</td>\n      <td>Bachelor's</td>\n      <td>m</td>\n      <td>sourcing</td>\n      <td>1</td>\n      <td>29</td>\n      <td>5.0</td>\n      <td>2</td>\n      <td>1</td>\n      <td>0</td>\n      <td>76</td>\n    </tr>\n    <tr>\n      <th>10</th>\n      <td>Sales &amp; Marketing</td>\n      <td>region_16</td>\n      <td>Bachelor's</td>\n      <td>m</td>\n      <td>sourcing</td>\n      <td>2</td>\n      <td>40</td>\n      <td>5.0</td>\n      <td>12</td>\n      <td>1</td>\n      <td>0</td>\n      <td>50</td>\n    </tr>\n    <tr>\n      <th>11</th>\n      <td>Sales &amp; Marketing</td>\n      <td>region_17</td>\n      <td>Master's &amp; above</td>\n      <td>m</td>\n      <td>sourcing</td>\n      <td>1</td>\n      <td>40</td>\n      <td>3.0</td>\n      <td>10</td>\n      <td>0</td>\n      <td>0</td>\n      <td>46</td>\n    </tr>\n    <tr>\n      <th>12</th>\n      <td>Sales &amp; Marketing</td>\n      <td>region_4</td>\n      <td>Master's &amp; above</td>\n      <td>f</td>\n      <td>other</td>\n      <td>1</td>\n      <td>34</td>\n      <td>3.0</td>\n      <td>4</td>\n      <td>0</td>\n      <td>0</td>\n      <td>52</td>\n    </tr>\n    <tr>\n      <th>13</th>\n      <td>Analytics</td>\n      <td>region_24</td>\n      <td>Bachelor's</td>\n      <td>m</td>\n      <td>other</td>\n      <td>1</td>\n      <td>37</td>\n      <td>3.0</td>\n      <td>10</td>\n      <td>0</td>\n      <td>0</td>\n      <td>82</td>\n    </tr>\n    <tr>\n      <th>14</th>\n      <td>Operations</td>\n      <td>region_11</td>\n      <td>Bachelor's</td>\n      <td>m</td>\n      <td>sourcing</td>\n      <td>1</td>\n      <td>30</td>\n      <td>5.0</td>\n      <td>6</td>\n      <td>1</td>\n      <td>0</td>\n      <td>58</td>\n    </tr>\n    <tr>\n      <th>15</th>\n      <td>Sales &amp; Marketing</td>\n      <td>region_7</td>\n      <td>Bachelor's</td>\n      <td>m</td>\n      <td>sourcing</td>\n      <td>1</td>\n      <td>31</td>\n      <td>4.0</td>\n      <td>4</td>\n      <td>1</td>\n      <td>0</td>\n      <td>47</td>\n    </tr>\n    <tr>\n      <th>16</th>\n      <td>Operations</td>\n      <td>region_27</td>\n      <td>Bachelor's</td>\n      <td>f</td>\n      <td>sourcing</td>\n      <td>1</td>\n      <td>26</td>\n      <td>5.0</td>\n      <td>3</td>\n      <td>0</td>\n      <td>0</td>\n      <td>56</td>\n    </tr>\n    <tr>\n      <th>17</th>\n      <td>Sales &amp; Marketing</td>\n      <td>region_17</td>\n      <td>Bachelor's</td>\n      <td>m</td>\n      <td>sourcing</td>\n      <td>1</td>\n      <td>40</td>\n      <td>5.0</td>\n      <td>6</td>\n      <td>1</td>\n      <td>0</td>\n      <td>50</td>\n    </tr>\n    <tr>\n      <th>18</th>\n      <td>Procurement</td>\n      <td>region_7</td>\n      <td>Bachelor's</td>\n      <td>f</td>\n      <td>other</td>\n      <td>1</td>\n      <td>49</td>\n      <td>3.0</td>\n      <td>7</td>\n      <td>1</td>\n      <td>0</td>\n      <td>64</td>\n    </tr>\n    <tr>\n      <th>19</th>\n      <td>Procurement</td>\n      <td>region_27</td>\n      <td>Bachelor's</td>\n      <td>m</td>\n      <td>other</td>\n      <td>1</td>\n      <td>27</td>\n      <td>2.0</td>\n      <td>5</td>\n      <td>0</td>\n      <td>0</td>\n      <td>65</td>\n    </tr>\n    <tr>\n      <th>20</th>\n      <td>Sales &amp; Marketing</td>\n      <td>region_9</td>\n      <td>Master's &amp; above</td>\n      <td>m</td>\n      <td>sourcing</td>\n      <td>1</td>\n      <td>37</td>\n      <td>5.0</td>\n      <td>3</td>\n      <td>0</td>\n      <td>0</td>\n      <td>47</td>\n    </tr>\n    <tr>\n      <th>21</th>\n      <td>Technology</td>\n      <td>region_17</td>\n      <td>Bachelor's</td>\n      <td>m</td>\n      <td>sourcing</td>\n      <td>1</td>\n      <td>25</td>\n      <td>99.0</td>\n      <td>1</td>\n      <td>0</td>\n      <td>0</td>\n      <td>80</td>\n    </tr>\n    <tr>\n      <th>22</th>\n      <td>Technology</td>\n      <td>region_29</td>\n      <td>Master's &amp; above</td>\n      <td>m</td>\n      <td>sourcing</td>\n      <td>1</td>\n      <td>30</td>\n      <td>1.0</td>\n      <td>3</td>\n      <td>0</td>\n      <td>0</td>\n      <td>83</td>\n    </tr>\n    <tr>\n      <th>23</th>\n      <td>Procurement</td>\n      <td>region_4</td>\n      <td>Master's &amp; above</td>\n      <td>m</td>\n      <td>other</td>\n      <td>1</td>\n      <td>41</td>\n      <td>3.0</td>\n      <td>4</td>\n      <td>0</td>\n      <td>0</td>\n      <td>76</td>\n    </tr>\n    <tr>\n      <th>24</th>\n      <td>Finance</td>\n      <td>region_20</td>\n      <td>Bachelor's</td>\n      <td>f</td>\n      <td>other</td>\n      <td>1</td>\n      <td>29</td>\n      <td>4.0</td>\n      <td>6</td>\n      <td>1</td>\n      <td>0</td>\n      <td>58</td>\n    </tr>\n    <tr>\n      <th>25</th>\n      <td>Operations</td>\n      <td>region_20</td>\n      <td>Bachelor's</td>\n      <td>m</td>\n      <td>other</td>\n      <td>1</td>\n      <td>33</td>\n      <td>3.0</td>\n      <td>7</td>\n      <td>1</td>\n      <td>1</td>\n      <td>62</td>\n    </tr>\n    <tr>\n      <th>26</th>\n      <td>Sales &amp; Marketing</td>\n      <td>region_17</td>\n      <td>Master's &amp; above</td>\n      <td>m</td>\n      <td>sourcing</td>\n      <td>1</td>\n      <td>34</td>\n      <td>4.0</td>\n      <td>6</td>\n      <td>1</td>\n      <td>0</td>\n      <td>50</td>\n    </tr>\n    <tr>\n      <th>27</th>\n      <td>Analytics</td>\n      <td>region_13</td>\n      <td>Bachelor's</td>\n      <td>m</td>\n      <td>sourcing</td>\n      <td>1</td>\n      <td>34</td>\n      <td>3.0</td>\n      <td>3</td>\n      <td>1</td>\n      <td>0</td>\n      <td>87</td>\n    </tr>\n    <tr>\n      <th>28</th>\n      <td>Operations</td>\n      <td>region_22</td>\n      <td>Bachelor's</td>\n      <td>m</td>\n      <td>other</td>\n      <td>1</td>\n      <td>52</td>\n      <td>1.0</td>\n      <td>10</td>\n      <td>0</td>\n      <td>0</td>\n      <td>61</td>\n    </tr>\n    <tr>\n      <th>29</th>\n      <td>Sales &amp; Marketing</td>\n      <td>region_34</td>\n      <td>Bachelor's</td>\n      <td>m</td>\n      <td>sourcing</td>\n      <td>1</td>\n      <td>30</td>\n      <td>2.0</td>\n      <td>3</td>\n      <td>0</td>\n      <td>0</td>\n      <td>50</td>\n    </tr>\n    <tr>\n      <th>...</th>\n      <td>...</td>\n      <td>...</td>\n      <td>...</td>\n      <td>...</td>\n      <td>...</td>\n      <td>...</td>\n      <td>...</td>\n      <td>...</td>\n      <td>...</td>\n      <td>...</td>\n      <td>...</td>\n      <td>...</td>\n    </tr>\n    <tr>\n      <th>23460</th>\n      <td>Operations</td>\n      <td>region_32</td>\n      <td>Bachelor's</td>\n      <td>f</td>\n      <td>other</td>\n      <td>1</td>\n      <td>31</td>\n      <td>4.0</td>\n      <td>7</td>\n      <td>1</td>\n      <td>0</td>\n      <td>65</td>\n    </tr>\n    <tr>\n      <th>23461</th>\n      <td>Sales &amp; Marketing</td>\n      <td>region_22</td>\n      <td>Bachelor's</td>\n      <td>f</td>\n      <td>other</td>\n      <td>2</td>\n      <td>27</td>\n      <td>4.0</td>\n      <td>4</td>\n      <td>0</td>\n      <td>0</td>\n      <td>48</td>\n    </tr>\n    <tr>\n      <th>23462</th>\n      <td>Analytics</td>\n      <td>region_31</td>\n      <td>Bachelor's</td>\n      <td>m</td>\n      <td>other</td>\n      <td>1</td>\n      <td>36</td>\n      <td>5.0</td>\n      <td>7</td>\n      <td>1</td>\n      <td>0</td>\n      <td>86</td>\n    </tr>\n    <tr>\n      <th>23463</th>\n      <td>Analytics</td>\n      <td>region_21</td>\n      <td>Bachelor's</td>\n      <td>m</td>\n      <td>other</td>\n      <td>1</td>\n      <td>30</td>\n      <td>3.0</td>\n      <td>3</td>\n      <td>1</td>\n      <td>0</td>\n      <td>87</td>\n    </tr>\n    <tr>\n      <th>23464</th>\n      <td>Analytics</td>\n      <td>region_2</td>\n      <td>Bachelor's</td>\n      <td>m</td>\n      <td>sourcing</td>\n      <td>2</td>\n      <td>25</td>\n      <td>1.0</td>\n      <td>2</td>\n      <td>1</td>\n      <td>0</td>\n      <td>83</td>\n    </tr>\n    <tr>\n      <th>23465</th>\n      <td>Technology</td>\n      <td>region_7</td>\n      <td>Bachelor's</td>\n      <td>f</td>\n      <td>sourcing</td>\n      <td>1</td>\n      <td>24</td>\n      <td>4.0</td>\n      <td>2</td>\n      <td>0</td>\n      <td>0</td>\n      <td>85</td>\n    </tr>\n    <tr>\n      <th>23466</th>\n      <td>Technology</td>\n      <td>region_2</td>\n      <td>Master's &amp; above</td>\n      <td>f</td>\n      <td>other</td>\n      <td>1</td>\n      <td>40</td>\n      <td>4.0</td>\n      <td>10</td>\n      <td>0</td>\n      <td>0</td>\n      <td>76</td>\n    </tr>\n    <tr>\n      <th>23467</th>\n      <td>Technology</td>\n      <td>region_2</td>\n      <td>Bachelor's</td>\n      <td>m</td>\n      <td>referred</td>\n      <td>2</td>\n      <td>28</td>\n      <td>4.0</td>\n      <td>6</td>\n      <td>1</td>\n      <td>0</td>\n      <td>79</td>\n    </tr>\n    <tr>\n      <th>23468</th>\n      <td>Sales &amp; Marketing</td>\n      <td>region_2</td>\n      <td>Bachelor's</td>\n      <td>m</td>\n      <td>other</td>\n      <td>1</td>\n      <td>32</td>\n      <td>2.0</td>\n      <td>6</td>\n      <td>1</td>\n      <td>0</td>\n      <td>49</td>\n    </tr>\n    <tr>\n      <th>23469</th>\n      <td>Procurement</td>\n      <td>region_26</td>\n      <td>Bachelor's</td>\n      <td>f</td>\n      <td>other</td>\n      <td>1</td>\n      <td>30</td>\n      <td>1.0</td>\n      <td>1</td>\n      <td>0</td>\n      <td>0</td>\n      <td>69</td>\n    </tr>\n    <tr>\n      <th>23470</th>\n      <td>Sales &amp; Marketing</td>\n      <td>region_30</td>\n      <td>Bachelor's</td>\n      <td>m</td>\n      <td>sourcing</td>\n      <td>1</td>\n      <td>36</td>\n      <td>5.0</td>\n      <td>3</td>\n      <td>0</td>\n      <td>0</td>\n      <td>49</td>\n    </tr>\n    <tr>\n      <th>23471</th>\n      <td>Procurement</td>\n      <td>region_13</td>\n      <td>Master's &amp; above</td>\n      <td>m</td>\n      <td>sourcing</td>\n      <td>1</td>\n      <td>40</td>\n      <td>4.0</td>\n      <td>9</td>\n      <td>1</td>\n      <td>0</td>\n      <td>69</td>\n    </tr>\n    <tr>\n      <th>23472</th>\n      <td>Technology</td>\n      <td>region_6</td>\n      <td>Bachelor's</td>\n      <td>f</td>\n      <td>other</td>\n      <td>1</td>\n      <td>29</td>\n      <td>3.0</td>\n      <td>3</td>\n      <td>0</td>\n      <td>0</td>\n      <td>87</td>\n    </tr>\n    <tr>\n      <th>23473</th>\n      <td>Operations</td>\n      <td>region_25</td>\n      <td>Master's &amp; above</td>\n      <td>m</td>\n      <td>sourcing</td>\n      <td>1</td>\n      <td>38</td>\n      <td>3.0</td>\n      <td>8</td>\n      <td>0</td>\n      <td>0</td>\n      <td>57</td>\n    </tr>\n    <tr>\n      <th>23474</th>\n      <td>Operations</td>\n      <td>region_7</td>\n      <td>Master's &amp; above</td>\n      <td>f</td>\n      <td>other</td>\n      <td>2</td>\n      <td>43</td>\n      <td>3.0</td>\n      <td>3</td>\n      <td>0</td>\n      <td>0</td>\n      <td>61</td>\n    </tr>\n    <tr>\n      <th>23475</th>\n      <td>Legal</td>\n      <td>region_27</td>\n      <td>Bachelor's</td>\n      <td>f</td>\n      <td>sourcing</td>\n      <td>1</td>\n      <td>28</td>\n      <td>3.0</td>\n      <td>2</td>\n      <td>0</td>\n      <td>0</td>\n      <td>61</td>\n    </tr>\n    <tr>\n      <th>23476</th>\n      <td>Sales &amp; Marketing</td>\n      <td>region_2</td>\n      <td>Master's &amp; above</td>\n      <td>f</td>\n      <td>other</td>\n      <td>1</td>\n      <td>51</td>\n      <td>4.0</td>\n      <td>8</td>\n      <td>0</td>\n      <td>0</td>\n      <td>50</td>\n    </tr>\n    <tr>\n      <th>23477</th>\n      <td>Procurement</td>\n      <td>region_2</td>\n      <td>Bachelor's</td>\n      <td>m</td>\n      <td>sourcing</td>\n      <td>3</td>\n      <td>28</td>\n      <td>4.0</td>\n      <td>6</td>\n      <td>0</td>\n      <td>0</td>\n      <td>68</td>\n    </tr>\n    <tr>\n      <th>23478</th>\n      <td>Procurement</td>\n      <td>region_17</td>\n      <td>Bachelor's</td>\n      <td>f</td>\n      <td>sourcing</td>\n      <td>1</td>\n      <td>27</td>\n      <td>4.0</td>\n      <td>3</td>\n      <td>1</td>\n      <td>0</td>\n      <td>69</td>\n    </tr>\n    <tr>\n      <th>23479</th>\n      <td>Sales &amp; Marketing</td>\n      <td>region_2</td>\n      <td>Bachelor's</td>\n      <td>m</td>\n      <td>other</td>\n      <td>3</td>\n      <td>20</td>\n      <td>99.0</td>\n      <td>1</td>\n      <td>0</td>\n      <td>0</td>\n      <td>49</td>\n    </tr>\n    <tr>\n      <th>23480</th>\n      <td>Operations</td>\n      <td>region_33</td>\n      <td>Bachelor's</td>\n      <td>f</td>\n      <td>sourcing</td>\n      <td>1</td>\n      <td>29</td>\n      <td>5.0</td>\n      <td>6</td>\n      <td>1</td>\n      <td>0</td>\n      <td>60</td>\n    </tr>\n    <tr>\n      <th>23481</th>\n      <td>Operations</td>\n      <td>region_22</td>\n      <td>Master's &amp; above</td>\n      <td>m</td>\n      <td>other</td>\n      <td>2</td>\n      <td>40</td>\n      <td>5.0</td>\n      <td>3</td>\n      <td>1</td>\n      <td>0</td>\n      <td>60</td>\n    </tr>\n    <tr>\n      <th>23482</th>\n      <td>Sales &amp; Marketing</td>\n      <td>region_2</td>\n      <td>other</td>\n      <td>m</td>\n      <td>sourcing</td>\n      <td>2</td>\n      <td>44</td>\n      <td>4.0</td>\n      <td>4</td>\n      <td>0</td>\n      <td>0</td>\n      <td>49</td>\n    </tr>\n    <tr>\n      <th>23483</th>\n      <td>Sales &amp; Marketing</td>\n      <td>region_30</td>\n      <td>Bachelor's</td>\n      <td>m</td>\n      <td>other</td>\n      <td>1</td>\n      <td>34</td>\n      <td>3.0</td>\n      <td>5</td>\n      <td>0</td>\n      <td>0</td>\n      <td>49</td>\n    </tr>\n    <tr>\n      <th>23484</th>\n      <td>Sales &amp; Marketing</td>\n      <td>region_20</td>\n      <td>Bachelor's</td>\n      <td>m</td>\n      <td>other</td>\n      <td>1</td>\n      <td>28</td>\n      <td>4.0</td>\n      <td>2</td>\n      <td>0</td>\n      <td>0</td>\n      <td>51</td>\n    </tr>\n    <tr>\n      <th>23485</th>\n      <td>Legal</td>\n      <td>region_2</td>\n      <td>Below Secondary</td>\n      <td>m</td>\n      <td>sourcing</td>\n      <td>1</td>\n      <td>24</td>\n      <td>3.0</td>\n      <td>1</td>\n      <td>0</td>\n      <td>0</td>\n      <td>61</td>\n    </tr>\n    <tr>\n      <th>23486</th>\n      <td>Technology</td>\n      <td>region_25</td>\n      <td>Bachelor's</td>\n      <td>m</td>\n      <td>sourcing</td>\n      <td>1</td>\n      <td>31</td>\n      <td>3.0</td>\n      <td>7</td>\n      <td>0</td>\n      <td>0</td>\n      <td>74</td>\n    </tr>\n    <tr>\n      <th>23487</th>\n      <td>HR</td>\n      <td>region_16</td>\n      <td>Bachelor's</td>\n      <td>f</td>\n      <td>sourcing</td>\n      <td>1</td>\n      <td>26</td>\n      <td>4.0</td>\n      <td>4</td>\n      <td>0</td>\n      <td>0</td>\n      <td>50</td>\n    </tr>\n    <tr>\n      <th>23488</th>\n      <td>Procurement</td>\n      <td>region_31</td>\n      <td>Bachelor's</td>\n      <td>m</td>\n      <td>sourcing</td>\n      <td>3</td>\n      <td>27</td>\n      <td>99.0</td>\n      <td>1</td>\n      <td>0</td>\n      <td>0</td>\n      <td>70</td>\n    </tr>\n    <tr>\n      <th>23489</th>\n      <td>Technology</td>\n      <td>region_17</td>\n      <td>Master's &amp; above</td>\n      <td>m</td>\n      <td>other</td>\n      <td>3</td>\n      <td>40</td>\n      <td>5.0</td>\n      <td>5</td>\n      <td>1</td>\n      <td>0</td>\n      <td>89</td>\n    </tr>\n  </tbody>\n</table>\n<p>23490 rows × 12 columns</p>\n</div>"
          },
          "metadata": {}
        }
      ]
    },
    {
      "metadata": {
        "collapsed": true,
        "trusted": true,
        "_uuid": "f4f266e38e7a900c1a03a2c2031bab3a5b47c743"
      },
      "cell_type": "code",
      "source": "# Apply dummies to the dataset\nX=pd.get_dummies(X)\ntest=pd.get_dummies(test)",
      "execution_count": 130,
      "outputs": []
    },
    {
      "metadata": {
        "collapsed": true,
        "trusted": true,
        "_uuid": "69c6f1ef5f4e8f476a6317b4121a363a24f6a080"
      },
      "cell_type": "code",
      "source": "from sklearn.linear_model import LogisticRegression\nfrom sklearn.model_selection import StratifiedKFold\nfrom sklearn.metrics import f1_score",
      "execution_count": 131,
      "outputs": []
    },
    {
      "metadata": {
        "trusted": true,
        "_uuid": "aca76f9c13049856cf966ff4c3ce636d829abc01"
      },
      "cell_type": "code",
      "source": "# Logistic regression using 5 fold stratified cross validation\ni=1\nkf = StratifiedKFold(n_splits=5,random_state=1,shuffle=True)\nfor train_index,test_index in kf.split(X,y):\n     print('\\n{} of kfold {}'.format(i,kf.n_splits))\n     xtr,xvl = X.loc[train_index],X.loc[test_index]\n     ytr,yvl = y[train_index],y[test_index]\n    \n     model = LogisticRegression(random_state=1)\n     model.fit(xtr, ytr)\n     pred=model.predict_proba(xvl)[:,1]\n     score = f1_score(yvl,pred.round())\n     print('f1_score',score)\n     i+=1\n# Making predictions for the test data\npred=model.predict_proba(test)[:,1]",
      "execution_count": 135,
      "outputs": [
        {
          "output_type": "stream",
          "text": "\n1 of kfold 5\nf1_score 0.3530391340549542\n\n2 of kfold 5\nf1_score 0.38372093023255816\n\n3 of kfold 5\nf1_score 0.3692564745196324\n\n4 of kfold 5\nf1_score 0.38259441707717573\n\n5 of kfold 5\nf1_score 0.37615449202350965\n",
          "name": "stdout"
        }
      ]
    },
    {
      "metadata": {
        "collapsed": true,
        "trusted": true,
        "_uuid": "9afcd37e809cd5b3dd6c79711cb94caeb91149eb"
      },
      "cell_type": "code",
      "source": "# Read the submission file\nsubmission=pd.read_csv(\"sample_submission.csv\")",
      "execution_count": 136,
      "outputs": []
    },
    {
      "metadata": {
        "trusted": true,
        "_uuid": "5b4ba649b5a8f0846d1dcc287513925e64ab6c8a"
      },
      "cell_type": "code",
      "source": "submission.head()",
      "execution_count": 137,
      "outputs": [
        {
          "output_type": "execute_result",
          "execution_count": 137,
          "data": {
            "text/plain": "   employee_id  is_promoted\n0         8724            0\n1        74430            0\n2        72255            0\n3        38562            0\n4        64486            0",
            "text/html": "<div>\n<style scoped>\n    .dataframe tbody tr th:only-of-type {\n        vertical-align: middle;\n    }\n\n    .dataframe tbody tr th {\n        vertical-align: top;\n    }\n\n    .dataframe thead th {\n        text-align: right;\n    }\n</style>\n<table border=\"1\" class=\"dataframe\">\n  <thead>\n    <tr style=\"text-align: right;\">\n      <th></th>\n      <th>employee_id</th>\n      <th>is_promoted</th>\n    </tr>\n  </thead>\n  <tbody>\n    <tr>\n      <th>0</th>\n      <td>8724</td>\n      <td>0</td>\n    </tr>\n    <tr>\n      <th>1</th>\n      <td>74430</td>\n      <td>0</td>\n    </tr>\n    <tr>\n      <th>2</th>\n      <td>72255</td>\n      <td>0</td>\n    </tr>\n    <tr>\n      <th>3</th>\n      <td>38562</td>\n      <td>0</td>\n    </tr>\n    <tr>\n      <th>4</th>\n      <td>64486</td>\n      <td>0</td>\n    </tr>\n  </tbody>\n</table>\n</div>"
          },
          "metadata": {}
        }
      ]
    },
    {
      "metadata": {
        "collapsed": true,
        "trusted": true,
        "_uuid": "963cdc37a3b48c94017c16d526f3408d59a729c3"
      },
      "cell_type": "code",
      "source": "# Fill the is_pass variable with the predictions\nsubmission['is_promoted']=pred.round()",
      "execution_count": 138,
      "outputs": []
    },
    {
      "metadata": {
        "trusted": true,
        "_uuid": "aaeae3e0f59d45bab89318e8938bd0d77b17a123"
      },
      "cell_type": "code",
      "source": "submission.head()",
      "execution_count": 139,
      "outputs": [
        {
          "output_type": "execute_result",
          "execution_count": 139,
          "data": {
            "text/plain": "   employee_id  is_promoted\n0         8724          0.0\n1        74430          0.0\n2        72255          0.0\n3        38562          0.0\n4        64486          0.0",
            "text/html": "<div>\n<style scoped>\n    .dataframe tbody tr th:only-of-type {\n        vertical-align: middle;\n    }\n\n    .dataframe tbody tr th {\n        vertical-align: top;\n    }\n\n    .dataframe thead th {\n        text-align: right;\n    }\n</style>\n<table border=\"1\" class=\"dataframe\">\n  <thead>\n    <tr style=\"text-align: right;\">\n      <th></th>\n      <th>employee_id</th>\n      <th>is_promoted</th>\n    </tr>\n  </thead>\n  <tbody>\n    <tr>\n      <th>0</th>\n      <td>8724</td>\n      <td>0.0</td>\n    </tr>\n    <tr>\n      <th>1</th>\n      <td>74430</td>\n      <td>0.0</td>\n    </tr>\n    <tr>\n      <th>2</th>\n      <td>72255</td>\n      <td>0.0</td>\n    </tr>\n    <tr>\n      <th>3</th>\n      <td>38562</td>\n      <td>0.0</td>\n    </tr>\n    <tr>\n      <th>4</th>\n      <td>64486</td>\n      <td>0.0</td>\n    </tr>\n  </tbody>\n</table>\n</div>"
          },
          "metadata": {}
        }
      ]
    },
    {
      "metadata": {
        "trusted": true,
        "_uuid": "b5f513590f7d9a49a3f5e30b775b9af1555a35c3"
      },
      "cell_type": "code",
      "source": "submission['is_promoted'].value_counts()",
      "execution_count": 140,
      "outputs": [
        {
          "output_type": "execute_result",
          "execution_count": 140,
          "data": {
            "text/plain": "0.0    22935\n1.0      555\nName: is_promoted, dtype: int64"
          },
          "metadata": {}
        }
      ]
    },
    {
      "metadata": {
        "collapsed": true,
        "trusted": true,
        "_uuid": "3800779bb3832dfead3c44df7723a4f71628b475"
      },
      "cell_type": "code",
      "source": "# Converting the submission file to csv format\nsubmission.to_csv('logistic_submission.csv', index=False)",
      "execution_count": 141,
      "outputs": []
    },
    {
      "metadata": {
        "_uuid": "b7dbd31bb3eaa4494d614e4b3aca075a4e833d62"
      },
      "cell_type": "markdown",
      "source": "score on leaderboard - 0.71145"
    }
  ],
  "metadata": {
    "kernelspec": {
      "display_name": "Python 3",
      "language": "python",
      "name": "python3"
    },
    "language_info": {
      "name": "python",
      "version": "3.6.4",
      "mimetype": "text/x-python",
      "codemirror_mode": {
        "name": "ipython",
        "version": 3
      },
      "pygments_lexer": "ipython3",
      "nbconvert_exporter": "python",
      "file_extension": ".py"
    }
  },
  "nbformat": 4,
  "nbformat_minor": 1
}