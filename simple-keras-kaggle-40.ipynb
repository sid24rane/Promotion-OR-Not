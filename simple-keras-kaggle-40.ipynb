{
  "cells": [
    {
      "metadata": {
        "_uuid": "8f2839f25d086af736a60e9eeb907d3b93b6e0e5",
        "_cell_guid": "b1076dfc-b9ad-4769-8c92-a6c4dae69d19",
        "trusted": true,
        "collapsed": true
      },
      "cell_type": "code",
      "source": "!wget https://datahack-prod.s3.amazonaws.com/train_file/train_LZdllcl.csv -O train.csv",
      "execution_count": null,
      "outputs": []
    },
    {
      "metadata": {
        "_cell_guid": "79c7e3d0-c299-4dcb-8224-4455121ee9b0",
        "_uuid": "d629ff2d2480ee46fbb7e2d37f6b5fab8052498a",
        "trusted": true,
        "collapsed": true
      },
      "cell_type": "code",
      "source": "!wget https://datahack-prod.s3.amazonaws.com/test_file/test_2umaH9m.csv -O test.csv",
      "execution_count": null,
      "outputs": []
    },
    {
      "metadata": {
        "trusted": true,
        "_uuid": "99a51040c9393513d8f56663746509eadcbd045b",
        "collapsed": true
      },
      "cell_type": "code",
      "source": "!wget https://datahack-prod.s3.amazonaws.com/sample_submission/sample_submission_M0L0uXE.csv -O sample_submission.csv",
      "execution_count": null,
      "outputs": []
    },
    {
      "metadata": {
        "trusted": true,
        "_uuid": "5589d1dccfaff2505479c7aff227f9b7eba06008",
        "collapsed": true
      },
      "cell_type": "code",
      "source": "import numpy as np\nimport pandas as pd \n\n#keras\nfrom keras.utils import np_utils\nfrom keras.models import Sequential\nfrom keras.layers import Dense, Dropout, Activation\nfrom keras.optimizers import SGD\nfrom keras.optimizers import RMSprop\nfrom keras.optimizers import Adam\nfrom keras.layers import BatchNormalization\nfrom keras.callbacks import ModelCheckpoint\nfrom keras.callbacks import EarlyStopping\nfrom keras.callbacks import ReduceLROnPlateau\n\n#sklearn\nfrom sklearn.model_selection import train_test_split\nfrom sklearn.preprocessing import LabelEncoder\nfrom sklearn.metrics import f1_score\n\n\n#visualisation\nimport seaborn as sns\nimport matplotlib.pyplot as plt\n%matplotlib inline",
      "execution_count": null,
      "outputs": []
    },
    {
      "metadata": {
        "trusted": true,
        "collapsed": true,
        "_uuid": "c35b320d2b9260d284b198da0d40b827fc157a29"
      },
      "cell_type": "code",
      "source": "# fix random seed for reproducibility\nseed = 7\nnp.random.seed(seed)",
      "execution_count": null,
      "outputs": []
    },
    {
      "metadata": {
        "trusted": true,
        "collapsed": true,
        "_uuid": "5092eec174b1244396198aeb4a9f8838a7a3e26f"
      },
      "cell_type": "code",
      "source": "import warnings\nwarnings.filterwarnings('ignore')",
      "execution_count": null,
      "outputs": []
    },
    {
      "metadata": {
        "trusted": true,
        "collapsed": true,
        "_uuid": "d4a769896f40567c96c274eedc5a7bf1c2e13b9f"
      },
      "cell_type": "code",
      "source": "from keras import backend as K\n\ndef f1(y_true, y_pred):\n    def recall(y_true, y_pred):\n        \"\"\"Recall metric.\n\n        Only computes a batch-wise average of recall.\n\n        Computes the recall, a metric for multi-label classification of\n        how many relevant items are selected.\n        \"\"\"\n        true_positives = K.sum(K.round(K.clip(y_true * y_pred, 0, 1)))\n        possible_positives = K.sum(K.round(K.clip(y_true, 0, 1)))\n        recall = true_positives / (possible_positives + K.epsilon())\n        return recall\n\n    def precision(y_true, y_pred):\n        \"\"\"Precision metric.\n\n        Only computes a batch-wise average of precision.\n\n        Computes the precision, a metric for multi-label classification of\n        how many selected items are relevant.\n        \"\"\"\n        true_positives = K.sum(K.round(K.clip(y_true * y_pred, 0, 1)))\n        predicted_positives = K.sum(K.round(K.clip(y_pred, 0, 1)))\n        precision = true_positives / (predicted_positives + K.epsilon())\n        return precision\n    precision = precision(y_true, y_pred)\n    recall = recall(y_true, y_pred)\n    return 2*((precision*recall)/(precision+recall+K.epsilon()))",
      "execution_count": null,
      "outputs": []
    },
    {
      "metadata": {
        "trusted": true,
        "_uuid": "a051f8c7b8aed96830785c100f41d82be0d9ce9b",
        "collapsed": true
      },
      "cell_type": "code",
      "source": "train = pd.read_csv('train.csv')\ntrain.drop('employee_id',inplace=True,axis = 1)\ntrain.head()",
      "execution_count": null,
      "outputs": []
    },
    {
      "metadata": {
        "trusted": true,
        "_uuid": "a7554f3180143804c542b7b4e7f941f9e1870ac5",
        "collapsed": true
      },
      "cell_type": "code",
      "source": "train.dtypes",
      "execution_count": null,
      "outputs": []
    },
    {
      "metadata": {
        "trusted": true,
        "_uuid": "42fbe487f0813f09ef860a8eed57484ce30f5542",
        "collapsed": true
      },
      "cell_type": "code",
      "source": "train.isnull().sum()",
      "execution_count": null,
      "outputs": []
    },
    {
      "metadata": {
        "trusted": true,
        "_uuid": "578985cd85f69ccc93083c3bcd3bd13ac3ae474e",
        "collapsed": true
      },
      "cell_type": "code",
      "source": "train.nunique()",
      "execution_count": null,
      "outputs": []
    },
    {
      "metadata": {
        "trusted": true,
        "collapsed": true,
        "_uuid": "a8c1af2d8bb3a9674ff4582f358f58beba2a4240"
      },
      "cell_type": "code",
      "source": "train['education'].fillna('other',inplace=True)",
      "execution_count": null,
      "outputs": []
    },
    {
      "metadata": {
        "trusted": true,
        "collapsed": true,
        "_uuid": "b2557d53540dd014b58c3b2662308fffc3dd3e8a"
      },
      "cell_type": "code",
      "source": "train['previous_year_rating'].fillna(99,inplace=True)",
      "execution_count": null,
      "outputs": []
    },
    {
      "metadata": {
        "trusted": true,
        "_uuid": "83c54ebdf59c45f3b97fc72eddd23a7e74f379c7",
        "collapsed": true
      },
      "cell_type": "code",
      "source": "train.isnull().sum()",
      "execution_count": null,
      "outputs": []
    },
    {
      "metadata": {
        "trusted": true,
        "_uuid": "b351677bbb95fabb88a5b9ccfb72615a8a023271",
        "collapsed": true
      },
      "cell_type": "code",
      "source": "train['is_promoted'].value_counts(normalize = True)",
      "execution_count": null,
      "outputs": []
    },
    {
      "metadata": {
        "trusted": true,
        "_uuid": "459d78216f5841ff6c99dc241cb5ea1e3987a970",
        "collapsed": true
      },
      "cell_type": "code",
      "source": "train.shape",
      "execution_count": null,
      "outputs": []
    },
    {
      "metadata": {
        "trusted": true,
        "collapsed": true,
        "_uuid": "c44a255a5863ec13812cc7cbeba81511f4fa618e"
      },
      "cell_type": "code",
      "source": "y = train['is_promoted']\ntrain = train.drop(['is_promoted'],axis = 1)",
      "execution_count": null,
      "outputs": []
    },
    {
      "metadata": {
        "trusted": true,
        "_uuid": "f9d8976a4b6241cb8d1ffb2b5a31fdb3f1b8d1b6",
        "collapsed": true
      },
      "cell_type": "code",
      "source": "train.head()",
      "execution_count": null,
      "outputs": []
    },
    {
      "metadata": {
        "trusted": true,
        "_uuid": "523ff9f9262fe9c9c653a39c56c0927d1f9f6bdf",
        "collapsed": true
      },
      "cell_type": "code",
      "source": "train = pd.get_dummies(train)",
      "execution_count": null,
      "outputs": []
    },
    {
      "metadata": {
        "trusted": true,
        "_uuid": "671e849c1c762bf1c178e530c38b90f1008fe5a1",
        "collapsed": true
      },
      "cell_type": "code",
      "source": "train.head()",
      "execution_count": null,
      "outputs": []
    },
    {
      "metadata": {
        "trusted": true,
        "collapsed": true,
        "_uuid": "745826817465bf9ac373787b37e2fc5f37455512"
      },
      "cell_type": "code",
      "source": "X_train, X_valid, y_train, y_valid = train_test_split(train,y,test_size=0.15)",
      "execution_count": null,
      "outputs": []
    },
    {
      "metadata": {
        "trusted": true,
        "_uuid": "06b0b7752fc2f9fd12d5f772942cecdf16dae3a9",
        "collapsed": true
      },
      "cell_type": "code",
      "source": "print('Xtrain shape',X_train.shape)\nprint('Xvalid shape',X_valid.shape)\nprint('ytrain shape',y_train.shape)\nprint('yvalid shape',y_valid.shape)",
      "execution_count": null,
      "outputs": []
    },
    {
      "metadata": {
        "trusted": true,
        "collapsed": true,
        "_uuid": "6534a3a0c2403db74d8e2e557ee9b649c0e3bb81"
      },
      "cell_type": "code",
      "source": "model = Sequential()\n\nmodel.add(Dense(64, input_dim=59, kernel_initializer='normal', activation='relu'))\n\nmodel.add(Dense(128,kernel_initializer='normal', activation='relu'))\nmodel.add(Dropout(0.25))\nmodel.add(BatchNormalization())\n\nmodel.add(Dense(256,kernel_initializer='normal', activation='relu'))\nmodel.add(Dropout(0.25))\nmodel.add(BatchNormalization())\n\nmodel.add(Dense(128,kernel_initializer='normal', activation='relu'))\nmodel.add(Dropout(0.25))\nmodel.add(BatchNormalization())\n\nmodel.add(Dense(64,kernel_initializer='normal', activation='relu'))\n\nmodel.add(Dense(1, kernel_initializer='normal', activation='sigmoid')) ",
      "execution_count": null,
      "outputs": []
    },
    {
      "metadata": {
        "trusted": true,
        "collapsed": true,
        "_uuid": "14029e9ec1dea9cc8e5822b24383e09c07a29d1a"
      },
      "cell_type": "code",
      "source": "sgd = SGD(lr=0.001, decay=1e-6, momentum=0.9, nesterov=True)\n",
      "execution_count": null,
      "outputs": []
    },
    {
      "metadata": {
        "trusted": true,
        "collapsed": true,
        "_uuid": "6bb943d1e2b611acd623534421384775c6088520"
      },
      "cell_type": "code",
      "source": "rmsprop = RMSprop(lr=0.001, rho=0.9, epsilon=None, decay=0.0)\n",
      "execution_count": null,
      "outputs": []
    },
    {
      "metadata": {
        "trusted": true,
        "collapsed": true,
        "_uuid": "2736dfc65467399bb3a6abc140ede123d8b2e057"
      },
      "cell_type": "code",
      "source": "adam = Adam(lr=0.001, beta_1=0.9, beta_2=0.999, epsilon=None, decay=0.0, amsgrad=False)\n",
      "execution_count": null,
      "outputs": []
    },
    {
      "metadata": {
        "trusted": true,
        "collapsed": true,
        "_uuid": "2c3031a9d72e8c7f0510438f377dc1a985aa8a77"
      },
      "cell_type": "code",
      "source": "checkpointer = ModelCheckpoint(filepath='best_weights.hdf5', verbose=1, save_best_only=True)\nreduce_lr = ReduceLROnPlateau(monitor='val_loss', factor=0.2,patience=3, min_lr=0.00001,verbose = 1)\nearly_stopping = EarlyStopping(monitor='val_loss',min_delta=0.0001, patience=5,verbose=1)",
      "execution_count": null,
      "outputs": []
    },
    {
      "metadata": {
        "trusted": true,
        "collapsed": true,
        "_uuid": "88d845a41f4f0b77cd8a0fb221c79ac4c7414209"
      },
      "cell_type": "code",
      "source": "model.compile(loss='binary_crossentropy', optimizer='adam', metrics=[f1])",
      "execution_count": null,
      "outputs": []
    },
    {
      "metadata": {
        "trusted": true,
        "_uuid": "f06c4949427558f04caea8afdceb7c20a0ef4b2c",
        "collapsed": true
      },
      "cell_type": "code",
      "source": "model.summary()",
      "execution_count": null,
      "outputs": []
    },
    {
      "metadata": {
        "trusted": true,
        "_uuid": "5dbeb81a011f0e3adb560594e8a100e697511605",
        "collapsed": true
      },
      "cell_type": "code",
      "source": "model_info = model.fit(X_train,y_train,epochs=50,batch_size=32,validation_data=(X_valid,y_valid),verbose = 1,callbacks=[checkpointer,reduce_lr,early_stopping])",
      "execution_count": null,
      "outputs": []
    }
  ],
  "metadata": {
    "kernelspec": {
      "display_name": "Python 3",
      "language": "python",
      "name": "python3"
    },
    "language_info": {
      "name": "python",
      "version": "3.6.4",
      "mimetype": "text/x-python",
      "codemirror_mode": {
        "name": "ipython",
        "version": 3
      },
      "pygments_lexer": "ipython3",
      "nbconvert_exporter": "python",
      "file_extension": ".py"
    }
  },
  "nbformat": 4,
  "nbformat_minor": 1
}