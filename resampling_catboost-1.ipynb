{
  "nbformat": 4,
  "nbformat_minor": 0,
  "metadata": {
    "colab": {
      "name": "resampling-catboost",
      "version": "0.3.2",
      "provenance": []
    },
    "kernelspec": {
      "display_name": "Python 3",
      "language": "python",
      "name": "python3"
    },
    "accelerator": "GPU"
  },
  "cells": [
    {
      "metadata": {
        "id": "XAVJsYMANGNA",
        "colab_type": "code",
        "colab": {
          "base_uri": "https://localhost:8080/",
          "height": 115
        },
        "outputId": "1ad00c4c-739a-4ed4-a50d-533453a0494d"
      },
      "cell_type": "code",
      "source": [
        "!wget https://datahack-prod.s3.amazonaws.com/train_file/train_LZdllcl.csv -O train.csv\n",
        "\n",
        "!wget https://datahack-prod.s3.amazonaws.com/test_file/test_2umaH9m.csv -O test.csv\n",
        "\n",
        "!wget https://datahack-prod.s3.amazonaws.com/sample_submission/sample_submission_M0L0uXE.csv -O sample_submission.csv"
      ],
      "execution_count": 3,
      "outputs": [
        {
          "output_type": "stream",
          "text": [
            "\n",
            "Redirecting output to ‘wget-log’.\n",
            "\n",
            "Redirecting output to ‘wget-log.1’.\n",
            "\n",
            "Redirecting output to ‘wget-log.2’.\n"
          ],
          "name": "stdout"
        }
      ]
    },
    {
      "metadata": {
        "id": "CuHj1EbTC7WH",
        "colab_type": "text"
      },
      "cell_type": "markdown",
      "source": [
        "**Importing Data**"
      ]
    },
    {
      "metadata": {
        "id": "6x7ttKOgmpRX",
        "colab_type": "code",
        "colab": {
          "base_uri": "https://localhost:8080/",
          "height": 50
        },
        "outputId": "a4a34921-dc7c-4b5e-a7ef-450aee645783"
      },
      "cell_type": "code",
      "source": [
        "!ls"
      ],
      "execution_count": 3,
      "outputs": [
        {
          "output_type": "stream",
          "text": [
            "sample_data\t       test.csv   wget-log    wget-log.2\n",
            "sample_submission.csv  train.csv  wget-log.1\n"
          ],
          "name": "stdout"
        }
      ]
    },
    {
      "metadata": {
        "id": "fRPguJrHNGNF",
        "colab_type": "code",
        "colab": {}
      },
      "cell_type": "code",
      "source": [
        "# Import the required packages\n",
        "import pandas as pd \n",
        "import numpy as np\n",
        "import matplotlib.pyplot as plt \n",
        "%matplotlib inline \n",
        "import seaborn as sns"
      ],
      "execution_count": 0,
      "outputs": []
    },
    {
      "metadata": {
        "id": "cq2EYcKFNGNL",
        "colab_type": "code",
        "colab": {}
      },
      "cell_type": "code",
      "source": [
        "# Read the train and test data\n",
        "train=pd.read_csv(\"train.csv\")\n",
        "train.drop('employee_id',inplace=True,axis = 1)\n",
        "test=pd.read_csv(\"test.csv\")"
      ],
      "execution_count": 0,
      "outputs": []
    },
    {
      "metadata": {
        "id": "PdwgbSXrNGNO",
        "colab_type": "code",
        "colab": {
          "base_uri": "https://localhost:8080/",
          "height": 82
        },
        "outputId": "4bcf5829-9e7e-458a-8f35-4f4ef8da7eb3"
      },
      "cell_type": "code",
      "source": [
        "# Check the variables in train data\n",
        "train.columns"
      ],
      "execution_count": 3,
      "outputs": [
        {
          "output_type": "execute_result",
          "data": {
            "text/plain": [
              "Index(['department', 'region', 'education', 'gender', 'recruitment_channel',\n",
              "       'no_of_trainings', 'age', 'previous_year_rating', 'length_of_service',\n",
              "       'KPIs_met >80%', 'awards_won?', 'avg_training_score', 'is_promoted'],\n",
              "      dtype='object')"
            ]
          },
          "metadata": {
            "tags": []
          },
          "execution_count": 3
        }
      ]
    },
    {
      "metadata": {
        "id": "oWsdjqtvNGNT",
        "colab_type": "code",
        "colab": {
          "base_uri": "https://localhost:8080/",
          "height": 245
        },
        "outputId": "0ce4c798-25aa-4728-d644-104358f9edcd"
      },
      "cell_type": "code",
      "source": [
        "# Print datatype of each variable\n",
        "train.dtypes"
      ],
      "execution_count": 4,
      "outputs": [
        {
          "output_type": "execute_result",
          "data": {
            "text/plain": [
              "department               object\n",
              "region                   object\n",
              "education                object\n",
              "gender                   object\n",
              "recruitment_channel      object\n",
              "no_of_trainings           int64\n",
              "age                       int64\n",
              "previous_year_rating    float64\n",
              "length_of_service         int64\n",
              "KPIs_met >80%             int64\n",
              "awards_won?               int64\n",
              "avg_training_score        int64\n",
              "is_promoted               int64\n",
              "dtype: object"
            ]
          },
          "metadata": {
            "tags": []
          },
          "execution_count": 4
        }
      ]
    },
    {
      "metadata": {
        "id": "nO4UAjrnNGNX",
        "colab_type": "code",
        "colab": {
          "base_uri": "https://localhost:8080/",
          "height": 33
        },
        "outputId": "ac6766c9-61bb-4993-d87e-0225185264ba"
      },
      "cell_type": "code",
      "source": [
        "# Dimension of the train dataset\n",
        "train.shape"
      ],
      "execution_count": 5,
      "outputs": [
        {
          "output_type": "execute_result",
          "data": {
            "text/plain": [
              "(54808, 13)"
            ]
          },
          "metadata": {
            "tags": []
          },
          "execution_count": 5
        }
      ]
    },
    {
      "metadata": {
        "id": "6cgAAB-aNGNc",
        "colab_type": "code",
        "colab": {
          "base_uri": "https://localhost:8080/",
          "height": 276
        },
        "outputId": "f33d9674-790b-4b0c-a363-54223fa9647a"
      },
      "cell_type": "code",
      "source": [
        "# Print the head of train dataset\n",
        "train.head()"
      ],
      "execution_count": 7,
      "outputs": [
        {
          "output_type": "execute_result",
          "data": {
            "text/html": [
              "<div>\n",
              "<style scoped>\n",
              "    .dataframe tbody tr th:only-of-type {\n",
              "        vertical-align: middle;\n",
              "    }\n",
              "\n",
              "    .dataframe tbody tr th {\n",
              "        vertical-align: top;\n",
              "    }\n",
              "\n",
              "    .dataframe thead th {\n",
              "        text-align: right;\n",
              "    }\n",
              "</style>\n",
              "<table border=\"1\" class=\"dataframe\">\n",
              "  <thead>\n",
              "    <tr style=\"text-align: right;\">\n",
              "      <th></th>\n",
              "      <th>department</th>\n",
              "      <th>region</th>\n",
              "      <th>education</th>\n",
              "      <th>gender</th>\n",
              "      <th>recruitment_channel</th>\n",
              "      <th>no_of_trainings</th>\n",
              "      <th>age</th>\n",
              "      <th>previous_year_rating</th>\n",
              "      <th>length_of_service</th>\n",
              "      <th>KPIs_met &gt;80%</th>\n",
              "      <th>awards_won?</th>\n",
              "      <th>avg_training_score</th>\n",
              "      <th>is_promoted</th>\n",
              "    </tr>\n",
              "  </thead>\n",
              "  <tbody>\n",
              "    <tr>\n",
              "      <th>0</th>\n",
              "      <td>Sales &amp; Marketing</td>\n",
              "      <td>region_7</td>\n",
              "      <td>Master's &amp; above</td>\n",
              "      <td>f</td>\n",
              "      <td>sourcing</td>\n",
              "      <td>1</td>\n",
              "      <td>35</td>\n",
              "      <td>5.0</td>\n",
              "      <td>8</td>\n",
              "      <td>1</td>\n",
              "      <td>0</td>\n",
              "      <td>49</td>\n",
              "      <td>0</td>\n",
              "    </tr>\n",
              "    <tr>\n",
              "      <th>1</th>\n",
              "      <td>Operations</td>\n",
              "      <td>region_22</td>\n",
              "      <td>Bachelor's</td>\n",
              "      <td>m</td>\n",
              "      <td>other</td>\n",
              "      <td>1</td>\n",
              "      <td>30</td>\n",
              "      <td>5.0</td>\n",
              "      <td>4</td>\n",
              "      <td>0</td>\n",
              "      <td>0</td>\n",
              "      <td>60</td>\n",
              "      <td>0</td>\n",
              "    </tr>\n",
              "    <tr>\n",
              "      <th>2</th>\n",
              "      <td>Sales &amp; Marketing</td>\n",
              "      <td>region_19</td>\n",
              "      <td>Bachelor's</td>\n",
              "      <td>m</td>\n",
              "      <td>sourcing</td>\n",
              "      <td>1</td>\n",
              "      <td>34</td>\n",
              "      <td>3.0</td>\n",
              "      <td>7</td>\n",
              "      <td>0</td>\n",
              "      <td>0</td>\n",
              "      <td>50</td>\n",
              "      <td>0</td>\n",
              "    </tr>\n",
              "    <tr>\n",
              "      <th>3</th>\n",
              "      <td>Sales &amp; Marketing</td>\n",
              "      <td>region_23</td>\n",
              "      <td>Bachelor's</td>\n",
              "      <td>m</td>\n",
              "      <td>other</td>\n",
              "      <td>2</td>\n",
              "      <td>39</td>\n",
              "      <td>1.0</td>\n",
              "      <td>10</td>\n",
              "      <td>0</td>\n",
              "      <td>0</td>\n",
              "      <td>50</td>\n",
              "      <td>0</td>\n",
              "    </tr>\n",
              "    <tr>\n",
              "      <th>4</th>\n",
              "      <td>Technology</td>\n",
              "      <td>region_26</td>\n",
              "      <td>Bachelor's</td>\n",
              "      <td>m</td>\n",
              "      <td>other</td>\n",
              "      <td>1</td>\n",
              "      <td>45</td>\n",
              "      <td>3.0</td>\n",
              "      <td>2</td>\n",
              "      <td>0</td>\n",
              "      <td>0</td>\n",
              "      <td>73</td>\n",
              "      <td>0</td>\n",
              "    </tr>\n",
              "  </tbody>\n",
              "</table>\n",
              "</div>"
            ],
            "text/plain": [
              "          department     region         education gender recruitment_channel  \\\n",
              "0  Sales & Marketing   region_7  Master's & above      f            sourcing   \n",
              "1         Operations  region_22        Bachelor's      m               other   \n",
              "2  Sales & Marketing  region_19        Bachelor's      m            sourcing   \n",
              "3  Sales & Marketing  region_23        Bachelor's      m               other   \n",
              "4         Technology  region_26        Bachelor's      m               other   \n",
              "\n",
              "   no_of_trainings  age  previous_year_rating  length_of_service  \\\n",
              "0                1   35                   5.0                  8   \n",
              "1                1   30                   5.0                  4   \n",
              "2                1   34                   3.0                  7   \n",
              "3                2   39                   1.0                 10   \n",
              "4                1   45                   3.0                  2   \n",
              "\n",
              "   KPIs_met >80%  awards_won?  avg_training_score  is_promoted  \n",
              "0              1            0                  49            0  \n",
              "1              0            0                  60            0  \n",
              "2              0            0                  50            0  \n",
              "3              0            0                  50            0  \n",
              "4              0            0                  73            0  "
            ]
          },
          "metadata": {
            "tags": []
          },
          "execution_count": 7
        }
      ]
    },
    {
      "metadata": {
        "id": "jnmpvdF6NGNg",
        "colab_type": "code",
        "colab": {
          "base_uri": "https://localhost:8080/",
          "height": 245
        },
        "outputId": "eca3f227-0ab2-4dde-ca4d-cae61c5c5464"
      },
      "cell_type": "code",
      "source": [
        "# Unique values in each variable of train dataset\n",
        "train.nunique()"
      ],
      "execution_count": 8,
      "outputs": [
        {
          "output_type": "execute_result",
          "data": {
            "text/plain": [
              "department               9\n",
              "region                  34\n",
              "education                3\n",
              "gender                   2\n",
              "recruitment_channel      3\n",
              "no_of_trainings         10\n",
              "age                     41\n",
              "previous_year_rating     5\n",
              "length_of_service       35\n",
              "KPIs_met >80%            2\n",
              "awards_won?              2\n",
              "avg_training_score      61\n",
              "is_promoted              2\n",
              "dtype: int64"
            ]
          },
          "metadata": {
            "tags": []
          },
          "execution_count": 8
        }
      ]
    },
    {
      "metadata": {
        "id": "63hFq_tGNGNl",
        "colab_type": "text"
      },
      "cell_type": "markdown",
      "source": [
        "### Univariate Analysis"
      ]
    },
    {
      "metadata": {
        "id": "zXFSBPx9NGNl",
        "colab_type": "text"
      },
      "cell_type": "markdown",
      "source": [
        "#### Target Variable"
      ]
    },
    {
      "metadata": {
        "id": "4QPwm5R5NGNn",
        "colab_type": "code",
        "colab": {
          "base_uri": "https://localhost:8080/",
          "height": 66
        },
        "outputId": "7e6ef224-465c-4a48-c4e2-8d2852a3339e"
      },
      "cell_type": "code",
      "source": [
        "train['is_promoted'].value_counts(normalize=True)"
      ],
      "execution_count": 8,
      "outputs": [
        {
          "output_type": "execute_result",
          "data": {
            "text/plain": [
              "0    0.91483\n",
              "1    0.08517\n",
              "Name: is_promoted, dtype: float64"
            ]
          },
          "metadata": {
            "tags": []
          },
          "execution_count": 8
        }
      ]
    },
    {
      "metadata": {
        "id": "QtISGl5BNGNs",
        "colab_type": "code",
        "colab": {}
      },
      "cell_type": "code",
      "source": [
        "# Around 91% trainee have promoted\n",
        "# Unbalanced dataset "
      ],
      "execution_count": 0,
      "outputs": []
    },
    {
      "metadata": {
        "id": "kinefx4yNGNx",
        "colab_type": "text"
      },
      "cell_type": "markdown",
      "source": [
        "#### Categorical Independent Variables"
      ]
    },
    {
      "metadata": {
        "id": "WUeo0lSdNGNx",
        "colab_type": "code",
        "colab": {
          "base_uri": "https://localhost:8080/",
          "height": 675
        },
        "outputId": "fb8acc04-ad9d-4d47-f9f3-f06ecc15f4d8"
      },
      "cell_type": "code",
      "source": [
        "plt.figure(1)\n",
        "plt.subplot(221)\n",
        "train['department'].value_counts(normalize=True).plot.bar(figsize=(20,10), title= 'Department')\n",
        "\n",
        "plt.subplot(222)\n",
        "train['awards_won?'].value_counts(normalize=True).plot.bar(title= 'Awards won')\n",
        "\n",
        "plt.subplot(223)\n",
        "train['education'].value_counts(normalize=True).plot.bar(title= 'Education')\n",
        "\n",
        "plt.subplot(224)\n",
        "train['gender'].value_counts(normalize=True).plot.bar(title= 'Gender')\n",
        "\n",
        "plt.show()"
      ],
      "execution_count": 10,
      "outputs": [
        {
          "output_type": "display_data",
          "data": {
            "image/png": "[encoded data removed]",
            "text/plain": [
              "<matplotlib.figure.Figure at 0x7f3a38f697b8>"
            ]
          },
          "metadata": {
            "tags": []
          }
        }
      ]
    },
    {
      "metadata": {
        "id": "sfp3xzTdNGN2",
        "colab_type": "code",
        "colab": {}
      },
      "cell_type": "code",
      "source": [
        "# Most of the trainee are enrolled for Y and T program_type.\n",
        "# More number of trainee enrolment for offline test than online test.\n",
        "# Most of the test are easy in terms of difficulty level."
      ],
      "execution_count": 0,
      "outputs": []
    },
    {
      "metadata": {
        "id": "jlbmMWeeNGN8",
        "colab_type": "code",
        "colab": {
          "base_uri": "https://localhost:8080/",
          "height": 292
        },
        "outputId": "af09d9cf-4591-43a1-f432-6bfad89c0a24"
      },
      "cell_type": "code",
      "source": [
        "train['KPIs_met >80%'].value_counts(normalize=True).plot.bar(title= 'KPI met greater than 80')\n"
      ],
      "execution_count": 15,
      "outputs": [
        {
          "output_type": "execute_result",
          "data": {
            "text/plain": [
              "<matplotlib.axes._subplots.AxesSubplot at 0x7fae7830ff98>"
            ]
          },
          "metadata": {
            "tags": []
          },
          "execution_count": 15
        },
        {
          "output_type": "display_data",
          "data": {
            "image/png": "[encoded data removed]",
            "text/plain": [
              "<matplotlib.figure.Figure at 0x7fae7830f860>"
            ]
          },
          "metadata": {
            "tags": []
          }
        }
      ]
    },
    {
      "metadata": {
        "id": "BZSrcBYpNGOC",
        "colab_type": "code",
        "colab": {
          "base_uri": "https://localhost:8080/",
          "height": 610
        },
        "outputId": "29eb548c-bb14-4f6a-90ea-143527a049bc"
      },
      "cell_type": "code",
      "source": [
        "plt.figure(1)\n",
        "plt.subplot(221)\n",
        "train['region'].value_counts(normalize=True).plot.bar(figsize=(20,10), title= 'Region')\n",
        "\n",
        "plt.subplot(222)\n",
        "train['recruitment_channel'].value_counts(normalize=True).plot.bar(title='Recruitment Channels')\n",
        "\n",
        "plt.subplot(223)\n",
        "train['no_of_trainings'].value_counts(normalize=True).plot.bar(title= 'No of Trainings')\n",
        "\n",
        "plt.subplot(224)\n",
        "train['previous_year_rating'].value_counts(normalize=True).plot.bar(title= 'Previous year ratings')\n",
        "\n",
        "plt.show()"
      ],
      "execution_count": 16,
      "outputs": [
        {
          "output_type": "display_data",
          "data": {
            "image/png": "[encoded data removed]",
            "text/plain": [
              "<matplotlib.figure.Figure at 0x7fae75865860>"
            ]
          },
          "metadata": {
            "tags": []
          }
        }
      ]
    },
    {
      "metadata": {
        "id": "Scp_1dSKNGOI",
        "colab_type": "code",
        "colab": {}
      },
      "cell_type": "code",
      "source": [
        "# More male trainee as compared to female trainee\n",
        "# Most of the trainee have diploma\n",
        "# Most of the trainee belongs to tier 3 city\n",
        "# 10% of the trainee are handicapped"
      ],
      "execution_count": 0,
      "outputs": []
    },
    {
      "metadata": {
        "id": "7KxxEhmKNGON",
        "colab_type": "text"
      },
      "cell_type": "markdown",
      "source": [
        "#### Numerical Independent Variables"
      ]
    },
    {
      "metadata": {
        "id": "vRhSUmcuNGOP",
        "colab_type": "code",
        "colab": {
          "base_uri": "https://localhost:8080/",
          "height": 280
        },
        "outputId": "53ce172e-54ed-4f35-be5e-8b8f0f0f8122"
      },
      "cell_type": "code",
      "source": [
        "sns.distplot(train['age']);"
      ],
      "execution_count": 18,
      "outputs": [
        {
          "output_type": "display_data",
          "data": {
            "image/png": "[encoded data removed]",
            "text/plain": [
              "<matplotlib.figure.Figure at 0x7fae75856a58>"
            ]
          },
          "metadata": {
            "tags": []
          }
        }
      ]
    },
    {
      "metadata": {
        "id": "WGwQerbINGOS",
        "colab_type": "code",
        "colab": {}
      },
      "cell_type": "code",
      "source": [
        "# Most of the trainee are in the age range of 20-30 and 40-50"
      ],
      "execution_count": 0,
      "outputs": []
    },
    {
      "metadata": {
        "id": "k9WP9248NGOX",
        "colab_type": "code",
        "colab": {
          "base_uri": "https://localhost:8080/",
          "height": 280
        },
        "outputId": "64ace77e-66eb-4a3a-c6da-ac70952348c7"
      },
      "cell_type": "code",
      "source": [
        "sns.distplot(train['length_of_service']);"
      ],
      "execution_count": 20,
      "outputs": [
        {
          "output_type": "display_data",
          "data": {
            "image/png": "[encoded data removed]",
            "text/plain": [
              "<matplotlib.figure.Figure at 0x7fae781dbd30>"
            ]
          },
          "metadata": {
            "tags": []
          }
        }
      ]
    },
    {
      "metadata": {
        "id": "qzXx7pGqNGOc",
        "colab_type": "code",
        "colab": {
          "base_uri": "https://localhost:8080/",
          "height": 280
        },
        "outputId": "35a05957-08e4-4d74-c624-d08eb53a85ff"
      },
      "cell_type": "code",
      "source": [
        "sns.distplot(train['avg_training_score']);"
      ],
      "execution_count": 21,
      "outputs": [
        {
          "output_type": "display_data",
          "data": {
            "image/png": "[encoded data removed]",
            "text/plain": [
              "<matplotlib.figure.Figure at 0x7fae75626048>"
            ]
          },
          "metadata": {
            "tags": []
          }
        }
      ]
    },
    {
      "metadata": {
        "id": "AWiG441bNGOi",
        "colab_type": "text"
      },
      "cell_type": "markdown",
      "source": [
        "### Bivariate Analysis"
      ]
    },
    {
      "metadata": {
        "id": "UvvSbpkUNGOk",
        "colab_type": "code",
        "colab": {
          "base_uri": "https://localhost:8080/",
          "height": 457
        },
        "outputId": "3af3ed67-566e-4553-d501-3a86d21ba06a"
      },
      "cell_type": "code",
      "source": [
        "# Correlation between numerical variables\n",
        "matrix = train.corr()\n",
        "f, ax = plt.subplots(figsize=(9, 6))\n",
        "sns.heatmap(matrix, vmax=.8, square=True, cmap=\"BuPu\");"
      ],
      "execution_count": 22,
      "outputs": [
        {
          "output_type": "display_data",
          "data": {
            "image/png": "[encoded data removed]",
            "text/plain": [
              "<matplotlib.figure.Figure at 0x7fae781c5b70>"
            ]
          },
          "metadata": {
            "tags": []
          }
        }
      ]
    },
    {
      "metadata": {
        "id": "Srpchuv4NGOo",
        "colab_type": "code",
        "colab": {}
      },
      "cell_type": "code",
      "source": [
        "# Not much correlation between the variables"
      ],
      "execution_count": 0,
      "outputs": []
    },
    {
      "metadata": {
        "id": "ZMW3MrYTNGOr",
        "colab_type": "code",
        "colab": {
          "base_uri": "https://localhost:8080/",
          "height": 331
        },
        "outputId": "372ac76f-4074-4ffa-b86a-b944694311f9"
      },
      "cell_type": "code",
      "source": [
        "# program_id vs is_pass\n",
        "plt.figure(figsize=(12,4))\n",
        "sns.barplot(train['department'], train['is_promoted'])"
      ],
      "execution_count": 24,
      "outputs": [
        {
          "output_type": "stream",
          "text": [
            "/usr/local/lib/python3.6/dist-packages/seaborn/categorical.py:1428: FutureWarning: remove_na is deprecated and is a private function. Do not use.\n",
            "  stat_data = remove_na(group_data)\n"
          ],
          "name": "stderr"
        },
        {
          "output_type": "execute_result",
          "data": {
            "text/plain": [
              "<matplotlib.axes._subplots.AxesSubplot at 0x7fae7828b550>"
            ]
          },
          "metadata": {
            "tags": []
          },
          "execution_count": 24
        },
        {
          "output_type": "display_data",
          "data": {
            "image/png": "[encoded data removed]",
            "text/plain": [
              "<matplotlib.figure.Figure at 0x7fae754bc4a8>"
            ]
          },
          "metadata": {
            "tags": []
          }
        }
      ]
    },
    {
      "metadata": {
        "id": "oizXSaOPNGOx",
        "colab_type": "code",
        "colab": {
          "base_uri": "https://localhost:8080/",
          "height": 546
        },
        "outputId": "c1d827a4-9ee0-4f01-9c1d-f6960d288be9"
      },
      "cell_type": "code",
      "source": [
        "plt.figure(figsize=(20,8))\n",
        "# program_type vs is_pass\n",
        "sns.barplot(train['region'], train['is_promoted'])"
      ],
      "execution_count": 25,
      "outputs": [
        {
          "output_type": "stream",
          "text": [
            "/usr/local/lib/python3.6/dist-packages/seaborn/categorical.py:1428: FutureWarning: remove_na is deprecated and is a private function. Do not use.\n",
            "  stat_data = remove_na(group_data)\n"
          ],
          "name": "stderr"
        },
        {
          "output_type": "execute_result",
          "data": {
            "text/plain": [
              "<matplotlib.axes._subplots.AxesSubplot at 0x7fae758d1c18>"
            ]
          },
          "metadata": {
            "tags": []
          },
          "execution_count": 25
        },
        {
          "output_type": "display_data",
          "data": {
            "image/png": "[encoded data removed]",
            "text/plain": [
              "<matplotlib.figure.Figure at 0x7fae753feac8>"
            ]
          },
          "metadata": {
            "tags": []
          }
        }
      ]
    },
    {
      "metadata": {
        "id": "RbnhrF3KNGO2",
        "colab_type": "code",
        "colab": {}
      },
      "cell_type": "code",
      "source": [
        "# Trainee in X and Y program type have higher chances to pass the test"
      ],
      "execution_count": 0,
      "outputs": []
    },
    {
      "metadata": {
        "id": "egdlozyoNGO5",
        "colab_type": "code",
        "colab": {
          "base_uri": "https://localhost:8080/",
          "height": 328
        },
        "outputId": "56c1f230-b71c-406a-eb6f-6a2f831eec4b"
      },
      "cell_type": "code",
      "source": [
        "# test_type vs is_pass\n",
        "sns.barplot(train['recruitment_channel'], train['is_promoted'])"
      ],
      "execution_count": 28,
      "outputs": [
        {
          "output_type": "stream",
          "text": [
            "/usr/local/lib/python3.6/dist-packages/seaborn/categorical.py:1428: FutureWarning: remove_na is deprecated and is a private function. Do not use.\n",
            "  stat_data = remove_na(group_data)\n"
          ],
          "name": "stderr"
        },
        {
          "output_type": "execute_result",
          "data": {
            "text/plain": [
              "<matplotlib.axes._subplots.AxesSubplot at 0x7fae755e95c0>"
            ]
          },
          "metadata": {
            "tags": []
          },
          "execution_count": 28
        },
        {
          "output_type": "display_data",
          "data": {
            "image/png": "[encoded data removed]",
            "text/plain": [
              "<matplotlib.figure.Figure at 0x7fae75658cc0>"
            ]
          },
          "metadata": {
            "tags": []
          }
        }
      ]
    },
    {
      "metadata": {
        "id": "e-_hvUiBNGO_",
        "colab_type": "code",
        "colab": {}
      },
      "cell_type": "code",
      "source": [
        "# Trainee attending online mode of test have higher chances to pass the test"
      ],
      "execution_count": 0,
      "outputs": []
    },
    {
      "metadata": {
        "id": "D7BVOea5NGPC",
        "colab_type": "code",
        "colab": {
          "base_uri": "https://localhost:8080/",
          "height": 328
        },
        "outputId": "2dc124af-a264-45b0-ef92-f2dbc10ce00e"
      },
      "cell_type": "code",
      "source": [
        "# difficulty_level vs is_pass\n",
        "sns.barplot(train['no_of_trainings'], train['is_promoted'])"
      ],
      "execution_count": 30,
      "outputs": [
        {
          "output_type": "stream",
          "text": [
            "/usr/local/lib/python3.6/dist-packages/seaborn/categorical.py:1428: FutureWarning: remove_na is deprecated and is a private function. Do not use.\n",
            "  stat_data = remove_na(group_data)\n"
          ],
          "name": "stderr"
        },
        {
          "output_type": "execute_result",
          "data": {
            "text/plain": [
              "<matplotlib.axes._subplots.AxesSubplot at 0x7fae7524c1d0>"
            ]
          },
          "metadata": {
            "tags": []
          },
          "execution_count": 30
        },
        {
          "output_type": "display_data",
          "data": {
            "image/png": "[encoded data removed]",
            "text/plain": [
              "<matplotlib.figure.Figure at 0x7fae78201860>"
            ]
          },
          "metadata": {
            "tags": []
          }
        }
      ]
    },
    {
      "metadata": {
        "id": "7BsVErGINGPG",
        "colab_type": "code",
        "colab": {}
      },
      "cell_type": "code",
      "source": [
        "# If the difficulty level of the test is easy, chances to pass the test are higher"
      ],
      "execution_count": 0,
      "outputs": []
    },
    {
      "metadata": {
        "id": "kzR4OrieNGPJ",
        "colab_type": "code",
        "colab": {
          "base_uri": "https://localhost:8080/",
          "height": 328
        },
        "outputId": "8db10aeb-bd85-4589-d111-63d5413d081a"
      },
      "cell_type": "code",
      "source": [
        "# Gender vs is_pass\n",
        "sns.barplot(train['previous_year_rating'], train['is_promoted'])"
      ],
      "execution_count": 41,
      "outputs": [
        {
          "output_type": "stream",
          "text": [
            "/usr/local/lib/python3.6/dist-packages/seaborn/categorical.py:1428: FutureWarning: remove_na is deprecated and is a private function. Do not use.\n",
            "  stat_data = remove_na(group_data)\n"
          ],
          "name": "stderr"
        },
        {
          "output_type": "execute_result",
          "data": {
            "text/plain": [
              "<matplotlib.axes._subplots.AxesSubplot at 0x7fae7812d4a8>"
            ]
          },
          "metadata": {
            "tags": []
          },
          "execution_count": 41
        },
        {
          "output_type": "display_data",
          "data": {
            "image/png": "[encoded data removed]",
            "text/plain": [
              "<matplotlib.figure.Figure at 0x7fae78173e48>"
            ]
          },
          "metadata": {
            "tags": []
          }
        }
      ]
    },
    {
      "metadata": {
        "id": "XX1aqOVpNGPP",
        "colab_type": "code",
        "colab": {}
      },
      "cell_type": "code",
      "source": [
        "# Gender does not affect the chances to pass the test"
      ],
      "execution_count": 0,
      "outputs": []
    },
    {
      "metadata": {
        "id": "ngO4whINNGPT",
        "colab_type": "code",
        "colab": {
          "base_uri": "https://localhost:8080/",
          "height": 328
        },
        "outputId": "154084c3-4ea3-47a0-d32b-2991a99ba71a"
      },
      "cell_type": "code",
      "source": [
        "# education vs is_pass\n",
        "plt.figure(figsize=(12,4))\n",
        "sns.barplot(train['education'], train['is_promoted'])"
      ],
      "execution_count": 39,
      "outputs": [
        {
          "output_type": "stream",
          "text": [
            "/usr/local/lib/python3.6/dist-packages/seaborn/categorical.py:1428: FutureWarning: remove_na is deprecated and is a private function. Do not use.\n",
            "  stat_data = remove_na(group_data)\n"
          ],
          "name": "stderr"
        },
        {
          "output_type": "execute_result",
          "data": {
            "text/plain": [
              "<matplotlib.axes._subplots.AxesSubplot at 0x7fae7563c128>"
            ]
          },
          "metadata": {
            "tags": []
          },
          "execution_count": 39
        },
        {
          "output_type": "display_data",
          "data": {
            "image/png": "[encoded data removed]",
            "text/plain": [
              "<matplotlib.figure.Figure at 0x7fae758cbcf8>"
            ]
          },
          "metadata": {
            "tags": []
          }
        }
      ]
    },
    {
      "metadata": {
        "id": "mmsvJftQNGPW",
        "colab_type": "code",
        "colab": {}
      },
      "cell_type": "code",
      "source": [
        "# Trainee with Masters education level have more chances to pass the test"
      ],
      "execution_count": 0,
      "outputs": []
    },
    {
      "metadata": {
        "id": "7OJgw15nNGPa",
        "colab_type": "code",
        "colab": {
          "base_uri": "https://localhost:8080/",
          "height": 546
        },
        "outputId": "701b53a0-7187-4305-9b4d-a4f6429dd334"
      },
      "cell_type": "code",
      "source": [
        "plt.figure(figsize=(20,8))\n",
        "# is_handicapped vs is_pass\n",
        "sns.barplot(train['length_of_service'], train['is_promoted'])"
      ],
      "execution_count": 37,
      "outputs": [
        {
          "output_type": "stream",
          "text": [
            "/usr/local/lib/python3.6/dist-packages/seaborn/categorical.py:1428: FutureWarning: remove_na is deprecated and is a private function. Do not use.\n",
            "  stat_data = remove_na(group_data)\n"
          ],
          "name": "stderr"
        },
        {
          "output_type": "execute_result",
          "data": {
            "text/plain": [
              "<matplotlib.axes._subplots.AxesSubplot at 0x7fae75599518>"
            ]
          },
          "metadata": {
            "tags": []
          },
          "execution_count": 37
        },
        {
          "output_type": "display_data",
          "data": {
            "image/png": "[encoded data removed]",
            "text/plain": [
              "<matplotlib.figure.Figure at 0x7fae755994a8>"
            ]
          },
          "metadata": {
            "tags": []
          }
        }
      ]
    },
    {
      "metadata": {
        "id": "d4_PxdGyNGPd",
        "colab_type": "code",
        "colab": {}
      },
      "cell_type": "code",
      "source": [
        "# Handicapped trainee have less chances to pass the test"
      ],
      "execution_count": 0,
      "outputs": []
    },
    {
      "metadata": {
        "id": "3epi-h8iNGPg",
        "colab_type": "code",
        "colab": {
          "base_uri": "https://localhost:8080/",
          "height": 328
        },
        "outputId": "a0e9c271-8968-4e92-aef9-e4905b8e1f9b"
      },
      "cell_type": "code",
      "source": [
        "# city_tier vs is_pass\n",
        "sns.barplot(train['KPIs_met >80%'], train['is_promoted'])"
      ],
      "execution_count": 35,
      "outputs": [
        {
          "output_type": "stream",
          "text": [
            "/usr/local/lib/python3.6/dist-packages/seaborn/categorical.py:1428: FutureWarning: remove_na is deprecated and is a private function. Do not use.\n",
            "  stat_data = remove_na(group_data)\n"
          ],
          "name": "stderr"
        },
        {
          "output_type": "execute_result",
          "data": {
            "text/plain": [
              "<matplotlib.axes._subplots.AxesSubplot at 0x7fae7560e470>"
            ]
          },
          "metadata": {
            "tags": []
          },
          "execution_count": 35
        },
        {
          "output_type": "display_data",
          "data": {
            "image/png": "[encoded data removed]",
            "text/plain": [
              "<matplotlib.figure.Figure at 0x7fae752b3c18>"
            ]
          },
          "metadata": {
            "tags": []
          }
        }
      ]
    },
    {
      "metadata": {
        "id": "bjelRMwjNGPj",
        "colab_type": "code",
        "colab": {}
      },
      "cell_type": "code",
      "source": [
        "# Trainee from city tier 1 have higher chances to pass the test"
      ],
      "execution_count": 0,
      "outputs": []
    },
    {
      "metadata": {
        "id": "gRdyA0q4NGPn",
        "colab_type": "code",
        "colab": {
          "base_uri": "https://localhost:8080/",
          "height": 328
        },
        "outputId": "4b4f6406-f8c2-44dc-883c-09e36f679141"
      },
      "cell_type": "code",
      "source": [
        "# trainee_engagement_rating vs is_pass\n",
        "sns.barplot(train['awards_won?'], train['is_promoted'])"
      ],
      "execution_count": 33,
      "outputs": [
        {
          "output_type": "stream",
          "text": [
            "/usr/local/lib/python3.6/dist-packages/seaborn/categorical.py:1428: FutureWarning: remove_na is deprecated and is a private function. Do not use.\n",
            "  stat_data = remove_na(group_data)\n"
          ],
          "name": "stderr"
        },
        {
          "output_type": "execute_result",
          "data": {
            "text/plain": [
              "<matplotlib.axes._subplots.AxesSubplot at 0x7fae75141748>"
            ]
          },
          "metadata": {
            "tags": []
          },
          "execution_count": 33
        },
        {
          "output_type": "display_data",
          "data": {
            "image/png": "[encoded data removed]",
            "text/plain": [
              "<matplotlib.figure.Figure at 0x7fae753c6278>"
            ]
          },
          "metadata": {
            "tags": []
          }
        }
      ]
    },
    {
      "metadata": {
        "id": "SwtQsFe-NGPq",
        "colab_type": "code",
        "colab": {}
      },
      "cell_type": "code",
      "source": [
        "# As the trainee engagement rating increases, chances to pass the test also increases"
      ],
      "execution_count": 0,
      "outputs": []
    },
    {
      "metadata": {
        "id": "Z3ZIbzyPNGPt",
        "colab_type": "text"
      },
      "cell_type": "markdown",
      "source": [
        "### Missing Values Treatment"
      ]
    },
    {
      "metadata": {
        "id": "3mikdqcLNGPu",
        "colab_type": "code",
        "colab": {
          "base_uri": "https://localhost:8080/",
          "height": 245
        },
        "outputId": "598942aa-bd5f-4b72-a3d9-89730a45ce0a"
      },
      "cell_type": "code",
      "source": [
        "# Check the number of missing values in each variable\n",
        "train.isnull().sum()"
      ],
      "execution_count": 9,
      "outputs": [
        {
          "output_type": "execute_result",
          "data": {
            "text/plain": [
              "department                 0\n",
              "region                     0\n",
              "education               2409\n",
              "gender                     0\n",
              "recruitment_channel        0\n",
              "no_of_trainings            0\n",
              "age                        0\n",
              "previous_year_rating    4124\n",
              "length_of_service          0\n",
              "KPIs_met >80%              0\n",
              "awards_won?                0\n",
              "avg_training_score         0\n",
              "is_promoted                0\n",
              "dtype: int64"
            ]
          },
          "metadata": {
            "tags": []
          },
          "execution_count": 9
        }
      ]
    },
    {
      "metadata": {
        "id": "rSmOFrSoNGP3",
        "colab_type": "code",
        "colab": {}
      },
      "cell_type": "code",
      "source": [
        "# age and trainee_engagement_rating variables have missing values in it."
      ],
      "execution_count": 0,
      "outputs": []
    },
    {
      "metadata": {
        "id": "1HZt7D64NGP6",
        "colab_type": "code",
        "colab": {
          "base_uri": "https://localhost:8080/",
          "height": 191
        },
        "outputId": "bf2d7bbb-4684-4862-c8ef-c2537357bf1c"
      },
      "cell_type": "code",
      "source": [
        "test = pd.read_csv('test.csv')\n",
        "test.drop('employee_id',inplace=True,axis = 1)\n",
        "test.head()"
      ],
      "execution_count": 11,
      "outputs": [
        {
          "output_type": "execute_result",
          "data": {
            "text/html": [
              "<div>\n",
              "<style scoped>\n",
              "    .dataframe tbody tr th:only-of-type {\n",
              "        vertical-align: middle;\n",
              "    }\n",
              "\n",
              "    .dataframe tbody tr th {\n",
              "        vertical-align: top;\n",
              "    }\n",
              "\n",
              "    .dataframe thead th {\n",
              "        text-align: right;\n",
              "    }\n",
              "</style>\n",
              "<table border=\"1\" class=\"dataframe\">\n",
              "  <thead>\n",
              "    <tr style=\"text-align: right;\">\n",
              "      <th></th>\n",
              "      <th>department</th>\n",
              "      <th>region</th>\n",
              "      <th>education</th>\n",
              "      <th>gender</th>\n",
              "      <th>recruitment_channel</th>\n",
              "      <th>no_of_trainings</th>\n",
              "      <th>age</th>\n",
              "      <th>previous_year_rating</th>\n",
              "      <th>length_of_service</th>\n",
              "      <th>KPIs_met &gt;80%</th>\n",
              "      <th>awards_won?</th>\n",
              "      <th>avg_training_score</th>\n",
              "    </tr>\n",
              "  </thead>\n",
              "  <tbody>\n",
              "    <tr>\n",
              "      <th>0</th>\n",
              "      <td>Technology</td>\n",
              "      <td>region_26</td>\n",
              "      <td>Bachelor's</td>\n",
              "      <td>m</td>\n",
              "      <td>sourcing</td>\n",
              "      <td>1</td>\n",
              "      <td>24</td>\n",
              "      <td>NaN</td>\n",
              "      <td>1</td>\n",
              "      <td>1</td>\n",
              "      <td>0</td>\n",
              "      <td>77</td>\n",
              "    </tr>\n",
              "    <tr>\n",
              "      <th>1</th>\n",
              "      <td>HR</td>\n",
              "      <td>region_4</td>\n",
              "      <td>Bachelor's</td>\n",
              "      <td>f</td>\n",
              "      <td>other</td>\n",
              "      <td>1</td>\n",
              "      <td>31</td>\n",
              "      <td>3.0</td>\n",
              "      <td>5</td>\n",
              "      <td>0</td>\n",
              "      <td>0</td>\n",
              "      <td>51</td>\n",
              "    </tr>\n",
              "    <tr>\n",
              "      <th>2</th>\n",
              "      <td>Sales &amp; Marketing</td>\n",
              "      <td>region_13</td>\n",
              "      <td>Bachelor's</td>\n",
              "      <td>m</td>\n",
              "      <td>other</td>\n",
              "      <td>1</td>\n",
              "      <td>31</td>\n",
              "      <td>1.0</td>\n",
              "      <td>4</td>\n",
              "      <td>0</td>\n",
              "      <td>0</td>\n",
              "      <td>47</td>\n",
              "    </tr>\n",
              "    <tr>\n",
              "      <th>3</th>\n",
              "      <td>Procurement</td>\n",
              "      <td>region_2</td>\n",
              "      <td>Bachelor's</td>\n",
              "      <td>f</td>\n",
              "      <td>other</td>\n",
              "      <td>3</td>\n",
              "      <td>31</td>\n",
              "      <td>2.0</td>\n",
              "      <td>9</td>\n",
              "      <td>0</td>\n",
              "      <td>0</td>\n",
              "      <td>65</td>\n",
              "    </tr>\n",
              "    <tr>\n",
              "      <th>4</th>\n",
              "      <td>Finance</td>\n",
              "      <td>region_29</td>\n",
              "      <td>Bachelor's</td>\n",
              "      <td>m</td>\n",
              "      <td>sourcing</td>\n",
              "      <td>1</td>\n",
              "      <td>30</td>\n",
              "      <td>4.0</td>\n",
              "      <td>7</td>\n",
              "      <td>0</td>\n",
              "      <td>0</td>\n",
              "      <td>61</td>\n",
              "    </tr>\n",
              "  </tbody>\n",
              "</table>\n",
              "</div>"
            ],
            "text/plain": [
              "          department     region   education gender recruitment_channel  \\\n",
              "0         Technology  region_26  Bachelor's      m            sourcing   \n",
              "1                 HR   region_4  Bachelor's      f               other   \n",
              "2  Sales & Marketing  region_13  Bachelor's      m               other   \n",
              "3        Procurement   region_2  Bachelor's      f               other   \n",
              "4            Finance  region_29  Bachelor's      m            sourcing   \n",
              "\n",
              "   no_of_trainings  age  previous_year_rating  length_of_service  \\\n",
              "0                1   24                   NaN                  1   \n",
              "1                1   31                   3.0                  5   \n",
              "2                1   31                   1.0                  4   \n",
              "3                3   31                   2.0                  9   \n",
              "4                1   30                   4.0                  7   \n",
              "\n",
              "   KPIs_met >80%  awards_won?  avg_training_score  \n",
              "0              1            0                  77  \n",
              "1              0            0                  51  \n",
              "2              0            0                  47  \n",
              "3              0            0                  65  \n",
              "4              0            0                  61  "
            ]
          },
          "metadata": {
            "tags": []
          },
          "execution_count": 11
        }
      ]
    },
    {
      "metadata": {
        "id": "VEL5v6YNNGQA",
        "colab_type": "code",
        "colab": {}
      },
      "cell_type": "code",
      "source": [
        "test['education'].fillna('other',inplace=True)\n",
        "test['previous_year_rating'].fillna(99,inplace=True)\n",
        "\n",
        "train['education'].fillna('other',inplace=True)\n",
        "train['previous_year_rating'].fillna(99,inplace=True)"
      ],
      "execution_count": 0,
      "outputs": []
    },
    {
      "metadata": {
        "id": "qtwPjrRkNGQE",
        "colab_type": "text"
      },
      "cell_type": "markdown",
      "source": [
        "###Data preprocessing"
      ]
    },
    {
      "metadata": {
        "id": "NrfPNS8lNGQF",
        "colab_type": "code",
        "colab": {
          "base_uri": "https://localhost:8080/",
          "height": 276
        },
        "outputId": "c21c6ad8-90e5-4f7d-e1a7-b5e995593173"
      },
      "cell_type": "code",
      "source": [
        "train.head()"
      ],
      "execution_count": 13,
      "outputs": [
        {
          "output_type": "execute_result",
          "data": {
            "text/html": [
              "<div>\n",
              "<style scoped>\n",
              "    .dataframe tbody tr th:only-of-type {\n",
              "        vertical-align: middle;\n",
              "    }\n",
              "\n",
              "    .dataframe tbody tr th {\n",
              "        vertical-align: top;\n",
              "    }\n",
              "\n",
              "    .dataframe thead th {\n",
              "        text-align: right;\n",
              "    }\n",
              "</style>\n",
              "<table border=\"1\" class=\"dataframe\">\n",
              "  <thead>\n",
              "    <tr style=\"text-align: right;\">\n",
              "      <th></th>\n",
              "      <th>department</th>\n",
              "      <th>region</th>\n",
              "      <th>education</th>\n",
              "      <th>gender</th>\n",
              "      <th>recruitment_channel</th>\n",
              "      <th>no_of_trainings</th>\n",
              "      <th>age</th>\n",
              "      <th>previous_year_rating</th>\n",
              "      <th>length_of_service</th>\n",
              "      <th>KPIs_met &gt;80%</th>\n",
              "      <th>awards_won?</th>\n",
              "      <th>avg_training_score</th>\n",
              "      <th>is_promoted</th>\n",
              "    </tr>\n",
              "  </thead>\n",
              "  <tbody>\n",
              "    <tr>\n",
              "      <th>0</th>\n",
              "      <td>Sales &amp; Marketing</td>\n",
              "      <td>region_7</td>\n",
              "      <td>Master's &amp; above</td>\n",
              "      <td>f</td>\n",
              "      <td>sourcing</td>\n",
              "      <td>1</td>\n",
              "      <td>35</td>\n",
              "      <td>5.0</td>\n",
              "      <td>8</td>\n",
              "      <td>1</td>\n",
              "      <td>0</td>\n",
              "      <td>49</td>\n",
              "      <td>0</td>\n",
              "    </tr>\n",
              "    <tr>\n",
              "      <th>1</th>\n",
              "      <td>Operations</td>\n",
              "      <td>region_22</td>\n",
              "      <td>Bachelor's</td>\n",
              "      <td>m</td>\n",
              "      <td>other</td>\n",
              "      <td>1</td>\n",
              "      <td>30</td>\n",
              "      <td>5.0</td>\n",
              "      <td>4</td>\n",
              "      <td>0</td>\n",
              "      <td>0</td>\n",
              "      <td>60</td>\n",
              "      <td>0</td>\n",
              "    </tr>\n",
              "    <tr>\n",
              "      <th>2</th>\n",
              "      <td>Sales &amp; Marketing</td>\n",
              "      <td>region_19</td>\n",
              "      <td>Bachelor's</td>\n",
              "      <td>m</td>\n",
              "      <td>sourcing</td>\n",
              "      <td>1</td>\n",
              "      <td>34</td>\n",
              "      <td>3.0</td>\n",
              "      <td>7</td>\n",
              "      <td>0</td>\n",
              "      <td>0</td>\n",
              "      <td>50</td>\n",
              "      <td>0</td>\n",
              "    </tr>\n",
              "    <tr>\n",
              "      <th>3</th>\n",
              "      <td>Sales &amp; Marketing</td>\n",
              "      <td>region_23</td>\n",
              "      <td>Bachelor's</td>\n",
              "      <td>m</td>\n",
              "      <td>other</td>\n",
              "      <td>2</td>\n",
              "      <td>39</td>\n",
              "      <td>1.0</td>\n",
              "      <td>10</td>\n",
              "      <td>0</td>\n",
              "      <td>0</td>\n",
              "      <td>50</td>\n",
              "      <td>0</td>\n",
              "    </tr>\n",
              "    <tr>\n",
              "      <th>4</th>\n",
              "      <td>Technology</td>\n",
              "      <td>region_26</td>\n",
              "      <td>Bachelor's</td>\n",
              "      <td>m</td>\n",
              "      <td>other</td>\n",
              "      <td>1</td>\n",
              "      <td>45</td>\n",
              "      <td>3.0</td>\n",
              "      <td>2</td>\n",
              "      <td>0</td>\n",
              "      <td>0</td>\n",
              "      <td>73</td>\n",
              "      <td>0</td>\n",
              "    </tr>\n",
              "  </tbody>\n",
              "</table>\n",
              "</div>"
            ],
            "text/plain": [
              "          department     region         education gender recruitment_channel  \\\n",
              "0  Sales & Marketing   region_7  Master's & above      f            sourcing   \n",
              "1         Operations  region_22        Bachelor's      m               other   \n",
              "2  Sales & Marketing  region_19        Bachelor's      m            sourcing   \n",
              "3  Sales & Marketing  region_23        Bachelor's      m               other   \n",
              "4         Technology  region_26        Bachelor's      m               other   \n",
              "\n",
              "   no_of_trainings  age  previous_year_rating  length_of_service  \\\n",
              "0                1   35                   5.0                  8   \n",
              "1                1   30                   5.0                  4   \n",
              "2                1   34                   3.0                  7   \n",
              "3                2   39                   1.0                 10   \n",
              "4                1   45                   3.0                  2   \n",
              "\n",
              "   KPIs_met >80%  awards_won?  avg_training_score  is_promoted  \n",
              "0              1            0                  49            0  \n",
              "1              0            0                  60            0  \n",
              "2              0            0                  50            0  \n",
              "3              0            0                  50            0  \n",
              "4              0            0                  73            0  "
            ]
          },
          "metadata": {
            "tags": []
          },
          "execution_count": 13
        }
      ]
    },
    {
      "metadata": {
        "id": "wwWj9cB2NGQJ",
        "colab_type": "code",
        "colab": {}
      },
      "cell_type": "code",
      "source": [
        "# Save target variable in separate dataset\n",
        "X = train.drop('is_promoted',axis=1)\n",
        "y = train.is_promoted"
      ],
      "execution_count": 0,
      "outputs": []
    },
    {
      "metadata": {
        "id": "jcXxjdKENGQM",
        "colab_type": "code",
        "colab": {
          "base_uri": "https://localhost:8080/",
          "height": 191
        },
        "outputId": "4f7d399d-410a-41bd-9f3c-ee4c198c042e"
      },
      "cell_type": "code",
      "source": [
        "test.head()"
      ],
      "execution_count": 15,
      "outputs": [
        {
          "output_type": "execute_result",
          "data": {
            "text/html": [
              "<div>\n",
              "<style scoped>\n",
              "    .dataframe tbody tr th:only-of-type {\n",
              "        vertical-align: middle;\n",
              "    }\n",
              "\n",
              "    .dataframe tbody tr th {\n",
              "        vertical-align: top;\n",
              "    }\n",
              "\n",
              "    .dataframe thead th {\n",
              "        text-align: right;\n",
              "    }\n",
              "</style>\n",
              "<table border=\"1\" class=\"dataframe\">\n",
              "  <thead>\n",
              "    <tr style=\"text-align: right;\">\n",
              "      <th></th>\n",
              "      <th>department</th>\n",
              "      <th>region</th>\n",
              "      <th>education</th>\n",
              "      <th>gender</th>\n",
              "      <th>recruitment_channel</th>\n",
              "      <th>no_of_trainings</th>\n",
              "      <th>age</th>\n",
              "      <th>previous_year_rating</th>\n",
              "      <th>length_of_service</th>\n",
              "      <th>KPIs_met &gt;80%</th>\n",
              "      <th>awards_won?</th>\n",
              "      <th>avg_training_score</th>\n",
              "    </tr>\n",
              "  </thead>\n",
              "  <tbody>\n",
              "    <tr>\n",
              "      <th>0</th>\n",
              "      <td>Technology</td>\n",
              "      <td>region_26</td>\n",
              "      <td>Bachelor's</td>\n",
              "      <td>m</td>\n",
              "      <td>sourcing</td>\n",
              "      <td>1</td>\n",
              "      <td>24</td>\n",
              "      <td>99.0</td>\n",
              "      <td>1</td>\n",
              "      <td>1</td>\n",
              "      <td>0</td>\n",
              "      <td>77</td>\n",
              "    </tr>\n",
              "    <tr>\n",
              "      <th>1</th>\n",
              "      <td>HR</td>\n",
              "      <td>region_4</td>\n",
              "      <td>Bachelor's</td>\n",
              "      <td>f</td>\n",
              "      <td>other</td>\n",
              "      <td>1</td>\n",
              "      <td>31</td>\n",
              "      <td>3.0</td>\n",
              "      <td>5</td>\n",
              "      <td>0</td>\n",
              "      <td>0</td>\n",
              "      <td>51</td>\n",
              "    </tr>\n",
              "    <tr>\n",
              "      <th>2</th>\n",
              "      <td>Sales &amp; Marketing</td>\n",
              "      <td>region_13</td>\n",
              "      <td>Bachelor's</td>\n",
              "      <td>m</td>\n",
              "      <td>other</td>\n",
              "      <td>1</td>\n",
              "      <td>31</td>\n",
              "      <td>1.0</td>\n",
              "      <td>4</td>\n",
              "      <td>0</td>\n",
              "      <td>0</td>\n",
              "      <td>47</td>\n",
              "    </tr>\n",
              "    <tr>\n",
              "      <th>3</th>\n",
              "      <td>Procurement</td>\n",
              "      <td>region_2</td>\n",
              "      <td>Bachelor's</td>\n",
              "      <td>f</td>\n",
              "      <td>other</td>\n",
              "      <td>3</td>\n",
              "      <td>31</td>\n",
              "      <td>2.0</td>\n",
              "      <td>9</td>\n",
              "      <td>0</td>\n",
              "      <td>0</td>\n",
              "      <td>65</td>\n",
              "    </tr>\n",
              "    <tr>\n",
              "      <th>4</th>\n",
              "      <td>Finance</td>\n",
              "      <td>region_29</td>\n",
              "      <td>Bachelor's</td>\n",
              "      <td>m</td>\n",
              "      <td>sourcing</td>\n",
              "      <td>1</td>\n",
              "      <td>30</td>\n",
              "      <td>4.0</td>\n",
              "      <td>7</td>\n",
              "      <td>0</td>\n",
              "      <td>0</td>\n",
              "      <td>61</td>\n",
              "    </tr>\n",
              "  </tbody>\n",
              "</table>\n",
              "</div>"
            ],
            "text/plain": [
              "          department     region   education gender recruitment_channel  \\\n",
              "0         Technology  region_26  Bachelor's      m            sourcing   \n",
              "1                 HR   region_4  Bachelor's      f               other   \n",
              "2  Sales & Marketing  region_13  Bachelor's      m               other   \n",
              "3        Procurement   region_2  Bachelor's      f               other   \n",
              "4            Finance  region_29  Bachelor's      m            sourcing   \n",
              "\n",
              "   no_of_trainings  age  previous_year_rating  length_of_service  \\\n",
              "0                1   24                  99.0                  1   \n",
              "1                1   31                   3.0                  5   \n",
              "2                1   31                   1.0                  4   \n",
              "3                3   31                   2.0                  9   \n",
              "4                1   30                   4.0                  7   \n",
              "\n",
              "   KPIs_met >80%  awards_won?  avg_training_score  \n",
              "0              1            0                  77  \n",
              "1              0            0                  51  \n",
              "2              0            0                  47  \n",
              "3              0            0                  65  \n",
              "4              0            0                  61  "
            ]
          },
          "metadata": {
            "tags": []
          },
          "execution_count": 15
        }
      ]
    },
    {
      "metadata": {
        "id": "cycvC3-oEA-G",
        "colab_type": "text"
      },
      "cell_type": "markdown",
      "source": [
        "### Catboost"
      ]
    },
    {
      "metadata": {
        "id": "0q4vR0P8NGQP",
        "colab_type": "code",
        "colab": {}
      },
      "cell_type": "code",
      "source": [
        "categorical_features_indices = [0,1,2,3,4]"
      ],
      "execution_count": 0,
      "outputs": []
    },
    {
      "metadata": {
        "id": "W--gp1pcn4V8",
        "colab_type": "code",
        "colab": {}
      },
      "cell_type": "code",
      "source": [
        "!pip install catboost"
      ],
      "execution_count": 0,
      "outputs": []
    },
    {
      "metadata": {
        "id": "KP4a0OYvp5Kj",
        "colab_type": "code",
        "colab": {}
      },
      "cell_type": "code",
      "source": [
        "!pip install imblearn"
      ],
      "execution_count": 0,
      "outputs": []
    },
    {
      "metadata": {
        "id": "m6qAbvmAGpVl",
        "colab_type": "code",
        "colab": {}
      },
      "cell_type": "code",
      "source": [
        "from catboost import CatBoostClassifier, Pool, cv\n",
        "from sklearn.metrics import f1_score\n",
        "from sklearn.model_selection import StratifiedKFold\n",
        "from sklearn.metrics import f1_score\n",
        "from imblearn.over_sampling import SMOTE\n",
        "from pandas import Series\n",
        "from sklearn.preprocessing import LabelEncoder\n",
        "from sklearn.linear_model import LogisticRegression\n",
        "from sklearn.ensemble import GradientBoostingClassifier\n",
        "from imblearn.under_sampling import NearMiss,RandomUnderSampler,NearMiss,EditedNearestNeighbours,RepeatedEditedNearestNeighbours,AllKNN,CondensedNearestNeighbour,OneSidedSelection,NeighbourhoodCleaningRule,InstanceHardnessThreshold\n",
        "from imblearn.under_sampling import ClusterCentroids\n",
        "from imblearn.over_sampling import RandomOverSampler,ADASYN\n",
        "from collections import Counter\n",
        "from imblearn.combine import SMOTETomek,SMOTEENN\n",
        "from imblearn.ensemble import BalanceCascade\n",
        "from sklearn.metrics import classification_report\n"
      ],
      "execution_count": 0,
      "outputs": []
    },
    {
      "metadata": {
        "id": "pnaGeP9vZAbZ",
        "colab_type": "code",
        "colab": {
          "base_uri": "https://localhost:8080/",
          "height": 1447
        },
        "outputId": "cc9ca7ba-b664-4a2b-ee5d-14ff652d2bef"
      },
      "cell_type": "code",
      "source": [
        "\n",
        "# Catboost using 5 fold stratified cross validation\n",
        "i=1\n",
        "\n",
        "scores = []\n",
        "\n",
        "kf = StratifiedKFold(n_splits=2,random_state=1,shuffle=True)\n",
        "\n",
        "X = pd.get_dummies(X)\n",
        "\n",
        "for train_index,test_index in kf.split(X,y):\n",
        "\n",
        "     print('\\n{} of kfold {}'.format(i,kf.n_splits))\n",
        "    \n",
        "     xtr,xvl = X.loc[train_index],X.loc[test_index]\n",
        "     ytr,yvl = y[train_index],y[test_index]\n",
        "        \n",
        "     rs = InstanceHardnessThreshold(random_state=42)\n",
        "     xtr_res, ytr_res = rs.fit_sample(xtr, ytr)\n",
        "          \n",
        "     print (\"\\nDistribution of class labels before resampling {}\".format(Counter(ytr)))\n",
        "     print (\"\\nDistribution of class labels after resampling {}\".format(Counter(ytr_res)))\n",
        "     \n",
        "     model = GradientBoostingClassifier(n_estimators=1000,verbose=1)\n",
        "     model.fit(xtr_res, ytr_res)\n",
        "     pred=model.predict_proba(xvl)[:,1]\n",
        "     score = f1_score(yvl,pred.round())\n",
        "     print('f1_score',score)\n",
        "     print (classification_report(yvl,pred.round()))\n",
        "     scores.append(score)\n",
        "      \n",
        "     i+=1\n",
        "    \n",
        "print(\"Mean score:\",np.mean(scores))\n",
        "print(\"Standard deviation:\",np.std(scores))"
      ],
      "execution_count": 18,
      "outputs": [
        {
          "output_type": "stream",
          "text": [
            "\n",
            "1 of kfold 2\n",
            "\n",
            "Distribution of class labels before resampling Counter({0: 25070, 1: 2334})\n",
            "\n",
            "Distribution of class labels after resampling Counter({0: 16649, 1: 2334})\n",
            "      Iter       Train Loss   Remaining Time \n",
            "         1           0.6850           35.10s\n",
            "         2           0.6492           34.45s\n",
            "         3           0.6226           34.21s\n",
            "         4           0.6020           33.99s\n",
            "         5           0.5859           34.81s\n",
            "         6           0.5707           34.75s\n",
            "         7           0.5591           34.65s\n",
            "         8           0.5465           34.62s\n",
            "         9           0.5363           34.59s\n",
            "        10           0.5270           34.53s\n",
            "        20           0.4560           34.90s\n",
            "        30           0.3983           35.97s\n",
            "        40           0.3682           35.96s\n",
            "        50           0.3525           34.89s\n",
            "        60           0.3358           34.92s\n",
            "        70           0.3271           34.27s\n",
            "        80           0.3210           33.40s\n",
            "        90           0.3157           32.62s\n",
            "       100           0.3108           32.17s\n",
            "       200           0.2759           27.57s\n",
            "       300           0.2583           23.65s\n",
            "       400           0.2448           20.01s\n",
            "       500           0.2340           16.73s\n",
            "       600           0.2252           13.27s\n",
            "       700           0.2174            9.85s\n",
            "       800           0.2105            6.55s\n",
            "       900           0.2038            3.27s\n",
            "      1000           0.1980            0.00s\n",
            "f1_score 0.46856564975560416\n",
            "             precision    recall  f1-score   support\n",
            "\n",
            "          0       0.96      0.91      0.94     25070\n",
            "          1       0.39      0.60      0.47      2334\n",
            "\n",
            "avg / total       0.91      0.88      0.90     27404\n",
            "\n",
            "\n",
            "2 of kfold 2\n",
            "\n",
            "Distribution of class labels before resampling Counter({0: 25070, 1: 2334})\n",
            "\n",
            "Distribution of class labels after resampling Counter({0: 16804, 1: 2334})\n",
            "      Iter       Train Loss   Remaining Time \n",
            "         1           0.6814           32.64s\n",
            "         2           0.6452           32.37s\n",
            "         3           0.6178           32.40s\n",
            "         4           0.5968           32.46s\n",
            "         5           0.5794           32.81s\n",
            "         6           0.5641           33.00s\n",
            "         7           0.5459           33.33s\n",
            "         8           0.5345           33.19s\n",
            "         9           0.5180           33.92s\n",
            "        10           0.5097           33.98s\n",
            "        20           0.4465           34.70s\n",
            "        30           0.3978           34.54s\n",
            "        40           0.3720           33.61s\n",
            "        50           0.3535           33.21s\n",
            "        60           0.3392           32.64s\n",
            "        70           0.3323           31.71s\n",
            "        80           0.3257           30.98s\n",
            "        90           0.3211           30.21s\n",
            "       100           0.3136           29.80s\n",
            "       200           0.2792           25.54s\n",
            "       300           0.2590           22.14s\n",
            "       400           0.2443           18.85s\n",
            "       500           0.2330           15.74s\n",
            "       600           0.2231           12.60s\n",
            "       700           0.2152            9.44s\n",
            "       800           0.2073            6.37s\n",
            "       900           0.2012            3.19s\n",
            "      1000           0.1946            0.00s\n",
            "f1_score 0.4602272727272727\n",
            "             precision    recall  f1-score   support\n",
            "\n",
            "          0       0.96      0.90      0.93     25070\n",
            "          1       0.36      0.62      0.46      2334\n",
            "\n",
            "avg / total       0.91      0.88      0.89     27404\n",
            "\n",
            "Mean score: 0.4643964612414384\n",
            "Standard deviation: 0.004169188514165728\n"
          ],
          "name": "stdout"
        }
      ]
    },
    {
      "metadata": {
        "id": "wjN5WEJBY5zs",
        "colab_type": "code",
        "colab": {
          "base_uri": "https://localhost:8080/",
          "height": 1447
        },
        "outputId": "fe78f49b-846d-4db3-e1cd-471482256cfa"
      },
      "cell_type": "code",
      "source": [
        "\n",
        "# Catboost using 5 fold stratified cross validation\n",
        "i=1\n",
        "\n",
        "scores = []\n",
        "\n",
        "kf = StratifiedKFold(n_splits=2,random_state=1,shuffle=True)\n",
        "\n",
        "X = pd.get_dummies(X)\n",
        "\n",
        "for train_index,test_index in kf.split(X,y):\n",
        "\n",
        "     print('\\n{} of kfold {}'.format(i,kf.n_splits))\n",
        "    \n",
        "     xtr,xvl = X.loc[train_index],X.loc[test_index]\n",
        "     ytr,yvl = y[train_index],y[test_index]\n",
        "        \n",
        "     rs = NeighbourhoodCleaningRule(random_state=42)\n",
        "     xtr_res, ytr_res = rs.fit_sample(xtr, ytr)\n",
        "          \n",
        "     print (\"\\nDistribution of class labels before resampling {}\".format(Counter(ytr)))\n",
        "     print (\"\\nDistribution of class labels after resampling {}\".format(Counter(ytr_res)))\n",
        "     \n",
        "     model = GradientBoostingClassifier(n_estimators=1000,verbose=1)\n",
        "     model.fit(xtr_res, ytr_res)\n",
        "     pred=model.predict_proba(xvl)[:,1]\n",
        "     score = f1_score(yvl,pred.round())\n",
        "     print('f1_score',score)\n",
        "     print (classification_report(yvl,pred.round()))\n",
        "     scores.append(score)\n",
        "      \n",
        "     i+=1\n",
        "    \n",
        "print(\"Mean score:\",np.mean(scores))\n",
        "print(\"Standard deviation:\",np.std(scores))"
      ],
      "execution_count": 20,
      "outputs": [
        {
          "output_type": "stream",
          "text": [
            "\n",
            "1 of kfold 2\n",
            "\n",
            "Distribution of class labels before resampling Counter({0: 25070, 1: 2334})\n",
            "\n",
            "Distribution of class labels after resampling Counter({0: 20402, 1: 2334})\n",
            "      Iter       Train Loss   Remaining Time \n",
            "         1           0.6244           39.17s\n",
            "         2           0.6042           39.28s\n",
            "         3           0.5883           39.89s\n",
            "         4           0.5748           41.20s\n",
            "         5           0.5646           41.38s\n",
            "         6           0.5551           41.26s\n",
            "         7           0.5480           41.15s\n",
            "         8           0.5408           41.16s\n",
            "         9           0.5352           41.53s\n",
            "        10           0.5296           42.31s\n",
            "        20           0.4580           42.49s\n",
            "        30           0.4302           42.42s\n",
            "        40           0.4036           43.28s\n",
            "        50           0.3915           42.51s\n",
            "        60           0.3843           41.67s\n",
            "        70           0.3746           41.10s\n",
            "        80           0.3696           40.26s\n",
            "        90           0.3646           39.36s\n",
            "       100           0.3623           38.31s\n",
            "       200           0.3344           32.56s\n",
            "       300           0.3188           27.82s\n",
            "       400           0.3064           23.75s\n",
            "       500           0.2979           19.69s\n",
            "       600           0.2898           15.76s\n",
            "       700           0.2827           11.85s\n",
            "       800           0.2759            7.89s\n",
            "       900           0.2697            3.94s\n",
            "      1000           0.2640            0.00s\n",
            "f1_score 0.5103562551781275\n",
            "             precision    recall  f1-score   support\n",
            "\n",
            "          0       0.95      0.99      0.97     25070\n",
            "          1       0.72      0.40      0.51      2334\n",
            "\n",
            "avg / total       0.93      0.94      0.93     27404\n",
            "\n",
            "\n",
            "2 of kfold 2\n",
            "\n",
            "Distribution of class labels before resampling Counter({0: 25070, 1: 2334})\n",
            "\n",
            "Distribution of class labels after resampling Counter({0: 20431, 1: 2334})\n",
            "      Iter       Train Loss   Remaining Time \n",
            "         1           0.6255           41.99s\n",
            "         2           0.6043           42.05s\n",
            "         3           0.5883           41.75s\n",
            "         4           0.5758           42.19s\n",
            "         5           0.5649           41.97s\n",
            "         6           0.5549           41.60s\n",
            "         7           0.5471           41.32s\n",
            "         8           0.5395           41.13s\n",
            "         9           0.5332           41.14s\n",
            "        10           0.5284           41.43s\n",
            "        20           0.4764           40.96s\n",
            "        30           0.4394           41.87s\n",
            "        40           0.4146           41.25s\n",
            "        50           0.4013           40.35s\n",
            "        60           0.3928           39.52s\n",
            "        70           0.3862           39.07s\n",
            "        80           0.3817           38.19s\n",
            "        90           0.3768           37.45s\n",
            "       100           0.3722           36.71s\n",
            "       200           0.3438           31.08s\n",
            "       300           0.3266           26.75s\n",
            "       400           0.3130           22.91s\n",
            "       500           0.3021           19.18s\n",
            "       600           0.2940           15.29s\n",
            "       700           0.2862           11.52s\n",
            "       800           0.2793            7.73s\n",
            "       900           0.2736            3.89s\n",
            "      1000           0.2675            0.00s\n",
            "f1_score 0.5074946466809422\n",
            "             precision    recall  f1-score   support\n",
            "\n",
            "          0       0.95      0.98      0.96     25070\n",
            "          1       0.68      0.41      0.51      2334\n",
            "\n",
            "avg / total       0.92      0.93      0.93     27404\n",
            "\n",
            "Mean score: 0.5089254509295349\n",
            "Standard deviation: 0.0014308042485926542\n"
          ],
          "name": "stdout"
        }
      ]
    },
    {
      "metadata": {
        "id": "K56Xl6p-YylF",
        "colab_type": "code",
        "colab": {
          "base_uri": "https://localhost:8080/",
          "height": 1532
        },
        "outputId": "cce9400c-4608-4208-ba6d-b5f6f96f2bb4"
      },
      "cell_type": "code",
      "source": [
        "\n",
        "# Catboost using 5 fold stratified cross validation\n",
        "i=1\n",
        "\n",
        "scores = []\n",
        "\n",
        "kf = StratifiedKFold(n_splits=2,random_state=1,shuffle=True)\n",
        "\n",
        "X = pd.get_dummies(X)\n",
        "\n",
        "for train_index,test_index in kf.split(X,y):\n",
        "\n",
        "     print('\\n{} of kfold {}'.format(i,kf.n_splits))\n",
        "    \n",
        "     xtr,xvl = X.loc[train_index],X.loc[test_index]\n",
        "     ytr,yvl = y[train_index],y[test_index]\n",
        "        \n",
        "     rs = OneSidedSelection(random_state=42)\n",
        "     xtr_res, ytr_res = rs.fit_sample(xtr, ytr)\n",
        "          \n",
        "     print (\"\\nDistribution of class labels before resampling {}\".format(Counter(ytr)))\n",
        "     print (\"\\nDistribution of class labels after resampling {}\".format(Counter(ytr_res)))\n",
        "     \n",
        "     model = GradientBoostingClassifier(n_estimators=1000,verbose=1)\n",
        "     model.fit(xtr_res, ytr_res)\n",
        "     pred=model.predict_proba(xvl)[:,1]\n",
        "     score = f1_score(yvl,pred.round())\n",
        "     print('f1_score',score)\n",
        "     print (classification_report(yvl,pred.round()))\n",
        "     scores.append(score)\n",
        "      \n",
        "     i+=1\n",
        "    \n",
        "print(\"Mean score:\",np.mean(scores))\n",
        "print(\"Standard deviation:\",np.std(scores))"
      ],
      "execution_count": 21,
      "outputs": [
        {
          "output_type": "stream",
          "text": [
            "\n",
            "1 of kfold 2\n"
          ],
          "name": "stdout"
        },
        {
          "output_type": "stream",
          "text": [
            "/usr/local/lib/python3.6/dist-packages/imblearn/under_sampling/prototype_selection/one_sided_selection.py:197: DeprecationWarning: in the future out of bounds indices will raise an error instead of being ignored by `numpy.delete`.\n",
            "  idx_maj_extracted = np.delete(idx_maj, idx_maj_sample, axis=0)\n"
          ],
          "name": "stderr"
        },
        {
          "output_type": "stream",
          "text": [
            "\n",
            "Distribution of class labels before resampling Counter({0: 25070, 1: 2334})\n",
            "\n",
            "Distribution of class labels after resampling Counter({0: 24473, 1: 2334})\n",
            "      Iter       Train Loss   Remaining Time \n",
            "         1           0.5580           48.84s\n",
            "         2           0.5423           49.27s\n",
            "         3           0.5304           50.27s\n",
            "         4           0.5213           49.85s\n",
            "         5           0.5128           49.77s\n",
            "         6           0.5059           49.50s\n",
            "         7           0.4992           49.34s\n",
            "         8           0.4944           49.78s\n",
            "         9           0.4892           49.63s\n",
            "        10           0.4848           49.44s\n",
            "        20           0.4398           47.65s\n",
            "        30           0.4024           50.34s\n",
            "        40           0.3798           51.58s\n",
            "        50           0.3677           51.04s\n",
            "        60           0.3615           49.30s\n",
            "        70           0.3555           47.92s\n",
            "        80           0.3489           47.22s\n",
            "        90           0.3461           46.25s\n",
            "       100           0.3418           45.82s\n",
            "       200           0.3184           38.82s\n",
            "       300           0.3056           33.21s\n",
            "       400           0.2957           28.58s\n",
            "       500           0.2883           23.58s\n",
            "       600           0.2821           18.83s\n",
            "       700           0.2769           14.13s\n",
            "       800           0.2715            9.44s\n",
            "       900           0.2669            4.70s\n",
            "      1000           0.2622            0.00s\n",
            "f1_score 0.5072551390568318\n",
            "             precision    recall  f1-score   support\n",
            "\n",
            "          0       0.94      0.99      0.97     25070\n",
            "          1       0.86      0.36      0.51      2334\n",
            "\n",
            "avg / total       0.94      0.94      0.93     27404\n",
            "\n",
            "\n",
            "2 of kfold 2\n"
          ],
          "name": "stdout"
        },
        {
          "output_type": "stream",
          "text": [
            "/usr/local/lib/python3.6/dist-packages/imblearn/under_sampling/prototype_selection/one_sided_selection.py:197: DeprecationWarning: in the future out of bounds indices will raise an error instead of being ignored by `numpy.delete`.\n",
            "  idx_maj_extracted = np.delete(idx_maj, idx_maj_sample, axis=0)\n"
          ],
          "name": "stderr"
        },
        {
          "output_type": "stream",
          "text": [
            "\n",
            "Distribution of class labels before resampling Counter({0: 25070, 1: 2334})\n",
            "\n",
            "Distribution of class labels after resampling Counter({0: 24462, 1: 2334})\n",
            "      Iter       Train Loss   Remaining Time \n",
            "         1           0.5617           48.25s\n",
            "         2           0.5466           47.80s\n",
            "         3           0.5344           49.03s\n",
            "         4           0.5243           48.98s\n",
            "         5           0.5166           49.18s\n",
            "         6           0.5094           49.07s\n",
            "         7           0.5027           49.01s\n",
            "         8           0.4976           49.32s\n",
            "         9           0.4924           49.12s\n",
            "        10           0.4860           50.12s\n",
            "        20           0.4458           47.93s\n",
            "        30           0.4109           48.82s\n",
            "        40           0.3927           48.06s\n",
            "        50           0.3779           47.64s\n",
            "        60           0.3724           46.91s\n",
            "        70           0.3660           46.21s\n",
            "        80           0.3588           45.70s\n",
            "        90           0.3531           45.49s\n",
            "       100           0.3484           44.70s\n",
            "       200           0.3233           38.47s\n",
            "       300           0.3095           33.24s\n",
            "       400           0.3000           28.26s\n",
            "       500           0.2920           23.41s\n",
            "       600           0.2851           18.74s\n",
            "       700           0.2793           14.04s\n",
            "       800           0.2735            9.43s\n",
            "       900           0.2685            4.77s\n",
            "      1000           0.2633            0.00s\n",
            "f1_score 0.5111573936328474\n",
            "             precision    recall  f1-score   support\n",
            "\n",
            "          0       0.94      0.99      0.97     25070\n",
            "          1       0.84      0.37      0.51      2334\n",
            "\n",
            "avg / total       0.93      0.94      0.93     27404\n",
            "\n",
            "Mean score: 0.5092062663448396\n",
            "Standard deviation: 0.0019511272880077812\n"
          ],
          "name": "stdout"
        }
      ]
    },
    {
      "metadata": {
        "id": "rA9gh2p-U_hM",
        "colab_type": "code",
        "colab": {
          "base_uri": "https://localhost:8080/",
          "height": 1447
        },
        "outputId": "78a0b0b5-276a-4aa9-df96-d2bc6f0f143d"
      },
      "cell_type": "code",
      "source": [
        "\n",
        "# Catboost using 5 fold stratified cross validation\n",
        "i=1\n",
        "\n",
        "scores = []\n",
        "\n",
        "kf = StratifiedKFold(n_splits=2,random_state=1,shuffle=True)\n",
        "\n",
        "X = pd.get_dummies(X)\n",
        "\n",
        "for train_index,test_index in kf.split(X,y):\n",
        "\n",
        "     print('\\n{} of kfold {}'.format(i,kf.n_splits))\n",
        "    \n",
        "     xtr,xvl = X.loc[train_index],X.loc[test_index]\n",
        "     ytr,yvl = y[train_index],y[test_index]\n",
        "        \n",
        "     rs = AllKNN(random_state=42)\n",
        "     xtr_res, ytr_res = rs.fit_sample(xtr, ytr)\n",
        "          \n",
        "     print (\"\\nDistribution of class labels before resampling {}\".format(Counter(ytr)))\n",
        "     print (\"\\nDistribution of class labels after resampling {}\".format(Counter(ytr_res)))\n",
        "     \n",
        "     model = GradientBoostingClassifier(n_estimators=1000,verbose=1)\n",
        "     model.fit(xtr_res, ytr_res)\n",
        "     pred=model.predict_proba(xvl)[:,1]\n",
        "     score = f1_score(yvl,pred.round())\n",
        "     print('f1_score',score)\n",
        "     print (classification_report(yvl,pred.round()))\n",
        "     scores.append(score)\n",
        "      \n",
        "     i+=1\n",
        "    \n",
        "print(\"Mean score:\",np.mean(scores))\n",
        "print(\"Standard deviation:\",np.std(scores))"
      ],
      "execution_count": 128,
      "outputs": [
        {
          "output_type": "stream",
          "text": [
            "\n",
            "1 of kfold 2\n",
            "\n",
            "Distribution of class labels before resampling Counter({0: 25070, 1: 2334})\n",
            "\n",
            "Distribution of class labels after resampling Counter({0: 21086, 1: 2334})\n",
            "      Iter       Train Loss   Remaining Time \n",
            "         1           0.6103           39.55s\n",
            "         2           0.5900           39.36s\n",
            "         3           0.5751           39.28s\n",
            "         4           0.5625           40.30s\n",
            "         5           0.5512           40.37s\n",
            "         6           0.5428           40.23s\n",
            "         7           0.5345           40.17s\n",
            "         8           0.5278           40.62s\n",
            "         9           0.5226           41.00s\n",
            "        10           0.5167           40.98s\n",
            "        20           0.4645           40.52s\n",
            "        30           0.4225           42.64s\n",
            "        40           0.4016           42.43s\n",
            "        50           0.3852           42.09s\n",
            "        60           0.3738           41.84s\n",
            "        70           0.3677           40.63s\n",
            "        80           0.3608           40.01s\n",
            "        90           0.3564           39.12s\n",
            "       100           0.3534           37.98s\n",
            "       200           0.3247           32.10s\n",
            "       300           0.3086           27.92s\n",
            "       400           0.2973           23.81s\n",
            "       500           0.2873           20.16s\n",
            "       600           0.2800           16.17s\n",
            "       700           0.2738           12.01s\n",
            "       800           0.2667            8.07s\n",
            "       900           0.2604            4.04s\n",
            "      1000           0.2544            0.00s\n",
            "f1_score 0.5073409461663948\n",
            "             precision    recall  f1-score   support\n",
            "\n",
            "          0       0.95      0.98      0.96     25070\n",
            "          1       0.69      0.40      0.51      2334\n",
            "\n",
            "avg / total       0.92      0.93      0.93     27404\n",
            "\n",
            "\n",
            "2 of kfold 2\n",
            "\n",
            "Distribution of class labels before resampling Counter({0: 25070, 1: 2334})\n",
            "\n",
            "Distribution of class labels after resampling Counter({0: 21064, 1: 2334})\n",
            "      Iter       Train Loss   Remaining Time \n",
            "         1           0.6123           41.39s\n",
            "         2           0.5919           41.25s\n",
            "         3           0.5761           41.56s\n",
            "         4           0.5628           42.45s\n",
            "         5           0.5527           42.16s\n",
            "         6           0.5434           41.90s\n",
            "         7           0.5346           41.70s\n",
            "         8           0.5273           41.55s\n",
            "         9           0.5206           41.99s\n",
            "        10           0.5128           41.95s\n",
            "        20           0.4675           42.53s\n",
            "        30           0.4278           42.77s\n",
            "        40           0.4039           42.23s\n",
            "        50           0.3937           40.98s\n",
            "        60           0.3803           40.76s\n",
            "        70           0.3749           39.94s\n",
            "        80           0.3694           39.26s\n",
            "        90           0.3643           38.70s\n",
            "       100           0.3588           38.21s\n",
            "       200           0.3311           32.57s\n",
            "       300           0.3129           27.92s\n",
            "       400           0.3004           23.88s\n",
            "       500           0.2911           19.90s\n",
            "       600           0.2822           15.97s\n",
            "       700           0.2742           12.07s\n",
            "       800           0.2667            8.14s\n",
            "       900           0.2602            4.10s\n",
            "      1000           0.2547            0.00s\n",
            "f1_score 0.5129533678756477\n",
            "             precision    recall  f1-score   support\n",
            "\n",
            "          0       0.95      0.98      0.96     25070\n",
            "          1       0.65      0.42      0.51      2334\n",
            "\n",
            "avg / total       0.92      0.93      0.92     27404\n",
            "\n",
            "Mean score: 0.5101471570210212\n",
            "Standard deviation: 0.0028062108546264564\n"
          ],
          "name": "stdout"
        }
      ]
    },
    {
      "metadata": {
        "id": "iMLqhhSEUuwD",
        "colab_type": "code",
        "colab": {
          "base_uri": "https://localhost:8080/",
          "height": 2547
        },
        "outputId": "48d6d5de-0464-404e-b8eb-bdae844b7611"
      },
      "cell_type": "code",
      "source": [
        "\n",
        "# Catboost using 5 fold stratified cross validation\n",
        "i=1\n",
        "\n",
        "scores = []\n",
        "\n",
        "kf = StratifiedKFold(n_splits=2,random_state=1,shuffle=True)\n",
        "\n",
        "X = pd.get_dummies(X)\n",
        "\n",
        "for train_index,test_index in kf.split(X,y):\n",
        "\n",
        "     print('\\n{} of kfold {}'.format(i,kf.n_splits))\n",
        "    \n",
        "     xtr,xvl = X.loc[train_index],X.loc[test_index]\n",
        "     ytr,yvl = y[train_index],y[test_index]\n",
        "        \n",
        "     rs = RepeatedEditedNearestNeighbours(random_state=42)\n",
        "     xtr_res, ytr_res = rs.fit_sample(xtr, ytr)\n",
        "          \n",
        "     print (\"\\nDistribution of class labels before resampling {}\".format(Counter(ytr)))\n",
        "     print (\"\\nDistribution of class labels after resampling {}\".format(Counter(ytr_res)))\n",
        "     \n",
        "     model = GradientBoostingClassifier(n_estimators=1000,verbose=1)\n",
        "     model.fit(xtr_res, ytr_res)\n",
        "     pred=model.predict_proba(xvl)[:,1]\n",
        "     score = f1_score(yvl,pred.round())\n",
        "     print('f1_score',score)\n",
        "     print (classification_report(yvl,pred.round()))\n",
        "     scores.append(score)\n",
        "      \n",
        "     i+=1\n",
        "    \n",
        "print(\"Mean score:\",np.mean(scores))\n",
        "print(\"Standard deviation:\",np.std(scores))"
      ],
      "execution_count": 127,
      "outputs": [
        {
          "output_type": "stream",
          "text": [
            "\n",
            "1 of kfold 2\n",
            "\n",
            "Distribution of class labels before resampling Counter({0: 25070, 1: 2334})\n",
            "\n",
            "Distribution of class labels after resampling Counter({0: 18949, 1: 2334})\n",
            "      Iter       Train Loss   Remaining Time \n",
            "         1           0.6499           36.68s\n",
            "         2           0.6247           36.80s\n",
            "         3           0.6060           36.53s\n",
            "         4           0.5906           36.56s\n",
            "         5           0.5787           37.54s\n",
            "         6           0.5679           37.23s\n",
            "         7           0.5585           37.11s\n",
            "         8           0.5515           36.78s\n",
            "         9           0.5438           36.62s\n",
            "        10           0.5348           36.37s\n",
            "        20           0.4783           36.16s\n",
            "        30           0.4316           38.06s\n",
            "        40           0.4087           38.17s\n",
            "        50           0.3917           38.47s\n",
            "        60           0.3827           38.02s\n",
            "        70           0.3713           37.47s\n",
            "        80           0.3631           36.70s\n",
            "        90           0.3573           36.26s\n",
            "       100           0.3520           35.39s\n",
            "       200           0.3219           30.13s\n",
            "       300           0.3047           25.75s\n",
            "       400           0.2926           21.81s\n",
            "       500           0.2827           18.15s\n",
            "       600           0.2739           14.75s\n",
            "       700           0.2667           11.08s\n",
            "       800           0.2590            7.43s\n",
            "       900           0.2528            3.71s\n",
            "      1000           0.2464            0.00s\n",
            "f1_score 0.4961349262122277\n",
            "             precision    recall  f1-score   support\n",
            "\n",
            "          0       0.95      0.97      0.96     25070\n",
            "          1       0.55      0.45      0.50      2334\n",
            "\n",
            "avg / total       0.92      0.92      0.92     27404\n",
            "\n",
            "\n",
            "2 of kfold 2\n"
          ],
          "name": "stdout"
        },
        {
          "output_type": "error",
          "ename": "KeyboardInterrupt",
          "evalue": "ignored",
          "traceback": [
            "\u001b[0;31m---------------------------------------------------------------------------\u001b[0m",
            "\u001b[0;31mKeyboardInterrupt\u001b[0m                         Traceback (most recent call last)",
            "\u001b[0;32m<ipython-input-127-74aabd52a3ea>\u001b[0m in \u001b[0;36m<module>\u001b[0;34m()\u001b[0m\n\u001b[1;32m     15\u001b[0m \u001b[0;34m\u001b[0m\u001b[0m\n\u001b[1;32m     16\u001b[0m      \u001b[0mrs\u001b[0m \u001b[0;34m=\u001b[0m \u001b[0mRepeatedEditedNearestNeighbours\u001b[0m\u001b[0;34m(\u001b[0m\u001b[0mrandom_state\u001b[0m\u001b[0;34m=\u001b[0m\u001b[0;36m42\u001b[0m\u001b[0;34m)\u001b[0m\u001b[0;34m\u001b[0m\u001b[0m\n\u001b[0;32m---> 17\u001b[0;31m      \u001b[0mxtr_res\u001b[0m\u001b[0;34m,\u001b[0m \u001b[0mytr_res\u001b[0m \u001b[0;34m=\u001b[0m \u001b[0mrs\u001b[0m\u001b[0;34m.\u001b[0m\u001b[0mfit_sample\u001b[0m\u001b[0;34m(\u001b[0m\u001b[0mxtr\u001b[0m\u001b[0;34m,\u001b[0m \u001b[0mytr\u001b[0m\u001b[0;34m)\u001b[0m\u001b[0;34m\u001b[0m\u001b[0m\n\u001b[0m\u001b[1;32m     18\u001b[0m \u001b[0;34m\u001b[0m\u001b[0m\n\u001b[1;32m     19\u001b[0m      \u001b[0mprint\u001b[0m \u001b[0;34m(\u001b[0m\u001b[0;34m\"\\nDistribution of class labels before resampling {}\"\u001b[0m\u001b[0;34m.\u001b[0m\u001b[0mformat\u001b[0m\u001b[0;34m(\u001b[0m\u001b[0mCounter\u001b[0m\u001b[0;34m(\u001b[0m\u001b[0mytr\u001b[0m\u001b[0;34m)\u001b[0m\u001b[0;34m)\u001b[0m\u001b[0;34m)\u001b[0m\u001b[0;34m\u001b[0m\u001b[0m\n",
            "\u001b[0;32m/usr/local/lib/python3.6/dist-packages/imblearn/base.py\u001b[0m in \u001b[0;36mfit_sample\u001b[0;34m(self, X, y)\u001b[0m\n\u001b[1;32m     86\u001b[0m         \"\"\"\n\u001b[1;32m     87\u001b[0m \u001b[0;34m\u001b[0m\u001b[0m\n\u001b[0;32m---> 88\u001b[0;31m         \u001b[0;32mreturn\u001b[0m \u001b[0mself\u001b[0m\u001b[0;34m.\u001b[0m\u001b[0mfit\u001b[0m\u001b[0;34m(\u001b[0m\u001b[0mX\u001b[0m\u001b[0;34m,\u001b[0m \u001b[0my\u001b[0m\u001b[0;34m)\u001b[0m\u001b[0;34m.\u001b[0m\u001b[0msample\u001b[0m\u001b[0;34m(\u001b[0m\u001b[0mX\u001b[0m\u001b[0;34m,\u001b[0m \u001b[0my\u001b[0m\u001b[0;34m)\u001b[0m\u001b[0;34m\u001b[0m\u001b[0m\n\u001b[0m\u001b[1;32m     89\u001b[0m \u001b[0;34m\u001b[0m\u001b[0m\n\u001b[1;32m     90\u001b[0m     \u001b[0;34m@\u001b[0m\u001b[0mabstractmethod\u001b[0m\u001b[0;34m\u001b[0m\u001b[0m\n",
            "\u001b[0;32m/usr/local/lib/python3.6/dist-packages/imblearn/base.py\u001b[0m in \u001b[0;36msample\u001b[0;34m(self, X, y)\u001b[0m\n\u001b[1;32m     62\u001b[0m         \u001b[0mself\u001b[0m\u001b[0;34m.\u001b[0m\u001b[0m_check_X_y\u001b[0m\u001b[0;34m(\u001b[0m\u001b[0mX\u001b[0m\u001b[0;34m,\u001b[0m \u001b[0my\u001b[0m\u001b[0;34m)\u001b[0m\u001b[0;34m\u001b[0m\u001b[0m\n\u001b[1;32m     63\u001b[0m \u001b[0;34m\u001b[0m\u001b[0m\n\u001b[0;32m---> 64\u001b[0;31m         \u001b[0;32mreturn\u001b[0m \u001b[0mself\u001b[0m\u001b[0;34m.\u001b[0m\u001b[0m_sample\u001b[0m\u001b[0;34m(\u001b[0m\u001b[0mX\u001b[0m\u001b[0;34m,\u001b[0m \u001b[0my\u001b[0m\u001b[0;34m)\u001b[0m\u001b[0;34m\u001b[0m\u001b[0m\n\u001b[0m\u001b[1;32m     65\u001b[0m \u001b[0;34m\u001b[0m\u001b[0m\n\u001b[1;32m     66\u001b[0m     \u001b[0;32mdef\u001b[0m \u001b[0mfit_sample\u001b[0m\u001b[0;34m(\u001b[0m\u001b[0mself\u001b[0m\u001b[0;34m,\u001b[0m \u001b[0mX\u001b[0m\u001b[0;34m,\u001b[0m \u001b[0my\u001b[0m\u001b[0;34m)\u001b[0m\u001b[0;34m:\u001b[0m\u001b[0;34m\u001b[0m\u001b[0m\n",
            "\u001b[0;32m/usr/local/lib/python3.6/dist-packages/imblearn/under_sampling/prototype_selection/edited_nearest_neighbours.py\u001b[0m in \u001b[0;36m_sample\u001b[0;34m(self, X, y)\u001b[0m\n\u001b[1;32m    399\u001b[0m                 \u001b[0mX_enn\u001b[0m\u001b[0;34m,\u001b[0m \u001b[0my_enn\u001b[0m\u001b[0;34m,\u001b[0m \u001b[0midx_enn\u001b[0m \u001b[0;34m=\u001b[0m \u001b[0mself\u001b[0m\u001b[0;34m.\u001b[0m\u001b[0menn_\u001b[0m\u001b[0;34m.\u001b[0m\u001b[0mfit_sample\u001b[0m\u001b[0;34m(\u001b[0m\u001b[0mX_\u001b[0m\u001b[0;34m,\u001b[0m \u001b[0my_\u001b[0m\u001b[0;34m)\u001b[0m\u001b[0;34m\u001b[0m\u001b[0m\n\u001b[1;32m    400\u001b[0m             \u001b[0;32melse\u001b[0m\u001b[0;34m:\u001b[0m\u001b[0;34m\u001b[0m\u001b[0m\n\u001b[0;32m--> 401\u001b[0;31m                 \u001b[0mX_enn\u001b[0m\u001b[0;34m,\u001b[0m \u001b[0my_enn\u001b[0m \u001b[0;34m=\u001b[0m \u001b[0mself\u001b[0m\u001b[0;34m.\u001b[0m\u001b[0menn_\u001b[0m\u001b[0;34m.\u001b[0m\u001b[0mfit_sample\u001b[0m\u001b[0;34m(\u001b[0m\u001b[0mX_\u001b[0m\u001b[0;34m,\u001b[0m \u001b[0my_\u001b[0m\u001b[0;34m)\u001b[0m\u001b[0;34m\u001b[0m\u001b[0m\n\u001b[0m\u001b[1;32m    402\u001b[0m \u001b[0;34m\u001b[0m\u001b[0m\n\u001b[1;32m    403\u001b[0m             \u001b[0;31m# Check the stopping criterion\u001b[0m\u001b[0;34m\u001b[0m\u001b[0;34m\u001b[0m\u001b[0m\n",
            "\u001b[0;32m/usr/local/lib/python3.6/dist-packages/imblearn/base.py\u001b[0m in \u001b[0;36mfit_sample\u001b[0;34m(self, X, y)\u001b[0m\n\u001b[1;32m     86\u001b[0m         \"\"\"\n\u001b[1;32m     87\u001b[0m \u001b[0;34m\u001b[0m\u001b[0m\n\u001b[0;32m---> 88\u001b[0;31m         \u001b[0;32mreturn\u001b[0m \u001b[0mself\u001b[0m\u001b[0;34m.\u001b[0m\u001b[0mfit\u001b[0m\u001b[0;34m(\u001b[0m\u001b[0mX\u001b[0m\u001b[0;34m,\u001b[0m \u001b[0my\u001b[0m\u001b[0;34m)\u001b[0m\u001b[0;34m.\u001b[0m\u001b[0msample\u001b[0m\u001b[0;34m(\u001b[0m\u001b[0mX\u001b[0m\u001b[0;34m,\u001b[0m \u001b[0my\u001b[0m\u001b[0;34m)\u001b[0m\u001b[0;34m\u001b[0m\u001b[0m\n\u001b[0m\u001b[1;32m     89\u001b[0m \u001b[0;34m\u001b[0m\u001b[0m\n\u001b[1;32m     90\u001b[0m     \u001b[0;34m@\u001b[0m\u001b[0mabstractmethod\u001b[0m\u001b[0;34m\u001b[0m\u001b[0m\n",
            "\u001b[0;32m/usr/local/lib/python3.6/dist-packages/imblearn/base.py\u001b[0m in \u001b[0;36msample\u001b[0;34m(self, X, y)\u001b[0m\n\u001b[1;32m     62\u001b[0m         \u001b[0mself\u001b[0m\u001b[0;34m.\u001b[0m\u001b[0m_check_X_y\u001b[0m\u001b[0;34m(\u001b[0m\u001b[0mX\u001b[0m\u001b[0;34m,\u001b[0m \u001b[0my\u001b[0m\u001b[0;34m)\u001b[0m\u001b[0;34m\u001b[0m\u001b[0m\n\u001b[1;32m     63\u001b[0m \u001b[0;34m\u001b[0m\u001b[0m\n\u001b[0;32m---> 64\u001b[0;31m         \u001b[0;32mreturn\u001b[0m \u001b[0mself\u001b[0m\u001b[0;34m.\u001b[0m\u001b[0m_sample\u001b[0m\u001b[0;34m(\u001b[0m\u001b[0mX\u001b[0m\u001b[0;34m,\u001b[0m \u001b[0my\u001b[0m\u001b[0;34m)\u001b[0m\u001b[0;34m\u001b[0m\u001b[0m\n\u001b[0m\u001b[1;32m     65\u001b[0m \u001b[0;34m\u001b[0m\u001b[0m\n\u001b[1;32m     66\u001b[0m     \u001b[0;32mdef\u001b[0m \u001b[0mfit_sample\u001b[0m\u001b[0;34m(\u001b[0m\u001b[0mself\u001b[0m\u001b[0;34m,\u001b[0m \u001b[0mX\u001b[0m\u001b[0;34m,\u001b[0m \u001b[0my\u001b[0m\u001b[0;34m)\u001b[0m\u001b[0;34m:\u001b[0m\u001b[0;34m\u001b[0m\u001b[0m\n",
            "\u001b[0;32m/usr/local/lib/python3.6/dist-packages/imblearn/under_sampling/prototype_selection/edited_nearest_neighbours.py\u001b[0m in \u001b[0;36m_sample\u001b[0;34m(self, X, y)\u001b[0m\n\u001b[1;32m    194\u001b[0m                 \u001b[0my_class\u001b[0m \u001b[0;34m=\u001b[0m \u001b[0msafe_indexing\u001b[0m\u001b[0;34m(\u001b[0m\u001b[0my\u001b[0m\u001b[0;34m,\u001b[0m \u001b[0mtarget_class_indices\u001b[0m\u001b[0;34m)\u001b[0m\u001b[0;34m\u001b[0m\u001b[0m\n\u001b[1;32m    195\u001b[0m                 nnhood_idx = self.nn_.kneighbors(\n\u001b[0;32m--> 196\u001b[0;31m                     X_class, return_distance=False)[:, 1:]\n\u001b[0m\u001b[1;32m    197\u001b[0m                 \u001b[0mnnhood_label\u001b[0m \u001b[0;34m=\u001b[0m \u001b[0my\u001b[0m\u001b[0;34m[\u001b[0m\u001b[0mnnhood_idx\u001b[0m\u001b[0;34m]\u001b[0m\u001b[0;34m\u001b[0m\u001b[0m\n\u001b[1;32m    198\u001b[0m                 \u001b[0;32mif\u001b[0m \u001b[0mself\u001b[0m\u001b[0;34m.\u001b[0m\u001b[0mkind_sel\u001b[0m \u001b[0;34m==\u001b[0m \u001b[0;34m'mode'\u001b[0m\u001b[0;34m:\u001b[0m\u001b[0;34m\u001b[0m\u001b[0m\n",
            "\u001b[0;32m/usr/local/lib/python3.6/dist-packages/sklearn/neighbors/base.py\u001b[0m in \u001b[0;36mkneighbors\u001b[0;34m(self, X, n_neighbors, return_distance)\u001b[0m\n\u001b[1;32m    383\u001b[0m                 delayed(self._tree.query, check_pickle=False)(\n\u001b[1;32m    384\u001b[0m                     X[s], n_neighbors, return_distance)\n\u001b[0;32m--> 385\u001b[0;31m                 \u001b[0;32mfor\u001b[0m \u001b[0ms\u001b[0m \u001b[0;32min\u001b[0m \u001b[0mgen_even_slices\u001b[0m\u001b[0;34m(\u001b[0m\u001b[0mX\u001b[0m\u001b[0;34m.\u001b[0m\u001b[0mshape\u001b[0m\u001b[0;34m[\u001b[0m\u001b[0;36m0\u001b[0m\u001b[0;34m]\u001b[0m\u001b[0;34m,\u001b[0m \u001b[0mn_jobs\u001b[0m\u001b[0;34m)\u001b[0m\u001b[0;34m\u001b[0m\u001b[0m\n\u001b[0m\u001b[1;32m    386\u001b[0m             )\n\u001b[1;32m    387\u001b[0m             \u001b[0;32mif\u001b[0m \u001b[0mreturn_distance\u001b[0m\u001b[0;34m:\u001b[0m\u001b[0;34m\u001b[0m\u001b[0m\n",
            "\u001b[0;32m/usr/local/lib/python3.6/dist-packages/sklearn/externals/joblib/parallel.py\u001b[0m in \u001b[0;36m__call__\u001b[0;34m(self, iterable)\u001b[0m\n\u001b[1;32m    777\u001b[0m             \u001b[0;31m# was dispatched. In particular this covers the edge\u001b[0m\u001b[0;34m\u001b[0m\u001b[0;34m\u001b[0m\u001b[0m\n\u001b[1;32m    778\u001b[0m             \u001b[0;31m# case of Parallel used with an exhausted iterator.\u001b[0m\u001b[0;34m\u001b[0m\u001b[0;34m\u001b[0m\u001b[0m\n\u001b[0;32m--> 779\u001b[0;31m             \u001b[0;32mwhile\u001b[0m \u001b[0mself\u001b[0m\u001b[0;34m.\u001b[0m\u001b[0mdispatch_one_batch\u001b[0m\u001b[0;34m(\u001b[0m\u001b[0miterator\u001b[0m\u001b[0;34m)\u001b[0m\u001b[0;34m:\u001b[0m\u001b[0;34m\u001b[0m\u001b[0m\n\u001b[0m\u001b[1;32m    780\u001b[0m                 \u001b[0mself\u001b[0m\u001b[0;34m.\u001b[0m\u001b[0m_iterating\u001b[0m \u001b[0;34m=\u001b[0m \u001b[0;32mTrue\u001b[0m\u001b[0;34m\u001b[0m\u001b[0m\n\u001b[1;32m    781\u001b[0m             \u001b[0;32melse\u001b[0m\u001b[0;34m:\u001b[0m\u001b[0;34m\u001b[0m\u001b[0m\n",
            "\u001b[0;32m/usr/local/lib/python3.6/dist-packages/sklearn/externals/joblib/parallel.py\u001b[0m in \u001b[0;36mdispatch_one_batch\u001b[0;34m(self, iterator)\u001b[0m\n\u001b[1;32m    623\u001b[0m                 \u001b[0;32mreturn\u001b[0m \u001b[0;32mFalse\u001b[0m\u001b[0;34m\u001b[0m\u001b[0m\n\u001b[1;32m    624\u001b[0m             \u001b[0;32melse\u001b[0m\u001b[0;34m:\u001b[0m\u001b[0;34m\u001b[0m\u001b[0m\n\u001b[0;32m--> 625\u001b[0;31m                 \u001b[0mself\u001b[0m\u001b[0;34m.\u001b[0m\u001b[0m_dispatch\u001b[0m\u001b[0;34m(\u001b[0m\u001b[0mtasks\u001b[0m\u001b[0;34m)\u001b[0m\u001b[0;34m\u001b[0m\u001b[0m\n\u001b[0m\u001b[1;32m    626\u001b[0m                 \u001b[0;32mreturn\u001b[0m \u001b[0;32mTrue\u001b[0m\u001b[0;34m\u001b[0m\u001b[0m\n\u001b[1;32m    627\u001b[0m \u001b[0;34m\u001b[0m\u001b[0m\n",
            "\u001b[0;32m/usr/local/lib/python3.6/dist-packages/sklearn/externals/joblib/parallel.py\u001b[0m in \u001b[0;36m_dispatch\u001b[0;34m(self, batch)\u001b[0m\n\u001b[1;32m    586\u001b[0m         \u001b[0mdispatch_timestamp\u001b[0m \u001b[0;34m=\u001b[0m \u001b[0mtime\u001b[0m\u001b[0;34m.\u001b[0m\u001b[0mtime\u001b[0m\u001b[0;34m(\u001b[0m\u001b[0;34m)\u001b[0m\u001b[0;34m\u001b[0m\u001b[0m\n\u001b[1;32m    587\u001b[0m         \u001b[0mcb\u001b[0m \u001b[0;34m=\u001b[0m \u001b[0mBatchCompletionCallBack\u001b[0m\u001b[0;34m(\u001b[0m\u001b[0mdispatch_timestamp\u001b[0m\u001b[0;34m,\u001b[0m \u001b[0mlen\u001b[0m\u001b[0;34m(\u001b[0m\u001b[0mbatch\u001b[0m\u001b[0;34m)\u001b[0m\u001b[0;34m,\u001b[0m \u001b[0mself\u001b[0m\u001b[0;34m)\u001b[0m\u001b[0;34m\u001b[0m\u001b[0m\n\u001b[0;32m--> 588\u001b[0;31m         \u001b[0mjob\u001b[0m \u001b[0;34m=\u001b[0m \u001b[0mself\u001b[0m\u001b[0;34m.\u001b[0m\u001b[0m_backend\u001b[0m\u001b[0;34m.\u001b[0m\u001b[0mapply_async\u001b[0m\u001b[0;34m(\u001b[0m\u001b[0mbatch\u001b[0m\u001b[0;34m,\u001b[0m \u001b[0mcallback\u001b[0m\u001b[0;34m=\u001b[0m\u001b[0mcb\u001b[0m\u001b[0;34m)\u001b[0m\u001b[0;34m\u001b[0m\u001b[0m\n\u001b[0m\u001b[1;32m    589\u001b[0m         \u001b[0mself\u001b[0m\u001b[0;34m.\u001b[0m\u001b[0m_jobs\u001b[0m\u001b[0;34m.\u001b[0m\u001b[0mappend\u001b[0m\u001b[0;34m(\u001b[0m\u001b[0mjob\u001b[0m\u001b[0;34m)\u001b[0m\u001b[0;34m\u001b[0m\u001b[0m\n\u001b[1;32m    590\u001b[0m \u001b[0;34m\u001b[0m\u001b[0m\n",
            "\u001b[0;32m/usr/local/lib/python3.6/dist-packages/sklearn/externals/joblib/_parallel_backends.py\u001b[0m in \u001b[0;36mapply_async\u001b[0;34m(self, func, callback)\u001b[0m\n\u001b[1;32m    109\u001b[0m     \u001b[0;32mdef\u001b[0m \u001b[0mapply_async\u001b[0m\u001b[0;34m(\u001b[0m\u001b[0mself\u001b[0m\u001b[0;34m,\u001b[0m \u001b[0mfunc\u001b[0m\u001b[0;34m,\u001b[0m \u001b[0mcallback\u001b[0m\u001b[0;34m=\u001b[0m\u001b[0;32mNone\u001b[0m\u001b[0;34m)\u001b[0m\u001b[0;34m:\u001b[0m\u001b[0;34m\u001b[0m\u001b[0m\n\u001b[1;32m    110\u001b[0m         \u001b[0;34m\"\"\"Schedule a func to be run\"\"\"\u001b[0m\u001b[0;34m\u001b[0m\u001b[0m\n\u001b[0;32m--> 111\u001b[0;31m         \u001b[0mresult\u001b[0m \u001b[0;34m=\u001b[0m \u001b[0mImmediateResult\u001b[0m\u001b[0;34m(\u001b[0m\u001b[0mfunc\u001b[0m\u001b[0;34m)\u001b[0m\u001b[0;34m\u001b[0m\u001b[0m\n\u001b[0m\u001b[1;32m    112\u001b[0m         \u001b[0;32mif\u001b[0m \u001b[0mcallback\u001b[0m\u001b[0;34m:\u001b[0m\u001b[0;34m\u001b[0m\u001b[0m\n\u001b[1;32m    113\u001b[0m             \u001b[0mcallback\u001b[0m\u001b[0;34m(\u001b[0m\u001b[0mresult\u001b[0m\u001b[0;34m)\u001b[0m\u001b[0;34m\u001b[0m\u001b[0m\n",
            "\u001b[0;32m/usr/local/lib/python3.6/dist-packages/sklearn/externals/joblib/_parallel_backends.py\u001b[0m in \u001b[0;36m__init__\u001b[0;34m(self, batch)\u001b[0m\n\u001b[1;32m    330\u001b[0m         \u001b[0;31m# Don't delay the application, to avoid keeping the input\u001b[0m\u001b[0;34m\u001b[0m\u001b[0;34m\u001b[0m\u001b[0m\n\u001b[1;32m    331\u001b[0m         \u001b[0;31m# arguments in memory\u001b[0m\u001b[0;34m\u001b[0m\u001b[0;34m\u001b[0m\u001b[0m\n\u001b[0;32m--> 332\u001b[0;31m         \u001b[0mself\u001b[0m\u001b[0;34m.\u001b[0m\u001b[0mresults\u001b[0m \u001b[0;34m=\u001b[0m \u001b[0mbatch\u001b[0m\u001b[0;34m(\u001b[0m\u001b[0;34m)\u001b[0m\u001b[0;34m\u001b[0m\u001b[0m\n\u001b[0m\u001b[1;32m    333\u001b[0m \u001b[0;34m\u001b[0m\u001b[0m\n\u001b[1;32m    334\u001b[0m     \u001b[0;32mdef\u001b[0m \u001b[0mget\u001b[0m\u001b[0;34m(\u001b[0m\u001b[0mself\u001b[0m\u001b[0;34m)\u001b[0m\u001b[0;34m:\u001b[0m\u001b[0;34m\u001b[0m\u001b[0m\n",
            "\u001b[0;32m/usr/local/lib/python3.6/dist-packages/sklearn/externals/joblib/parallel.py\u001b[0m in \u001b[0;36m__call__\u001b[0;34m(self)\u001b[0m\n\u001b[1;32m    129\u001b[0m \u001b[0;34m\u001b[0m\u001b[0m\n\u001b[1;32m    130\u001b[0m     \u001b[0;32mdef\u001b[0m \u001b[0m__call__\u001b[0m\u001b[0;34m(\u001b[0m\u001b[0mself\u001b[0m\u001b[0;34m)\u001b[0m\u001b[0;34m:\u001b[0m\u001b[0;34m\u001b[0m\u001b[0m\n\u001b[0;32m--> 131\u001b[0;31m         \u001b[0;32mreturn\u001b[0m \u001b[0;34m[\u001b[0m\u001b[0mfunc\u001b[0m\u001b[0;34m(\u001b[0m\u001b[0;34m*\u001b[0m\u001b[0margs\u001b[0m\u001b[0;34m,\u001b[0m \u001b[0;34m**\u001b[0m\u001b[0mkwargs\u001b[0m\u001b[0;34m)\u001b[0m \u001b[0;32mfor\u001b[0m \u001b[0mfunc\u001b[0m\u001b[0;34m,\u001b[0m \u001b[0margs\u001b[0m\u001b[0;34m,\u001b[0m \u001b[0mkwargs\u001b[0m \u001b[0;32min\u001b[0m \u001b[0mself\u001b[0m\u001b[0;34m.\u001b[0m\u001b[0mitems\u001b[0m\u001b[0;34m]\u001b[0m\u001b[0;34m\u001b[0m\u001b[0m\n\u001b[0m\u001b[1;32m    132\u001b[0m \u001b[0;34m\u001b[0m\u001b[0m\n\u001b[1;32m    133\u001b[0m     \u001b[0;32mdef\u001b[0m \u001b[0m__len__\u001b[0m\u001b[0;34m(\u001b[0m\u001b[0mself\u001b[0m\u001b[0;34m)\u001b[0m\u001b[0;34m:\u001b[0m\u001b[0;34m\u001b[0m\u001b[0m\n",
            "\u001b[0;32m/usr/local/lib/python3.6/dist-packages/sklearn/externals/joblib/parallel.py\u001b[0m in \u001b[0;36m<listcomp>\u001b[0;34m(.0)\u001b[0m\n\u001b[1;32m    129\u001b[0m \u001b[0;34m\u001b[0m\u001b[0m\n\u001b[1;32m    130\u001b[0m     \u001b[0;32mdef\u001b[0m \u001b[0m__call__\u001b[0m\u001b[0;34m(\u001b[0m\u001b[0mself\u001b[0m\u001b[0;34m)\u001b[0m\u001b[0;34m:\u001b[0m\u001b[0;34m\u001b[0m\u001b[0m\n\u001b[0;32m--> 131\u001b[0;31m         \u001b[0;32mreturn\u001b[0m \u001b[0;34m[\u001b[0m\u001b[0mfunc\u001b[0m\u001b[0;34m(\u001b[0m\u001b[0;34m*\u001b[0m\u001b[0margs\u001b[0m\u001b[0;34m,\u001b[0m \u001b[0;34m**\u001b[0m\u001b[0mkwargs\u001b[0m\u001b[0;34m)\u001b[0m \u001b[0;32mfor\u001b[0m \u001b[0mfunc\u001b[0m\u001b[0;34m,\u001b[0m \u001b[0margs\u001b[0m\u001b[0;34m,\u001b[0m \u001b[0mkwargs\u001b[0m \u001b[0;32min\u001b[0m \u001b[0mself\u001b[0m\u001b[0;34m.\u001b[0m\u001b[0mitems\u001b[0m\u001b[0;34m]\u001b[0m\u001b[0;34m\u001b[0m\u001b[0m\n\u001b[0m\u001b[1;32m    132\u001b[0m \u001b[0;34m\u001b[0m\u001b[0m\n\u001b[1;32m    133\u001b[0m     \u001b[0;32mdef\u001b[0m \u001b[0m__len__\u001b[0m\u001b[0;34m(\u001b[0m\u001b[0mself\u001b[0m\u001b[0;34m)\u001b[0m\u001b[0;34m:\u001b[0m\u001b[0;34m\u001b[0m\u001b[0m\n",
            "\u001b[0;31mKeyboardInterrupt\u001b[0m: "
          ]
        }
      ]
    },
    {
      "metadata": {
        "id": "erTC6gUtUGfW",
        "colab_type": "code",
        "colab": {
          "base_uri": "https://localhost:8080/",
          "height": 1447
        },
        "outputId": "8267573e-3fd1-4383-fff6-813696b1eee9"
      },
      "cell_type": "code",
      "source": [
        "\n",
        "# Catboost using 5 fold stratified cross validation\n",
        "i=1\n",
        "\n",
        "scores = []\n",
        "\n",
        "kf = StratifiedKFold(n_splits=2,random_state=1,shuffle=True)\n",
        "\n",
        "X = pd.get_dummies(X)\n",
        "\n",
        "for train_index,test_index in kf.split(X,y):\n",
        "\n",
        "     print('\\n{} of kfold {}'.format(i,kf.n_splits))\n",
        "    \n",
        "     xtr,xvl = X.loc[train_index],X.loc[test_index]\n",
        "     ytr,yvl = y[train_index],y[test_index]\n",
        "        \n",
        "     rs = EditedNearestNeighbours(random_state=42)\n",
        "     xtr_res, ytr_res = rs.fit_sample(xtr, ytr)\n",
        "          \n",
        "     print (\"\\nDistribution of class labels before resampling {}\".format(Counter(ytr)))\n",
        "     print (\"\\nDistribution of class labels after resampling {}\".format(Counter(ytr_res)))\n",
        "     \n",
        "     model = GradientBoostingClassifier(n_estimators=1000,verbose=1)\n",
        "     model.fit(xtr_res, ytr_res)\n",
        "     pred=model.predict_proba(xvl)[:,1]\n",
        "     score = f1_score(yvl,pred.round())\n",
        "     print('f1_score',score)\n",
        "     print (classification_report(yvl,pred.round()))\n",
        "     scores.append(score)\n",
        "      \n",
        "     i+=1\n",
        "    \n",
        "print(\"Mean score:\",np.mean(scores))\n",
        "print(\"Standard deviation:\",np.std(scores))"
      ],
      "execution_count": 125,
      "outputs": [
        {
          "output_type": "stream",
          "text": [
            "\n",
            "1 of kfold 2\n",
            "\n",
            "Distribution of class labels before resampling Counter({0: 25070, 1: 2334})\n",
            "\n",
            "Distribution of class labels after resampling Counter({0: 21322, 1: 2334})\n",
            "      Iter       Train Loss   Remaining Time \n",
            "         1           0.6066           40.20s\n",
            "         2           0.5867           39.91s\n",
            "         3           0.5721           39.88s\n",
            "         4           0.5606           40.46s\n",
            "         5           0.5495           40.44s\n",
            "         6           0.5413           40.34s\n",
            "         7           0.5331           40.34s\n",
            "         8           0.5272           40.36s\n",
            "         9           0.5209           40.61s\n",
            "        10           0.5156           40.73s\n",
            "        20           0.4474           43.68s\n",
            "        30           0.4153           44.05s\n",
            "        40           0.3983           43.70s\n",
            "        50           0.3823           43.74s\n",
            "        60           0.3715           43.05s\n",
            "        70           0.3642           42.11s\n",
            "        80           0.3582           41.31s\n",
            "        90           0.3531           40.47s\n",
            "       100           0.3500           39.39s\n",
            "       200           0.3233           33.57s\n",
            "       300           0.3087           28.68s\n",
            "       400           0.2972           24.61s\n",
            "       500           0.2886           20.28s\n",
            "       600           0.2814           16.23s\n",
            "       700           0.2744           12.28s\n",
            "       800           0.2679            8.23s\n",
            "       900           0.2623            4.12s\n",
            "      1000           0.2561            0.00s\n",
            "f1_score 0.5090302861906085\n",
            "             precision    recall  f1-score   support\n",
            "\n",
            "          0       0.95      0.99      0.97     25070\n",
            "          1       0.72      0.39      0.51      2334\n",
            "\n",
            "avg / total       0.93      0.94      0.93     27404\n",
            "\n",
            "\n",
            "2 of kfold 2\n",
            "\n",
            "Distribution of class labels before resampling Counter({0: 25070, 1: 2334})\n",
            "\n",
            "Distribution of class labels after resampling Counter({0: 21299, 1: 2334})\n",
            "      Iter       Train Loss   Remaining Time \n",
            "         1           0.6087           42.27s\n",
            "         2           0.5890           41.47s\n",
            "         3           0.5745           41.12s\n",
            "         4           0.5614           41.80s\n",
            "         5           0.5515           41.50s\n",
            "         6           0.5424           41.36s\n",
            "         7           0.5337           41.38s\n",
            "         8           0.5264           41.24s\n",
            "         9           0.5198           41.51s\n",
            "        10           0.5122           41.35s\n",
            "        20           0.4657           41.75s\n",
            "        30           0.4344           41.79s\n",
            "        40           0.4094           41.83s\n",
            "        50           0.3903           42.23s\n",
            "        60           0.3817           41.49s\n",
            "        70           0.3747           40.79s\n",
            "        80           0.3686           40.12s\n",
            "        90           0.3632           39.26s\n",
            "       100           0.3578           38.72s\n",
            "       200           0.3312           32.77s\n",
            "       300           0.3135           28.62s\n",
            "       400           0.3019           24.37s\n",
            "       500           0.2920           20.33s\n",
            "       600           0.2845           16.26s\n",
            "       700           0.2772           12.22s\n",
            "       800           0.2709            8.15s\n",
            "       900           0.2656            4.09s\n",
            "      1000           0.2598            0.00s\n",
            "f1_score 0.5210583153347732\n",
            "             precision    recall  f1-score   support\n",
            "\n",
            "          0       0.95      0.98      0.97     25070\n",
            "          1       0.70      0.41      0.52      2334\n",
            "\n",
            "avg / total       0.93      0.94      0.93     27404\n",
            "\n",
            "Mean score: 0.5150443007626908\n",
            "Standard deviation: 0.006014014572082338\n"
          ],
          "name": "stdout"
        }
      ]
    },
    {
      "metadata": {
        "id": "ALQ8-a89TbHy",
        "colab_type": "code",
        "colab": {
          "base_uri": "https://localhost:8080/",
          "height": 1447
        },
        "outputId": "37e11bfc-ac40-44cb-fff4-f75a739f5f43"
      },
      "cell_type": "code",
      "source": [
        "\n",
        "# Catboost using 5 fold stratified cross validation\n",
        "i=1\n",
        "\n",
        "scores = []\n",
        "\n",
        "kf = StratifiedKFold(n_splits=2,random_state=1,shuffle=True)\n",
        "\n",
        "X = pd.get_dummies(X)\n",
        "\n",
        "for train_index,test_index in kf.split(X,y):\n",
        "\n",
        "     print('\\n{} of kfold {}'.format(i,kf.n_splits))\n",
        "    \n",
        "     xtr,xvl = X.loc[train_index],X.loc[test_index]\n",
        "     ytr,yvl = y[train_index],y[test_index]\n",
        "        \n",
        "     rs = RandomUnderSampler(random_state=42)\n",
        "     xtr_res, ytr_res = rs.fit_sample(xtr, ytr)\n",
        "          \n",
        "     print (\"\\nDistribution of class labels before resampling {}\".format(Counter(ytr)))\n",
        "     print (\"\\nDistribution of class labels after resampling {}\".format(Counter(ytr_res)))\n",
        "     \n",
        "     model = GradientBoostingClassifier(n_estimators=1000,verbose=1)\n",
        "     model.fit(xtr_res, ytr_res)\n",
        "     pred=model.predict_proba(xvl)[:,1]\n",
        "     score = f1_score(yvl,pred.round())\n",
        "     print('f1_score',score)\n",
        "     print (classification_report(yvl,pred.round()))\n",
        "     scores.append(score)\n",
        "      \n",
        "     i+=1\n",
        "    \n",
        "print(\"Mean score:\",np.mean(scores))\n",
        "print(\"Standard deviation:\",np.std(scores))"
      ],
      "execution_count": 124,
      "outputs": [
        {
          "output_type": "stream",
          "text": [
            "\n",
            "1 of kfold 2\n",
            "\n",
            "Distribution of class labels before resampling Counter({0: 25070, 1: 2334})\n",
            "\n",
            "Distribution of class labels after resampling Counter({0: 2334, 1: 2334})\n",
            "      Iter       Train Loss   Remaining Time \n",
            "         1           1.3307           11.47s\n",
            "         2           1.2854           11.54s\n",
            "         3           1.2473           11.47s\n",
            "         4           1.2134           11.44s\n",
            "         5           1.1850           11.39s\n",
            "         6           1.1602           11.30s\n",
            "         7           1.1383           11.30s\n",
            "         8           1.1203           11.24s\n",
            "         9           1.1024           11.27s\n",
            "        10           1.0879           11.07s\n",
            "        20           0.9833           10.40s\n",
            "        30           0.9135            9.90s\n",
            "        40           0.8691            9.60s\n",
            "        50           0.8251            9.71s\n",
            "        60           0.7956            9.51s\n",
            "        70           0.7725            9.34s\n",
            "        80           0.7532            9.24s\n",
            "        90           0.7373            9.01s\n",
            "       100           0.7272            8.79s\n",
            "       200           0.6556            7.13s\n",
            "       300           0.6060            6.09s\n",
            "       400           0.5697            5.16s\n",
            "       500           0.5421            4.27s\n",
            "       600           0.5162            3.39s\n",
            "       700           0.4923            2.55s\n",
            "       800           0.4723            1.70s\n",
            "       900           0.4550            0.85s\n",
            "      1000           0.4389            0.00s\n",
            "f1_score 0.3852851971431367\n",
            "             precision    recall  f1-score   support\n",
            "\n",
            "          0       0.98      0.76      0.86     25070\n",
            "          1       0.25      0.84      0.39      2334\n",
            "\n",
            "avg / total       0.92      0.77      0.82     27404\n",
            "\n",
            "\n",
            "2 of kfold 2\n",
            "\n",
            "Distribution of class labels before resampling Counter({0: 25070, 1: 2334})\n",
            "\n",
            "Distribution of class labels after resampling Counter({0: 2334, 1: 2334})\n",
            "      Iter       Train Loss   Remaining Time \n",
            "         1           1.3281           11.11s\n",
            "         2           1.2806           11.26s\n",
            "         3           1.2406           11.38s\n",
            "         4           1.2069           11.30s\n",
            "         5           1.1782           11.18s\n",
            "         6           1.1502           11.13s\n",
            "         7           1.1285           11.05s\n",
            "         8           1.1084           11.04s\n",
            "         9           1.0918           10.99s\n",
            "        10           1.0720           11.01s\n",
            "        20           0.9638           10.49s\n",
            "        30           0.8900            9.93s\n",
            "        40           0.8479            9.48s\n",
            "        50           0.8203            9.26s\n",
            "        60           0.7925            8.93s\n",
            "        70           0.7757            8.66s\n",
            "        80           0.7568            8.55s\n",
            "        90           0.7470            8.27s\n",
            "       100           0.7344            8.09s\n",
            "       200           0.6509            6.75s\n",
            "       300           0.6029            5.82s\n",
            "       400           0.5685            4.94s\n",
            "       500           0.5380            4.12s\n",
            "       600           0.5131            3.30s\n",
            "       700           0.4902            2.49s\n",
            "       800           0.4675            1.68s\n",
            "       900           0.4482            0.85s\n",
            "      1000           0.4297            0.00s\n",
            "f1_score 0.37879645349933977\n",
            "             precision    recall  f1-score   support\n",
            "\n",
            "          0       0.98      0.75      0.85     25070\n",
            "          1       0.24      0.86      0.38      2334\n",
            "\n",
            "avg / total       0.92      0.76      0.81     27404\n",
            "\n",
            "Mean score: 0.38204082532123823\n",
            "Standard deviation: 0.003244371821898462\n"
          ],
          "name": "stdout"
        }
      ]
    },
    {
      "metadata": {
        "id": "-ecBU6Cr6F-u",
        "colab_type": "code",
        "colab": {
          "base_uri": "https://localhost:8080/",
          "height": 862
        },
        "outputId": "b8eca5c2-6b2b-499f-fd7a-bcf0c7cce37d"
      },
      "cell_type": "code",
      "source": [
        "# Catboost using 5 fold stratified cross validation\n",
        "i=1\n",
        "\n",
        "scores = []\n",
        "\n",
        "kf = StratifiedKFold(n_splits=5,random_state=1,shuffle=True)\n",
        "\n",
        "X = pd.get_dummies(X)\n",
        "\n",
        "for train_index,test_index in kf.split(X,y):\n",
        "\n",
        "     print('\\n{} of kfold {}'.format(i,kf.n_splits))\n",
        "    \n",
        "     xtr,xvl = X.loc[train_index],X.loc[test_index]\n",
        "     ytr,yvl = y[train_index],y[test_index]\n",
        "     \n",
        "     model = LogisticRegression(class_weight='balanced')\n",
        "     model.fit(xtr, ytr)\n",
        "     pred=model.predict_proba(xvl)[:,1]\n",
        "     score = f1_score(yvl,pred.round())\n",
        "     print('f1_score',score)\n",
        "     print (classification_report(yvl,pred.round()))\n",
        "     scores.append(score)\n",
        "      \n",
        "     i+=1\n",
        "    \n",
        "print(\"Mean score:\",np.mean(scores))\n",
        "print(\"Standard deviation:\",np.std(scores))"
      ],
      "execution_count": 83,
      "outputs": [
        {
          "output_type": "stream",
          "text": [
            "\n",
            "1 of kfold 5\n",
            "f1_score 0.37158733993718285\n",
            "             precision    recall  f1-score   support\n",
            "\n",
            "          0       0.98      0.76      0.85     10028\n",
            "          1       0.24      0.82      0.37       934\n",
            "\n",
            "avg / total       0.92      0.76      0.81     10962\n",
            "\n",
            "\n",
            "2 of kfold 5\n",
            "f1_score 0.37680438028870084\n",
            "             precision    recall  f1-score   support\n",
            "\n",
            "          0       0.98      0.77      0.86     10028\n",
            "          1       0.25      0.81      0.38       934\n",
            "\n",
            "avg / total       0.92      0.77      0.82     10962\n",
            "\n",
            "\n",
            "3 of kfold 5\n",
            "f1_score 0.3745754488112567\n",
            "             precision    recall  f1-score   support\n",
            "\n",
            "          0       0.98      0.76      0.86     10028\n",
            "          1       0.24      0.83      0.37       934\n",
            "\n",
            "avg / total       0.92      0.76      0.81     10962\n",
            "\n",
            "\n",
            "4 of kfold 5\n",
            "f1_score 0.3703523693803159\n",
            "             precision    recall  f1-score   support\n",
            "\n",
            "          0       0.98      0.76      0.85     10028\n",
            "          1       0.24      0.82      0.37       933\n",
            "\n",
            "avg / total       0.92      0.76      0.81     10961\n",
            "\n",
            "\n",
            "5 of kfold 5\n",
            "f1_score 0.3687732342007435\n",
            "             precision    recall  f1-score   support\n",
            "\n",
            "          0       0.98      0.76      0.86     10028\n",
            "          1       0.24      0.80      0.37       933\n",
            "\n",
            "avg / total       0.91      0.77      0.82     10961\n",
            "\n",
            "Mean score: 0.3724185545236399\n",
            "Standard deviation: 0.0029029660556465263\n"
          ],
          "name": "stdout"
        }
      ]
    },
    {
      "metadata": {
        "id": "GHQ9FK9PmVsw",
        "colab_type": "code",
        "colab": {
          "base_uri": "https://localhost:8080/",
          "height": 1370
        },
        "outputId": "1363305a-82fa-4d11-ee20-81c426483f60"
      },
      "cell_type": "code",
      "source": [
        "# Catboost using 5 fold stratified cross validation\n",
        "i=1\n",
        "\n",
        "scores = []\n",
        "\n",
        "kf = StratifiedKFold(n_splits=3,random_state=1,shuffle=True)\n",
        "\n",
        "X = pd.get_dummies(X)\n",
        "\n",
        "for train_index,test_index in kf.split(X,y):\n",
        "\n",
        "     print('\\n{} of kfold {}'.format(i,kf.n_splits))\n",
        "    \n",
        "     xtr,xvl = X.loc[train_index],X.loc[test_index]\n",
        "     ytr,yvl = y[train_index],y[test_index]\n",
        "        \n",
        "     rs = NearMiss(ratio=0.5,n_neighbors=3, version=2)  \n",
        "     xtr_res, ytr_res = rs.fit_sample(xtr, ytr)\n",
        "          \n",
        "     print (\"\\nDistribution of class labels before resampling {}\".format(Counter(ytr)))\n",
        "     print (\"\\nDistribution of class labels after resampling {}\".format(Counter(ytr_res)))\n",
        "     \n",
        "     model = LogisticRegression(class_weight='balanced')\n",
        "     model.fit(xtr_res, ytr_res)\n",
        "     pred=model.predict_proba(xvl)[:,1]\n",
        "     score = f1_score(yvl,pred.round())\n",
        "     print('f1_score',score)\n",
        "     print (classification_report(yvl,pred.round()))\n",
        "     scores.append(score)\n",
        "      \n",
        "     i+=1\n",
        "    \n",
        "print(\"Mean score:\",np.mean(scores))\n",
        "print(\"Standard deviation:\",np.std(scores))"
      ],
      "execution_count": 84,
      "outputs": [
        {
          "output_type": "stream",
          "text": [
            "\n",
            "1 of kfold 5\n"
          ],
          "name": "stdout"
        },
        {
          "output_type": "stream",
          "text": [
            "/usr/local/lib/python3.6/dist-packages/sklearn/utils/deprecation.py:77: DeprecationWarning: Function _ratio_float is deprecated; Use a float for 'ratio' is deprecated from version 0.2. The support will be removed in 0.4. Use a dict, str, or a callable instead.\n",
            "  warnings.warn(msg, category=DeprecationWarning)\n"
          ],
          "name": "stderr"
        },
        {
          "output_type": "stream",
          "text": [
            "\n",
            "Distribution of class labels before resampling Counter({0: 40112, 1: 3734})\n",
            "\n",
            "Distribution of class labels after resampling Counter({0: 7468, 1: 3734})\n",
            "f1_score 0.1959525471039777\n",
            "             precision    recall  f1-score   support\n",
            "\n",
            "          0       0.95      0.45      0.61     10028\n",
            "          1       0.11      0.75      0.20       934\n",
            "\n",
            "avg / total       0.88      0.47      0.57     10962\n",
            "\n",
            "\n",
            "2 of kfold 5\n"
          ],
          "name": "stdout"
        },
        {
          "output_type": "stream",
          "text": [
            "/usr/local/lib/python3.6/dist-packages/sklearn/utils/deprecation.py:77: DeprecationWarning: Function _ratio_float is deprecated; Use a float for 'ratio' is deprecated from version 0.2. The support will be removed in 0.4. Use a dict, str, or a callable instead.\n",
            "  warnings.warn(msg, category=DeprecationWarning)\n"
          ],
          "name": "stderr"
        },
        {
          "output_type": "stream",
          "text": [
            "\n",
            "Distribution of class labels before resampling Counter({0: 40112, 1: 3734})\n",
            "\n",
            "Distribution of class labels after resampling Counter({0: 7468, 1: 3734})\n",
            "f1_score 0.20011179429849077\n",
            "             precision    recall  f1-score   support\n",
            "\n",
            "          0       0.95      0.45      0.61     10028\n",
            "          1       0.12      0.77      0.20       934\n",
            "\n",
            "avg / total       0.88      0.48      0.58     10962\n",
            "\n",
            "\n",
            "3 of kfold 5\n"
          ],
          "name": "stdout"
        },
        {
          "output_type": "stream",
          "text": [
            "/usr/local/lib/python3.6/dist-packages/sklearn/utils/deprecation.py:77: DeprecationWarning: Function _ratio_float is deprecated; Use a float for 'ratio' is deprecated from version 0.2. The support will be removed in 0.4. Use a dict, str, or a callable instead.\n",
            "  warnings.warn(msg, category=DeprecationWarning)\n"
          ],
          "name": "stderr"
        },
        {
          "output_type": "stream",
          "text": [
            "\n",
            "Distribution of class labels before resampling Counter({0: 40112, 1: 3734})\n",
            "\n",
            "Distribution of class labels after resampling Counter({0: 7468, 1: 3734})\n",
            "f1_score 0.19368188715684923\n",
            "             precision    recall  f1-score   support\n",
            "\n",
            "          0       0.95      0.44      0.60     10028\n",
            "          1       0.11      0.75      0.19       934\n",
            "\n",
            "avg / total       0.88      0.47      0.57     10962\n",
            "\n",
            "\n",
            "4 of kfold 5\n"
          ],
          "name": "stdout"
        },
        {
          "output_type": "stream",
          "text": [
            "/usr/local/lib/python3.6/dist-packages/sklearn/utils/deprecation.py:77: DeprecationWarning: Function _ratio_float is deprecated; Use a float for 'ratio' is deprecated from version 0.2. The support will be removed in 0.4. Use a dict, str, or a callable instead.\n",
            "  warnings.warn(msg, category=DeprecationWarning)\n"
          ],
          "name": "stderr"
        },
        {
          "output_type": "stream",
          "text": [
            "\n",
            "Distribution of class labels before resampling Counter({0: 40112, 1: 3735})\n",
            "\n",
            "Distribution of class labels after resampling Counter({0: 7470, 1: 3735})\n",
            "f1_score 0.20695480782767844\n",
            "             precision    recall  f1-score   support\n",
            "\n",
            "          0       0.96      0.46      0.62     10028\n",
            "          1       0.12      0.79      0.21       933\n",
            "\n",
            "avg / total       0.89      0.49      0.58     10961\n",
            "\n",
            "\n",
            "5 of kfold 5\n"
          ],
          "name": "stdout"
        },
        {
          "output_type": "stream",
          "text": [
            "/usr/local/lib/python3.6/dist-packages/sklearn/utils/deprecation.py:77: DeprecationWarning: Function _ratio_float is deprecated; Use a float for 'ratio' is deprecated from version 0.2. The support will be removed in 0.4. Use a dict, str, or a callable instead.\n",
            "  warnings.warn(msg, category=DeprecationWarning)\n"
          ],
          "name": "stderr"
        },
        {
          "output_type": "stream",
          "text": [
            "\n",
            "Distribution of class labels before resampling Counter({0: 40112, 1: 3735})\n",
            "\n",
            "Distribution of class labels after resampling Counter({0: 7470, 1: 3735})\n",
            "f1_score 0.1989994441356309\n",
            "             precision    recall  f1-score   support\n",
            "\n",
            "          0       0.95      0.45      0.61     10028\n",
            "          1       0.11      0.77      0.20       933\n",
            "\n",
            "avg / total       0.88      0.47      0.57     10961\n",
            "\n",
            "Mean score: 0.1991400961045254\n",
            "Standard deviation: 0.004516330661496787\n"
          ],
          "name": "stdout"
        }
      ]
    },
    {
      "metadata": {
        "id": "OwNqwyWf4qyS",
        "colab_type": "code",
        "colab": {
          "base_uri": "https://localhost:8080/",
          "height": 850
        },
        "outputId": "264f751f-2723-4056-ac1d-a4b8eea17d86"
      },
      "cell_type": "code",
      "source": [
        "\n",
        "# Catboost using 5 fold stratified cross validation\n",
        "i=1\n",
        "\n",
        "scores = []\n",
        "\n",
        "kf = StratifiedKFold(n_splits=3,random_state=1,shuffle=True)\n",
        "\n",
        "X = pd.get_dummies(X)\n",
        "\n",
        "for train_index,test_index in kf.split(X,y):\n",
        "\n",
        "     print('\\n{} of kfold {}'.format(i,kf.n_splits))\n",
        "    \n",
        "     xtr,xvl = X.loc[train_index],X.loc[test_index]\n",
        "     ytr,yvl = y[train_index],y[test_index]\n",
        "        \n",
        "     rs = RandomOverSampler(ratio=0.5)  \n",
        "     xtr_res, ytr_res = rs.fit_sample(xtr, ytr)\n",
        "          \n",
        "     print (\"\\nDistribution of class labels before resampling {}\".format(Counter(ytr)))\n",
        "     print (\"\\nDistribution of class labels after resampling {}\".format(Counter(ytr_res)))\n",
        "     \n",
        "     model = LogisticRegression(class_weight='balanced')\n",
        "     model.fit(xtr_res, ytr_res)\n",
        "     pred=model.predict_proba(xvl)[:,1]\n",
        "     score = f1_score(yvl,pred.round())\n",
        "     print('f1_score',score)\n",
        "     print (classification_report(yvl,pred.round()))\n",
        "     scores.append(score)\n",
        "      \n",
        "     i+=1\n",
        "    \n",
        "print(\"Mean score:\",np.mean(scores))\n",
        "print(\"Standard deviation:\",np.std(scores))"
      ],
      "execution_count": 85,
      "outputs": [
        {
          "output_type": "stream",
          "text": [
            "\n",
            "1 of kfold 3\n",
            "\n",
            "Distribution of class labels before resampling Counter({0: 33426, 1: 3112})\n",
            "\n",
            "Distribution of class labels after resampling Counter({0: 33426, 1: 16713})\n"
          ],
          "name": "stdout"
        },
        {
          "output_type": "stream",
          "text": [
            "/usr/local/lib/python3.6/dist-packages/sklearn/utils/deprecation.py:77: DeprecationWarning: Function _ratio_float is deprecated; Use a float for 'ratio' is deprecated from version 0.2. The support will be removed in 0.4. Use a dict, str, or a callable instead.\n",
            "  warnings.warn(msg, category=DeprecationWarning)\n"
          ],
          "name": "stderr"
        },
        {
          "output_type": "stream",
          "text": [
            "f1_score 0.3716892289582107\n",
            "             precision    recall  f1-score   support\n",
            "\n",
            "          0       0.98      0.76      0.86     16714\n",
            "          1       0.24      0.81      0.37      1556\n",
            "\n",
            "avg / total       0.91      0.77      0.82     18270\n",
            "\n",
            "\n",
            "2 of kfold 3\n",
            "\n",
            "Distribution of class labels before resampling Counter({0: 33427, 1: 3112})\n",
            "\n",
            "Distribution of class labels after resampling Counter({0: 33427, 1: 16713})\n"
          ],
          "name": "stdout"
        },
        {
          "output_type": "stream",
          "text": [
            "/usr/local/lib/python3.6/dist-packages/sklearn/utils/deprecation.py:77: DeprecationWarning: Function _ratio_float is deprecated; Use a float for 'ratio' is deprecated from version 0.2. The support will be removed in 0.4. Use a dict, str, or a callable instead.\n",
            "  warnings.warn(msg, category=DeprecationWarning)\n"
          ],
          "name": "stderr"
        },
        {
          "output_type": "stream",
          "text": [
            "f1_score 0.374180387585604\n",
            "             precision    recall  f1-score   support\n",
            "\n",
            "          0       0.98      0.76      0.86     16713\n",
            "          1       0.24      0.83      0.37      1556\n",
            "\n",
            "avg / total       0.92      0.76      0.81     18269\n",
            "\n",
            "\n",
            "3 of kfold 3\n",
            "\n",
            "Distribution of class labels before resampling Counter({0: 33427, 1: 3112})\n",
            "\n",
            "Distribution of class labels after resampling Counter({0: 33427, 1: 16713})\n"
          ],
          "name": "stdout"
        },
        {
          "output_type": "stream",
          "text": [
            "/usr/local/lib/python3.6/dist-packages/sklearn/utils/deprecation.py:77: DeprecationWarning: Function _ratio_float is deprecated; Use a float for 'ratio' is deprecated from version 0.2. The support will be removed in 0.4. Use a dict, str, or a callable instead.\n",
            "  warnings.warn(msg, category=DeprecationWarning)\n"
          ],
          "name": "stderr"
        },
        {
          "output_type": "stream",
          "text": [
            "f1_score 0.37221065159178823\n",
            "             precision    recall  f1-score   support\n",
            "\n",
            "          0       0.98      0.77      0.86     16713\n",
            "          1       0.24      0.80      0.37      1556\n",
            "\n",
            "avg / total       0.91      0.77      0.82     18269\n",
            "\n",
            "Mean score: 0.3726934227118677\n",
            "Standard deviation: 0.0010727748420167418\n"
          ],
          "name": "stdout"
        }
      ]
    },
    {
      "metadata": {
        "id": "mDquHMrX5q1d",
        "colab_type": "code",
        "colab": {
          "base_uri": "https://localhost:8080/",
          "height": 1045
        },
        "outputId": "59de21cd-0195-449c-a3ab-90cbf4309cae"
      },
      "cell_type": "code",
      "source": [
        "\n",
        "# Catboost using 5 fold stratified cross validation\n",
        "i=1\n",
        "\n",
        "scores = []\n",
        "\n",
        "kf = StratifiedKFold(n_splits=3,random_state=1,shuffle=True)\n",
        "\n",
        "X = pd.get_dummies(X)\n",
        "\n",
        "for train_index,test_index in kf.split(X,y):\n",
        "\n",
        "     print('\\n{} of kfold {}'.format(i,kf.n_splits))\n",
        "    \n",
        "     xtr,xvl = X.loc[train_index],X.loc[test_index]\n",
        "     ytr,yvl = y[train_index],y[test_index]\n",
        "        \n",
        "     rs = SMOTETomek(ratio=0.5, k=5)\n",
        "     xtr_res, ytr_res = rs.fit_sample(xtr, ytr)\n",
        "          \n",
        "     print (\"\\nDistribution of class labels before resampling {}\".format(Counter(ytr)))\n",
        "     print (\"\\nDistribution of class labels after resampling {}\".format(Counter(ytr_res)))\n",
        "     \n",
        "     model = LogisticRegression(class_weight='balanced')\n",
        "     model.fit(xtr_res, ytr_res)\n",
        "     pred=model.predict_proba(xvl)[:,1]\n",
        "     score = f1_score(yvl,pred.round())\n",
        "     print('f1_score',score)\n",
        "     print (classification_report(yvl,pred.round()))\n",
        "     scores.append(score)\n",
        "      \n",
        "     i+=1\n",
        "    \n",
        "print(\"Mean score:\",np.mean(scores))\n",
        "print(\"Standard deviation:\",np.std(scores))"
      ],
      "execution_count": 86,
      "outputs": [
        {
          "output_type": "stream",
          "text": [
            "\n",
            "1 of kfold 3\n"
          ],
          "name": "stdout"
        },
        {
          "output_type": "stream",
          "text": [
            "/usr/local/lib/python3.6/dist-packages/sklearn/utils/deprecation.py:77: DeprecationWarning: Function _ratio_float is deprecated; Use a float for 'ratio' is deprecated from version 0.2. The support will be removed in 0.4. Use a dict, str, or a callable instead.\n",
            "  warnings.warn(msg, category=DeprecationWarning)\n",
            "/usr/local/lib/python3.6/dist-packages/imblearn/utils/deprecation.py:50: DeprecationWarning: 'k' is deprecated from 0.2 and will be removed in 0.4. Use 'k_neighbors' instead.\n",
            "  category=DeprecationWarning)\n",
            "/usr/local/lib/python3.6/dist-packages/imblearn/utils/deprecation.py:50: DeprecationWarning: 'm' is deprecated from 0.2 and will be removed in 0.4. Use 'm_neighbors' instead.\n",
            "  category=DeprecationWarning)\n"
          ],
          "name": "stderr"
        },
        {
          "output_type": "stream",
          "text": [
            "\n",
            "Distribution of class labels before resampling Counter({0: 33426, 1: 3112})\n",
            "\n",
            "Distribution of class labels after resampling Counter({0: 33398, 1: 16685})\n",
            "f1_score 0.37288642825078555\n",
            "             precision    recall  f1-score   support\n",
            "\n",
            "          0       0.98      0.77      0.86     16714\n",
            "          1       0.24      0.80      0.37      1556\n",
            "\n",
            "avg / total       0.91      0.77      0.82     18270\n",
            "\n",
            "\n",
            "2 of kfold 3\n"
          ],
          "name": "stdout"
        },
        {
          "output_type": "stream",
          "text": [
            "/usr/local/lib/python3.6/dist-packages/sklearn/utils/deprecation.py:77: DeprecationWarning: Function _ratio_float is deprecated; Use a float for 'ratio' is deprecated from version 0.2. The support will be removed in 0.4. Use a dict, str, or a callable instead.\n",
            "  warnings.warn(msg, category=DeprecationWarning)\n",
            "/usr/local/lib/python3.6/dist-packages/imblearn/utils/deprecation.py:50: DeprecationWarning: 'k' is deprecated from 0.2 and will be removed in 0.4. Use 'k_neighbors' instead.\n",
            "  category=DeprecationWarning)\n",
            "/usr/local/lib/python3.6/dist-packages/imblearn/utils/deprecation.py:50: DeprecationWarning: 'm' is deprecated from 0.2 and will be removed in 0.4. Use 'm_neighbors' instead.\n",
            "  category=DeprecationWarning)\n"
          ],
          "name": "stderr"
        },
        {
          "output_type": "stream",
          "text": [
            "\n",
            "Distribution of class labels before resampling Counter({0: 33427, 1: 3112})\n",
            "\n",
            "Distribution of class labels after resampling Counter({0: 33397, 1: 16683})\n",
            "f1_score 0.3742742295667708\n",
            "             precision    recall  f1-score   support\n",
            "\n",
            "          0       0.98      0.77      0.86     16713\n",
            "          1       0.24      0.81      0.37      1556\n",
            "\n",
            "avg / total       0.91      0.77      0.82     18269\n",
            "\n",
            "\n",
            "3 of kfold 3\n"
          ],
          "name": "stdout"
        },
        {
          "output_type": "stream",
          "text": [
            "/usr/local/lib/python3.6/dist-packages/sklearn/utils/deprecation.py:77: DeprecationWarning: Function _ratio_float is deprecated; Use a float for 'ratio' is deprecated from version 0.2. The support will be removed in 0.4. Use a dict, str, or a callable instead.\n",
            "  warnings.warn(msg, category=DeprecationWarning)\n",
            "/usr/local/lib/python3.6/dist-packages/imblearn/utils/deprecation.py:50: DeprecationWarning: 'k' is deprecated from 0.2 and will be removed in 0.4. Use 'k_neighbors' instead.\n",
            "  category=DeprecationWarning)\n",
            "/usr/local/lib/python3.6/dist-packages/imblearn/utils/deprecation.py:50: DeprecationWarning: 'm' is deprecated from 0.2 and will be removed in 0.4. Use 'm_neighbors' instead.\n",
            "  category=DeprecationWarning)\n"
          ],
          "name": "stderr"
        },
        {
          "output_type": "stream",
          "text": [
            "\n",
            "Distribution of class labels before resampling Counter({0: 33427, 1: 3112})\n",
            "\n",
            "Distribution of class labels after resampling Counter({0: 33397, 1: 16683})\n",
            "f1_score 0.3761048460835112\n",
            "             precision    recall  f1-score   support\n",
            "\n",
            "          0       0.98      0.77      0.86     16713\n",
            "          1       0.25      0.79      0.38      1556\n",
            "\n",
            "avg / total       0.91      0.78      0.82     18269\n",
            "\n",
            "Mean score: 0.37442183463368917\n",
            "Standard deviation: 0.00131805254784893\n"
          ],
          "name": "stdout"
        }
      ]
    },
    {
      "metadata": {
        "id": "9eSwbvS77vqe",
        "colab_type": "code",
        "colab": {
          "base_uri": "https://localhost:8080/",
          "height": 732
        },
        "outputId": "56b5d791-26e3-449f-ab9b-31d1e845b6a5"
      },
      "cell_type": "code",
      "source": [
        "\n",
        "# Catboost using 5 fold stratified cross validation\n",
        "i=1\n",
        "\n",
        "scores = []\n",
        "\n",
        "kf = StratifiedKFold(n_splits=3,random_state=1,shuffle=True)\n",
        "\n",
        "X = pd.get_dummies(X)\n",
        "\n",
        "for train_index,test_index in kf.split(X,y):\n",
        "\n",
        "     print('\\n{} of kfold {}'.format(i,kf.n_splits))\n",
        "    \n",
        "     xtr,xvl = X.loc[train_index],X.loc[test_index]\n",
        "     ytr,yvl = y[train_index],y[test_index]\n",
        "        \n",
        "     rs = SMOTE(random_state=42)\n",
        "     xtr_res, ytr_res = rs.fit_sample(xtr, ytr)\n",
        "          \n",
        "     print (\"\\nDistribution of class labels before resampling {}\".format(Counter(ytr)))\n",
        "     print (\"\\nDistribution of class labels after resampling {}\".format(Counter(ytr_res)))\n",
        "     \n",
        "     model = LogisticRegression(class_weight='balanced')\n",
        "     model.fit(xtr_res, ytr_res)\n",
        "     pred=model.predict_proba(xvl)[:,1]\n",
        "     score = f1_score(yvl,pred.round())\n",
        "     print('f1_score',score)\n",
        "     print (classification_report(yvl,pred.round()))\n",
        "     scores.append(score)\n",
        "      \n",
        "     i+=1\n",
        "    \n",
        "print(\"Mean score:\",np.mean(scores))\n",
        "print(\"Standard deviation:\",np.std(scores))"
      ],
      "execution_count": 95,
      "outputs": [
        {
          "output_type": "stream",
          "text": [
            "\n",
            "1 of kfold 3\n",
            "\n",
            "Distribution of class labels before resampling Counter({0: 33426, 1: 3112})\n",
            "\n",
            "Distribution of class labels after resampling Counter({0: 33426, 1: 33426})\n",
            "f1_score 0.37353383458646616\n",
            "             precision    recall  f1-score   support\n",
            "\n",
            "          0       0.98      0.77      0.86     16714\n",
            "          1       0.24      0.80      0.37      1556\n",
            "\n",
            "avg / total       0.91      0.77      0.82     18270\n",
            "\n",
            "\n",
            "2 of kfold 3\n",
            "\n",
            "Distribution of class labels before resampling Counter({0: 33427, 1: 3112})\n",
            "\n",
            "Distribution of class labels after resampling Counter({0: 33427, 1: 33427})\n",
            "f1_score 0.3762081784386617\n",
            "             precision    recall  f1-score   support\n",
            "\n",
            "          0       0.98      0.77      0.86     16713\n",
            "          1       0.24      0.81      0.38      1556\n",
            "\n",
            "avg / total       0.92      0.77      0.82     18269\n",
            "\n",
            "\n",
            "3 of kfold 3\n",
            "\n",
            "Distribution of class labels before resampling Counter({0: 33427, 1: 3112})\n",
            "\n",
            "Distribution of class labels after resampling Counter({0: 33427, 1: 33427})\n",
            "f1_score 0.37473363774733637\n",
            "             precision    recall  f1-score   support\n",
            "\n",
            "          0       0.98      0.77      0.86     16713\n",
            "          1       0.25      0.79      0.37      1556\n",
            "\n",
            "avg / total       0.91      0.78      0.82     18269\n",
            "\n",
            "Mean score: 0.37482521692415477\n",
            "Standard deviation: 0.001093715020519238\n"
          ],
          "name": "stdout"
        }
      ]
    },
    {
      "metadata": {
        "id": "kobemDUfFUcC",
        "colab_type": "code",
        "colab": {
          "base_uri": "https://localhost:8080/",
          "height": 732
        },
        "outputId": "88ad1f54-e9be-4a9f-c6f8-ecae61da265a"
      },
      "cell_type": "code",
      "source": [
        "\n",
        "# Catboost using 5 fold stratified cross validation\n",
        "i=1\n",
        "\n",
        "scores = []\n",
        "\n",
        "kf = StratifiedKFold(n_splits=3,random_state=1,shuffle=True)\n",
        "\n",
        "X = pd.get_dummies(X)\n",
        "\n",
        "for train_index,test_index in kf.split(X,y):\n",
        "\n",
        "     print('\\n{} of kfold {}'.format(i,kf.n_splits))\n",
        "    \n",
        "     xtr,xvl = X.loc[train_index],X.loc[test_index]\n",
        "     ytr,yvl = y[train_index],y[test_index]\n",
        "        \n",
        "     rs = ADASYN()\n",
        "     xtr_res, ytr_res = rs.fit_sample(xtr, ytr)\n",
        "          \n",
        "     print (\"\\nDistribution of class labels before resampling {}\".format(Counter(ytr)))\n",
        "     print (\"\\nDistribution of class labels after resampling {}\".format(Counter(ytr_res)))\n",
        "     \n",
        "     model = LogisticRegression(class_weight='balanced')\n",
        "     model.fit(xtr_res, ytr_res)\n",
        "     pred=model.predict_proba(xvl)[:,1]\n",
        "     score = f1_score(yvl,pred.round())\n",
        "     print('f1_score',score)\n",
        "     print (classification_report(yvl,pred.round()))\n",
        "     scores.append(score)\n",
        "      \n",
        "     i+=1\n",
        "    \n",
        "print(\"Mean score:\",np.mean(scores))\n",
        "print(\"Standard deviation:\",np.std(scores))"
      ],
      "execution_count": 97,
      "outputs": [
        {
          "output_type": "stream",
          "text": [
            "\n",
            "1 of kfold 3\n",
            "\n",
            "Distribution of class labels before resampling Counter({0: 33426, 1: 3112})\n",
            "\n",
            "Distribution of class labels after resampling Counter({0: 33426, 1: 32705})\n",
            "f1_score 0.36871669307215904\n",
            "             precision    recall  f1-score   support\n",
            "\n",
            "          0       0.98      0.75      0.85     16714\n",
            "          1       0.24      0.82      0.37      1556\n",
            "\n",
            "avg / total       0.92      0.76      0.81     18270\n",
            "\n",
            "\n",
            "2 of kfold 3\n",
            "\n",
            "Distribution of class labels before resampling Counter({0: 33427, 1: 3112})\n",
            "\n",
            "Distribution of class labels after resampling Counter({0: 33427, 1: 32567})\n",
            "f1_score 0.369864960909737\n",
            "             precision    recall  f1-score   support\n",
            "\n",
            "          0       0.98      0.75      0.85     16713\n",
            "          1       0.24      0.84      0.37      1556\n",
            "\n",
            "avg / total       0.92      0.76      0.81     18269\n",
            "\n",
            "\n",
            "3 of kfold 3\n",
            "\n",
            "Distribution of class labels before resampling Counter({0: 33427, 1: 3112})\n",
            "\n",
            "Distribution of class labels after resampling Counter({1: 34318, 0: 33427})\n",
            "f1_score 0.3676896352055588\n",
            "             precision    recall  f1-score   support\n",
            "\n",
            "          0       0.98      0.76      0.85     16713\n",
            "          1       0.24      0.82      0.37      1556\n",
            "\n",
            "avg / total       0.91      0.76      0.81     18269\n",
            "\n",
            "Mean score: 0.3687570963958183\n",
            "Standard deviation: 0.0008885324234326297\n"
          ],
          "name": "stdout"
        }
      ]
    },
    {
      "metadata": {
        "id": "1hLD1W4JGDdK",
        "colab_type": "code",
        "colab": {
          "base_uri": "https://localhost:8080/",
          "height": 2146
        },
        "outputId": "de385be6-7086-44a7-9dff-c9c1c45a331a"
      },
      "cell_type": "code",
      "source": [
        "\n",
        "# Catboost using 5 fold stratified cross validation\n",
        "i=1\n",
        "\n",
        "scores = []\n",
        "\n",
        "kf = StratifiedKFold(n_splits=1,random_state=1,shuffle=True)\n",
        "\n",
        "X = pd.get_dummies(X)\n",
        "\n",
        "for train_index,test_index in kf.split(X,y):\n",
        "\n",
        "     print('\\n{} of kfold {}'.format(i,kf.n_splits))\n",
        "    \n",
        "     xtr,xvl = X.loc[train_index],X.loc[test_index]\n",
        "     ytr,yvl = y[train_index],y[test_index]\n",
        "        \n",
        "     rs = SMOTE(kind='borderline1')\n",
        "     xtr_res, ytr_res = rs.fit_sample(xtr, ytr)\n",
        "          \n",
        "     print (\"\\nDistribution of class labels before resampling {}\".format(Counter(ytr)))\n",
        "     print (\"\\nDistribution of class labels after resampling {}\".format(Counter(ytr_res)))\n",
        "     \n",
        "     model = GradientBoostingClassifier(n_estimators=1000,verbose=1)\n",
        "     model.fit(xtr_res, ytr_res)\n",
        "     pred=model.predict_proba(xvl)[:,1]\n",
        "     score = f1_score(yvl,pred.round())\n",
        "     print('f1_score',score)\n",
        "     print (classification_report(yvl,pred.round()))\n",
        "     scores.append(score)\n",
        "      \n",
        "     i+=1\n",
        "    \n",
        "print(\"Mean score:\",np.mean(scores))\n",
        "print(\"Standard deviation:\",np.std(scores))"
      ],
      "execution_count": 99,
      "outputs": [
        {
          "output_type": "stream",
          "text": [
            "\n",
            "1 of kfold 3\n",
            "\n",
            "Distribution of class labels before resampling Counter({0: 33426, 1: 3112})\n",
            "\n",
            "Distribution of class labels after resampling Counter({0: 33426, 1: 33426})\n",
            "      Iter       Train Loss   Remaining Time \n",
            "         1           1.3100            2.94m\n",
            "         2           1.2478            2.80m\n",
            "         3           1.1961            2.77m\n",
            "         4           1.1529            2.74m\n",
            "         5           1.1095            2.76m\n",
            "         6           1.0741            2.76m\n",
            "         7           1.0459            2.76m\n",
            "         8           1.0184            2.78m\n",
            "         9           0.9899            2.80m\n",
            "        10           0.9706            2.81m\n",
            "        20           0.7958            2.80m\n",
            "        30           0.6742            2.78m\n",
            "        40           0.5840            2.72m\n",
            "        50           0.5243            2.68m\n",
            "        60           0.4871            2.58m\n",
            "        70           0.4556            2.53m\n",
            "        80           0.4311            2.45m\n",
            "        90           0.4107            2.38m\n",
            "       100           0.3955            2.32m\n",
            "       200           0.2918            1.93m\n",
            "       300           0.2461            1.66m\n",
            "       400           0.2155            1.43m\n",
            "       500           0.1990            1.19m\n",
            "       600           0.1881           57.09s\n",
            "       700           0.1801           42.93s\n",
            "       800           0.1746           28.59s\n",
            "       900           0.1702           14.30s\n",
            "      1000           0.1663            0.00s\n",
            "f1_score 0.5054844606946983\n",
            "             precision    recall  f1-score   support\n",
            "\n",
            "          0       0.94      1.00      0.97     16714\n",
            "          1       0.88      0.36      0.51      1556\n",
            "\n",
            "avg / total       0.94      0.94      0.93     18270\n",
            "\n",
            "\n",
            "2 of kfold 3\n",
            "\n",
            "Distribution of class labels before resampling Counter({0: 33427, 1: 3112})\n",
            "\n",
            "Distribution of class labels after resampling Counter({0: 33427, 1: 33427})\n",
            "      Iter       Train Loss   Remaining Time \n",
            "         1           1.3100            2.90m\n",
            "         2           1.2485            2.81m\n",
            "         3           1.1974            2.78m\n",
            "         4           1.1545            2.75m\n",
            "         5           1.1136            2.76m\n",
            "         6           1.0784            2.77m\n",
            "         7           1.0473            2.77m\n",
            "         8           1.0229            2.76m\n",
            "         9           0.9992            2.75m\n",
            "        10           0.9806            2.75m\n",
            "        20           0.8142            2.79m\n",
            "        30           0.6918            2.75m\n",
            "        40           0.6044            2.68m\n",
            "        50           0.5414            2.61m\n",
            "        60           0.5036            2.53m\n",
            "        70           0.4718            2.47m\n",
            "        80           0.4503            2.38m\n",
            "        90           0.4268            2.34m\n",
            "       100           0.4112            2.28m\n",
            "       200           0.2993            1.91m\n",
            "       300           0.2495            1.66m\n",
            "       400           0.2205            1.41m\n",
            "       500           0.2011            1.18m\n",
            "       600           0.1901           56.59s\n",
            "       700           0.1818           42.53s\n",
            "       800           0.1756           28.38s\n",
            "       900           0.1712           14.16s\n",
            "      1000           0.1675            0.00s\n",
            "f1_score 0.5154545454545455\n",
            "             precision    recall  f1-score   support\n",
            "\n",
            "          0       0.94      1.00      0.97     16713\n",
            "          1       0.88      0.36      0.52      1556\n",
            "\n",
            "avg / total       0.94      0.94      0.93     18269\n",
            "\n",
            "\n",
            "3 of kfold 3\n",
            "\n",
            "Distribution of class labels before resampling Counter({0: 33427, 1: 3112})\n",
            "\n",
            "Distribution of class labels after resampling Counter({0: 33427, 1: 33427})\n",
            "      Iter       Train Loss   Remaining Time \n",
            "         1           1.3107            2.87m\n",
            "         2           1.2491            2.77m\n",
            "         3           1.1983            2.80m\n",
            "         4           1.1521            2.81m\n",
            "         5           1.1143            2.79m\n",
            "         6           1.0828            2.77m\n",
            "         7           1.0521            2.78m\n",
            "         8           1.0255            2.81m\n",
            "         9           1.0041            2.82m\n",
            "        10           0.9818            2.85m\n",
            "        20           0.8017            2.85m\n",
            "        30           0.6764            2.77m\n",
            "        40           0.5966            2.71m\n",
            "        50           0.5342            2.65m\n",
            "        60           0.4917            2.57m\n",
            "        70           0.4616            2.49m\n",
            "        80           0.4364            2.42m\n",
            "        90           0.4138            2.37m\n",
            "       100           0.3984            2.31m\n",
            "       200           0.2913            1.94m\n",
            "       300           0.2452            1.66m\n",
            "       400           0.2162            1.42m\n",
            "       500           0.1984            1.21m\n",
            "       600           0.1880           57.79s\n",
            "       700           0.1800           43.44s\n",
            "       800           0.1744           28.82s\n",
            "       900           0.1699           14.43s\n",
            "      1000           0.1663            0.00s\n",
            "f1_score 0.49794050343249435\n",
            "             precision    recall  f1-score   support\n",
            "\n",
            "          0       0.94      0.99      0.97     16713\n",
            "          1       0.86      0.35      0.50      1556\n",
            "\n",
            "avg / total       0.94      0.94      0.93     18269\n",
            "\n",
            "Mean score: 0.5062931698605794\n",
            "Standard deviation: 0.007172908516251892\n"
          ],
          "name": "stdout"
        }
      ]
    },
    {
      "metadata": {
        "id": "oSpzVyJyHz1E",
        "colab_type": "code",
        "colab": {
          "base_uri": "https://localhost:8080/",
          "height": 1447
        },
        "outputId": "58714772-f5ad-4f5b-9727-c94d6caf89dc"
      },
      "cell_type": "code",
      "source": [
        "\n",
        "# Catboost using 5 fold stratified cross validation\n",
        "i=1\n",
        "\n",
        "scores = []\n",
        "\n",
        "kf = StratifiedKFold(n_splits=2,random_state=1,shuffle=True)\n",
        "\n",
        "X = pd.get_dummies(X)\n",
        "\n",
        "for train_index,test_index in kf.split(X,y):\n",
        "\n",
        "     print('\\n{} of kfold {}'.format(i,kf.n_splits))\n",
        "    \n",
        "     xtr,xvl = X.loc[train_index],X.loc[test_index]\n",
        "     ytr,yvl = y[train_index],y[test_index]\n",
        "        \n",
        "     rs = SMOTE(kind='borderline2')\n",
        "     xtr_res, ytr_res = rs.fit_sample(xtr, ytr)\n",
        "          \n",
        "     print (\"\\nDistribution of class labels before resampling {}\".format(Counter(ytr)))\n",
        "     print (\"\\nDistribution of class labels after resampling {}\".format(Counter(ytr_res)))\n",
        "     \n",
        "     model = GradientBoostingClassifier(n_estimators=1000,verbose=1)\n",
        "     model.fit(xtr_res, ytr_res)\n",
        "     pred=model.predict_proba(xvl)[:,1]\n",
        "     score = f1_score(yvl,pred.round())\n",
        "     print('f1_score',score)\n",
        "     print (classification_report(yvl,pred.round()))\n",
        "     scores.append(score)\n",
        "      \n",
        "     i+=1\n",
        "    \n",
        "print(\"Mean score:\",np.mean(scores))\n",
        "print(\"Standard deviation:\",np.std(scores))"
      ],
      "execution_count": 101,
      "outputs": [
        {
          "output_type": "stream",
          "text": [
            "\n",
            "1 of kfold 2\n",
            "\n",
            "Distribution of class labels before resampling Counter({0: 25070, 1: 2334})\n",
            "\n",
            "Distribution of class labels after resampling Counter({0: 25070, 1: 25069})\n",
            "      Iter       Train Loss   Remaining Time \n",
            "         1           1.3011            2.23m\n",
            "         2           1.2311            2.16m\n",
            "         3           1.1729            2.21m\n",
            "         4           1.1253            2.16m\n",
            "         5           1.0817            2.16m\n",
            "         6           1.0461            2.14m\n",
            "         7           1.0116            2.14m\n",
            "         8           0.9839            2.11m\n",
            "         9           0.9552            2.12m\n",
            "        10           0.9258            2.14m\n",
            "        20           0.7198            2.14m\n",
            "        30           0.5849            2.11m\n",
            "        40           0.5040            2.08m\n",
            "        50           0.4459            2.05m\n",
            "        60           0.4051            2.01m\n",
            "        70           0.3792            1.94m\n",
            "        80           0.3519            1.92m\n",
            "        90           0.3334            1.88m\n",
            "       100           0.3193            1.84m\n",
            "       200           0.2465            1.54m\n",
            "       300           0.2146            1.30m\n",
            "       400           0.1954            1.10m\n",
            "       500           0.1830           55.03s\n",
            "       600           0.1749           43.86s\n",
            "       700           0.1693           32.95s\n",
            "       800           0.1639           21.98s\n",
            "       900           0.1597           11.01s\n",
            "      1000           0.1560            0.00s\n",
            "f1_score 0.5030339805825242\n",
            "             precision    recall  f1-score   support\n",
            "\n",
            "          0       0.94      0.99      0.97     25070\n",
            "          1       0.86      0.36      0.50      2334\n",
            "\n",
            "avg / total       0.94      0.94      0.93     27404\n",
            "\n",
            "\n",
            "2 of kfold 2\n",
            "\n",
            "Distribution of class labels before resampling Counter({0: 25070, 1: 2334})\n",
            "\n",
            "Distribution of class labels after resampling Counter({0: 25070, 1: 25069})\n",
            "      Iter       Train Loss   Remaining Time \n",
            "         1           1.3006            2.25m\n",
            "         2           1.2305            2.20m\n",
            "         3           1.1710            2.21m\n",
            "         4           1.1197            2.20m\n",
            "         5           1.0765            2.19m\n",
            "         6           1.0362            2.19m\n",
            "         7           1.0050            2.18m\n",
            "         8           0.9745            2.18m\n",
            "         9           0.9435            2.20m\n",
            "        10           0.9161            2.21m\n",
            "        20           0.7308            2.26m\n",
            "        30           0.5926            2.26m\n",
            "        40           0.5123            2.17m\n",
            "        50           0.4594            2.12m\n",
            "        60           0.4204            2.07m\n",
            "        70           0.3944            2.01m\n",
            "        80           0.3724            1.95m\n",
            "        90           0.3543            1.90m\n",
            "       100           0.3417            1.85m\n",
            "       200           0.2573            1.53m\n",
            "       300           0.2187            1.31m\n",
            "       400           0.2007            1.11m\n",
            "       500           0.1874           55.28s\n",
            "       600           0.1786           44.06s\n",
            "       700           0.1723           32.95s\n",
            "       800           0.1675           22.00s\n",
            "       900           0.1631           11.05s\n",
            "      1000           0.1593            0.00s\n",
            "f1_score 0.5188059701492537\n",
            "             precision    recall  f1-score   support\n",
            "\n",
            "          0       0.94      0.99      0.97     25070\n",
            "          1       0.86      0.37      0.52      2334\n",
            "\n",
            "avg / total       0.94      0.94      0.93     27404\n",
            "\n",
            "Mean score: 0.510919975365889\n",
            "Standard deviation: 0.007885994783364714\n"
          ],
          "name": "stdout"
        }
      ]
    },
    {
      "metadata": {
        "id": "CPF9oyF9Icjb",
        "colab_type": "code",
        "colab": {
          "base_uri": "https://localhost:8080/",
          "height": 1447
        },
        "outputId": "5d303ae3-49c7-44de-b406-9a97026314a9"
      },
      "cell_type": "code",
      "source": [
        "\n",
        "# Catboost using 5 fold stratified cross validation\n",
        "i=1\n",
        "\n",
        "scores = []\n",
        "\n",
        "kf = StratifiedKFold(n_splits=2,random_state=1,shuffle=True)\n",
        "\n",
        "X = pd.get_dummies(X)\n",
        "\n",
        "for train_index,test_index in kf.split(X,y):\n",
        "\n",
        "     print('\\n{} of kfold {}'.format(i,kf.n_splits))\n",
        "    \n",
        "     xtr,xvl = X.loc[train_index],X.loc[test_index]\n",
        "     ytr,yvl = y[train_index],y[test_index]\n",
        "        \n",
        "     rs = SMOTE(kind='svm')\n",
        "     xtr_res, ytr_res = rs.fit_sample(xtr, ytr)\n",
        "          \n",
        "     print (\"\\nDistribution of class labels before resampling {}\".format(Counter(ytr)))\n",
        "     print (\"\\nDistribution of class labels after resampling {}\".format(Counter(ytr_res)))\n",
        "     \n",
        "     model = GradientBoostingClassifier(n_estimators=1000,verbose=1)\n",
        "     model.fit(xtr_res, ytr_res)\n",
        "     pred=model.predict_proba(xvl)[:,1]\n",
        "     score = f1_score(yvl,pred.round())\n",
        "     print('f1_score',score)\n",
        "     print (classification_report(yvl,pred.round()))\n",
        "     scores.append(score)\n",
        "      \n",
        "     i+=1\n",
        "    \n",
        "print(\"Mean score:\",np.mean(scores))\n",
        "print(\"Standard deviation:\",np.std(scores))"
      ],
      "execution_count": 103,
      "outputs": [
        {
          "output_type": "stream",
          "text": [
            "\n",
            "1 of kfold 2\n",
            "\n",
            "Distribution of class labels before resampling Counter({0: 25070, 1: 2334})\n",
            "\n",
            "Distribution of class labels after resampling Counter({0: 25070, 1: 25069})\n",
            "      Iter       Train Loss   Remaining Time \n",
            "         1           1.2756            1.88m\n",
            "         2           1.1851            1.85m\n",
            "         3           1.1097            1.87m\n",
            "         4           1.0462            1.85m\n",
            "         5           0.9920            1.86m\n",
            "         6           0.9454            1.85m\n",
            "         7           0.9049            1.85m\n",
            "         8           0.8702            1.85m\n",
            "         9           0.8377            1.88m\n",
            "        10           0.8061            1.89m\n",
            "        20           0.6243            1.93m\n",
            "        30           0.5364            1.91m\n",
            "        40           0.4736            1.89m\n",
            "        50           0.4256            1.86m\n",
            "        60           0.3866            1.84m\n",
            "        70           0.3619            1.81m\n",
            "        80           0.3400            1.78m\n",
            "        90           0.3217            1.76m\n",
            "       100           0.3086            1.74m\n",
            "       200           0.2436            1.49m\n",
            "       300           0.2146            1.27m\n",
            "       400           0.1953            1.09m\n",
            "       500           0.1839           53.75s\n",
            "       600           0.1757           43.08s\n",
            "       700           0.1701           32.24s\n",
            "       800           0.1650           21.51s\n",
            "       900           0.1610           10.78s\n",
            "      1000           0.1571            0.00s\n",
            "f1_score 0.4972644376899696\n",
            "             precision    recall  f1-score   support\n",
            "\n",
            "          0       0.94      0.99      0.97     25070\n",
            "          1       0.86      0.35      0.50      2334\n",
            "\n",
            "avg / total       0.94      0.94      0.93     27404\n",
            "\n",
            "\n",
            "2 of kfold 2\n",
            "\n",
            "Distribution of class labels before resampling Counter({0: 25070, 1: 2334})\n",
            "\n",
            "Distribution of class labels after resampling Counter({0: 25070, 1: 25070})\n",
            "      Iter       Train Loss   Remaining Time \n",
            "         1           1.2913            1.93m\n",
            "         2           1.2136            1.89m\n",
            "         3           1.1488            1.91m\n",
            "         4           1.0938            1.92m\n",
            "         5           1.0467            1.94m\n",
            "         6           1.0028            1.94m\n",
            "         7           0.9653            1.95m\n",
            "         8           0.9333            1.96m\n",
            "         9           0.8988            1.99m\n",
            "        10           0.8687            2.02m\n",
            "        20           0.6881            2.04m\n",
            "        30           0.5847            2.03m\n",
            "        40           0.5137            1.98m\n",
            "        50           0.4601            1.92m\n",
            "        60           0.4289            1.87m\n",
            "        70           0.3955            1.84m\n",
            "        80           0.3724            1.81m\n",
            "        90           0.3556            1.77m\n",
            "       100           0.3347            1.75m\n",
            "       200           0.2543            1.48m\n",
            "       300           0.2203            1.27m\n",
            "       400           0.2014            1.08m\n",
            "       500           0.1885           53.92s\n",
            "       600           0.1800           42.92s\n",
            "       700           0.1730           32.27s\n",
            "       800           0.1672           21.68s\n",
            "       900           0.1630           10.85s\n",
            "      1000           0.1590            0.00s\n",
            "f1_score 0.5108173076923078\n",
            "             precision    recall  f1-score   support\n",
            "\n",
            "          0       0.94      0.99      0.97     25070\n",
            "          1       0.86      0.36      0.51      2334\n",
            "\n",
            "avg / total       0.94      0.94      0.93     27404\n",
            "\n",
            "Mean score: 0.5040408726911387\n",
            "Standard deviation: 0.006776435001169118\n"
          ],
          "name": "stdout"
        }
      ]
    },
    {
      "metadata": {
        "id": "IsDeds2PM5m0",
        "colab_type": "code",
        "colab": {
          "base_uri": "https://localhost:8080/",
          "height": 1447
        },
        "outputId": "5c81eda0-26d0-4d7a-9034-a4c2f9d9e33a"
      },
      "cell_type": "code",
      "source": [
        "\n",
        "# Catboost using 5 fold stratified cross validation\n",
        "i=1\n",
        "\n",
        "scores = []\n",
        "\n",
        "kf = StratifiedKFold(n_splits=2,random_state=1,shuffle=True)\n",
        "\n",
        "X = pd.get_dummies(X)\n",
        "\n",
        "for train_index,test_index in kf.split(X,y):\n",
        "\n",
        "     print('\\n{} of kfold {}'.format(i,kf.n_splits))\n",
        "    \n",
        "     xtr,xvl = X.loc[train_index],X.loc[test_index]\n",
        "     ytr,yvl = y[train_index],y[test_index]\n",
        "        \n",
        "     rs = SMOTEENN(random_state=0)\n",
        "     xtr_res, ytr_res = rs.fit_sample(xtr, ytr)\n",
        "          \n",
        "     print (\"\\nDistribution of class labels before resampling {}\".format(Counter(ytr)))\n",
        "     print (\"\\nDistribution of class labels after resampling {}\".format(Counter(ytr_res)))\n",
        "     \n",
        "     model = GradientBoostingClassifier(n_estimators=1000,verbose=1)\n",
        "     model.fit(xtr_res, ytr_res)\n",
        "     pred=model.predict_proba(xvl)[:,1]\n",
        "     score = f1_score(yvl,pred.round())\n",
        "     print('f1_score',score)\n",
        "     print (classification_report(yvl,pred.round()))\n",
        "     scores.append(score)\n",
        "      \n",
        "     i+=1\n",
        "    \n",
        "print(\"Mean score:\",np.mean(scores))\n",
        "print(\"Standard deviation:\",np.std(scores))"
      ],
      "execution_count": 106,
      "outputs": [
        {
          "output_type": "stream",
          "text": [
            "\n",
            "1 of kfold 2\n",
            "\n",
            "Distribution of class labels before resampling Counter({0: 25070, 1: 2334})\n",
            "\n",
            "Distribution of class labels after resampling Counter({1: 24942, 0: 16377})\n",
            "      Iter       Train Loss   Remaining Time \n",
            "         1           1.2451            1.79m\n",
            "         2           1.1662            1.75m\n",
            "         3           1.1005            1.74m\n",
            "         4           1.0456            1.72m\n",
            "         5           0.9991            1.73m\n",
            "         6           0.9549            1.76m\n",
            "         7           0.9213            1.75m\n",
            "         8           0.8888            1.76m\n",
            "         9           0.8634            1.74m\n",
            "        10           0.8372            1.75m\n",
            "        20           0.6699            1.70m\n",
            "        30           0.5637            1.69m\n",
            "        40           0.4810            1.66m\n",
            "        50           0.4324            1.63m\n",
            "        60           0.3953            1.59m\n",
            "        70           0.3681            1.56m\n",
            "        80           0.3501            1.50m\n",
            "        90           0.3305            1.47m\n",
            "       100           0.3177            1.44m\n",
            "       200           0.2328            1.19m\n",
            "       300           0.1964            1.02m\n",
            "       400           0.1716           52.15s\n",
            "       500           0.1581           43.56s\n",
            "       600           0.1499           34.66s\n",
            "       700           0.1431           26.02s\n",
            "       800           0.1371           17.41s\n",
            "       900           0.1323            8.74s\n",
            "      1000           0.1281            0.00s\n",
            "f1_score 0.4900122299225438\n",
            "             precision    recall  f1-score   support\n",
            "\n",
            "          0       0.95      0.95      0.95     25070\n",
            "          1       0.47      0.51      0.49      2334\n",
            "\n",
            "avg / total       0.91      0.91      0.91     27404\n",
            "\n",
            "\n",
            "2 of kfold 2\n",
            "\n",
            "Distribution of class labels before resampling Counter({0: 25070, 1: 2334})\n",
            "\n",
            "Distribution of class labels after resampling Counter({1: 24930, 0: 16447})\n",
            "      Iter       Train Loss   Remaining Time \n",
            "         1           1.2410            1.78m\n",
            "         2           1.1582            1.74m\n",
            "         3           1.0906            1.79m\n",
            "         4           1.0347            1.74m\n",
            "         5           0.9871            1.74m\n",
            "         6           0.9475            1.73m\n",
            "         7           0.9116            1.71m\n",
            "         8           0.8793            1.73m\n",
            "         9           0.8527            1.73m\n",
            "        10           0.8278            1.72m\n",
            "        20           0.6603            1.70m\n",
            "        30           0.5505            1.68m\n",
            "        40           0.4704            1.66m\n",
            "        50           0.4214            1.62m\n",
            "        60           0.3866            1.56m\n",
            "        70           0.3632            1.53m\n",
            "        80           0.3417            1.49m\n",
            "        90           0.3250            1.46m\n",
            "       100           0.3139            1.42m\n",
            "       200           0.2325            1.20m\n",
            "       300           0.1951            1.03m\n",
            "       400           0.1723           52.29s\n",
            "       500           0.1585           43.56s\n",
            "       600           0.1493           34.77s\n",
            "       700           0.1420           26.20s\n",
            "       800           0.1365           17.54s\n",
            "       900           0.1313            8.77s\n",
            "      1000           0.1271            0.00s\n",
            "f1_score 0.47544429581502007\n",
            "             precision    recall  f1-score   support\n",
            "\n",
            "          0       0.96      0.93      0.94     25070\n",
            "          1       0.43      0.53      0.48      2334\n",
            "\n",
            "avg / total       0.91      0.90      0.90     27404\n",
            "\n",
            "Mean score: 0.4827282628687819\n",
            "Standard deviation: 0.007283967053761858\n"
          ],
          "name": "stdout"
        }
      ]
    },
    {
      "metadata": {
        "id": "vhgJf0kDNp0L",
        "colab_type": "code",
        "colab": {
          "base_uri": "https://localhost:8080/",
          "height": 223
        },
        "outputId": "dd282e95-289d-4f48-c4c9-b1bc50da3923"
      },
      "cell_type": "code",
      "source": [
        "from imblearn.ensemble import BalanceCascade\n",
        "from sklearn.linear_model import LogisticRegression\n",
        "bc = BalanceCascade(random_state=0,\n",
        "                    estimator=LogisticRegression(random_state=0),\n",
        "                    n_max_subset=4)\n",
        "X_resampled, y_resampled = bc.fit_sample(X, y)\n",
        "print(X_sampled.shape)\n",
        "print(y_resampled)\n",
        "model = LogisticRegression(class_weight='balanced')\n",
        "model.fit(X_resampled, y_resampled)\n",
        "pred=model.predict_proba(xvl)[:,1]\n"
      ],
      "execution_count": 123,
      "outputs": [
        {
          "output_type": "error",
          "ename": "NameError",
          "evalue": "ignored",
          "traceback": [
            "\u001b[0;31m---------------------------------------------------------------------------\u001b[0m",
            "\u001b[0;31mNameError\u001b[0m                                 Traceback (most recent call last)",
            "\u001b[0;32m<ipython-input-123-bedbd75d06be>\u001b[0m in \u001b[0;36m<module>\u001b[0;34m()\u001b[0m\n\u001b[1;32m      5\u001b[0m                     n_max_subset=4)\n\u001b[1;32m      6\u001b[0m \u001b[0mX_resampled\u001b[0m\u001b[0;34m,\u001b[0m \u001b[0my_resampled\u001b[0m \u001b[0;34m=\u001b[0m \u001b[0mbc\u001b[0m\u001b[0;34m.\u001b[0m\u001b[0mfit_sample\u001b[0m\u001b[0;34m(\u001b[0m\u001b[0mX\u001b[0m\u001b[0;34m,\u001b[0m \u001b[0my\u001b[0m\u001b[0;34m)\u001b[0m\u001b[0;34m\u001b[0m\u001b[0m\n\u001b[0;32m----> 7\u001b[0;31m \u001b[0mprint\u001b[0m\u001b[0;34m(\u001b[0m\u001b[0mX_sampled\u001b[0m\u001b[0;34m.\u001b[0m\u001b[0mshape\u001b[0m\u001b[0;34m)\u001b[0m\u001b[0;34m\u001b[0m\u001b[0m\n\u001b[0m\u001b[1;32m      8\u001b[0m \u001b[0mprint\u001b[0m\u001b[0;34m(\u001b[0m\u001b[0my_resampled\u001b[0m\u001b[0;34m)\u001b[0m\u001b[0;34m\u001b[0m\u001b[0m\n\u001b[1;32m      9\u001b[0m \u001b[0mmodel\u001b[0m \u001b[0;34m=\u001b[0m \u001b[0mLogisticRegression\u001b[0m\u001b[0;34m(\u001b[0m\u001b[0mclass_weight\u001b[0m\u001b[0;34m=\u001b[0m\u001b[0;34m'balanced'\u001b[0m\u001b[0;34m)\u001b[0m\u001b[0;34m\u001b[0m\u001b[0m\n",
            "\u001b[0;31mNameError\u001b[0m: name 'X_sampled' is not defined"
          ]
        }
      ]
    },
    {
      "metadata": {
        "id": "sGRPwYivOanI",
        "colab_type": "code",
        "colab": {}
      },
      "cell_type": "code",
      "source": [
        "pred = model.predict(test)"
      ],
      "execution_count": 0,
      "outputs": []
    },
    {
      "metadata": {
        "id": "5xowGnraOeCI",
        "colab_type": "code",
        "colab": {
          "base_uri": "https://localhost:8080/",
          "height": 33
        },
        "outputId": "4cc8eaf7-cf41-4c5f-d6e1-b59f55a7c7e2"
      },
      "cell_type": "code",
      "source": [
        "pred"
      ],
      "execution_count": 70,
      "outputs": [
        {
          "output_type": "execute_result",
          "data": {
            "text/plain": [
              "array([0., 0., 0., ..., 0., 0., 1.])"
            ]
          },
          "metadata": {
            "tags": []
          },
          "execution_count": 70
        }
      ]
    },
    {
      "metadata": {
        "id": "AKgXeQKmDa3t",
        "colab_type": "text"
      },
      "cell_type": "markdown",
      "source": [
        "### **Submission**"
      ]
    },
    {
      "metadata": {
        "id": "OQkxKnm_NGQe",
        "colab_type": "code",
        "colab": {}
      },
      "cell_type": "code",
      "source": [
        "# Read the submission file\n",
        "submission=pd.read_csv(\"sample_submission.csv\")"
      ],
      "execution_count": 0,
      "outputs": []
    },
    {
      "metadata": {
        "id": "ltQFJ7AfNGQh",
        "colab_type": "code",
        "colab": {
          "base_uri": "https://localhost:8080/",
          "height": 191
        },
        "outputId": "530f2806-a632-4e05-b9b0-3b4fe5d33676"
      },
      "cell_type": "code",
      "source": [
        "submission.head()"
      ],
      "execution_count": 48,
      "outputs": [
        {
          "output_type": "execute_result",
          "data": {
            "text/html": [
              "<div>\n",
              "<style scoped>\n",
              "    .dataframe tbody tr th:only-of-type {\n",
              "        vertical-align: middle;\n",
              "    }\n",
              "\n",
              "    .dataframe tbody tr th {\n",
              "        vertical-align: top;\n",
              "    }\n",
              "\n",
              "    .dataframe thead th {\n",
              "        text-align: right;\n",
              "    }\n",
              "</style>\n",
              "<table border=\"1\" class=\"dataframe\">\n",
              "  <thead>\n",
              "    <tr style=\"text-align: right;\">\n",
              "      <th></th>\n",
              "      <th>employee_id</th>\n",
              "      <th>is_promoted</th>\n",
              "    </tr>\n",
              "  </thead>\n",
              "  <tbody>\n",
              "    <tr>\n",
              "      <th>0</th>\n",
              "      <td>8724</td>\n",
              "      <td>0</td>\n",
              "    </tr>\n",
              "    <tr>\n",
              "      <th>1</th>\n",
              "      <td>74430</td>\n",
              "      <td>0</td>\n",
              "    </tr>\n",
              "    <tr>\n",
              "      <th>2</th>\n",
              "      <td>72255</td>\n",
              "      <td>0</td>\n",
              "    </tr>\n",
              "    <tr>\n",
              "      <th>3</th>\n",
              "      <td>38562</td>\n",
              "      <td>0</td>\n",
              "    </tr>\n",
              "    <tr>\n",
              "      <th>4</th>\n",
              "      <td>64486</td>\n",
              "      <td>0</td>\n",
              "    </tr>\n",
              "  </tbody>\n",
              "</table>\n",
              "</div>"
            ],
            "text/plain": [
              "   employee_id  is_promoted\n",
              "0         8724            0\n",
              "1        74430            0\n",
              "2        72255            0\n",
              "3        38562            0\n",
              "4        64486            0"
            ]
          },
          "metadata": {
            "tags": []
          },
          "execution_count": 48
        }
      ]
    },
    {
      "metadata": {
        "id": "yO8_WK-5qZUu",
        "colab_type": "code",
        "colab": {}
      },
      "cell_type": "code",
      "source": [
        "pred=model.predict_proba(test)[:,1]\n"
      ],
      "execution_count": 0,
      "outputs": []
    },
    {
      "metadata": {
        "id": "XZTah0R6rSB1",
        "colab_type": "code",
        "colab": {
          "base_uri": "https://localhost:8080/",
          "height": 50
        },
        "outputId": "4ed9577b-a6fe-4607-9747-7b83307d8da3"
      },
      "cell_type": "code",
      "source": [
        "pred"
      ],
      "execution_count": 86,
      "outputs": [
        {
          "output_type": "execute_result",
          "data": {
            "text/plain": [
              "array([1.72722155e-01, 1.55211733e-03, 5.11486146e-04, ...,\n",
              "       6.56580915e-04, 6.32388104e-03, 9.49742937e-01])"
            ]
          },
          "metadata": {
            "tags": []
          },
          "execution_count": 86
        }
      ]
    },
    {
      "metadata": {
        "id": "IbiGQbECNGQk",
        "colab_type": "code",
        "colab": {}
      },
      "cell_type": "code",
      "source": [
        "# Fill the is_pass variable with the predictions\n",
        "submission['is_promoted']=pred"
      ],
      "execution_count": 0,
      "outputs": []
    },
    {
      "metadata": {
        "id": "-m0MBnuhNGQq",
        "colab_type": "code",
        "colab": {}
      },
      "cell_type": "code",
      "source": [
        "submission['is_promoted'] = submission['is_promoted'].astype(np.int64)"
      ],
      "execution_count": 0,
      "outputs": []
    },
    {
      "metadata": {
        "id": "IopcDKBlNGQv",
        "colab_type": "code",
        "colab": {
          "base_uri": "https://localhost:8080/",
          "height": 191
        },
        "outputId": "cc3d17b9-40bb-4264-c6ae-88a00a7eae88"
      },
      "cell_type": "code",
      "source": [
        "submission.head()"
      ],
      "execution_count": 73,
      "outputs": [
        {
          "output_type": "execute_result",
          "data": {
            "text/html": [
              "<div>\n",
              "<style scoped>\n",
              "    .dataframe tbody tr th:only-of-type {\n",
              "        vertical-align: middle;\n",
              "    }\n",
              "\n",
              "    .dataframe tbody tr th {\n",
              "        vertical-align: top;\n",
              "    }\n",
              "\n",
              "    .dataframe thead th {\n",
              "        text-align: right;\n",
              "    }\n",
              "</style>\n",
              "<table border=\"1\" class=\"dataframe\">\n",
              "  <thead>\n",
              "    <tr style=\"text-align: right;\">\n",
              "      <th></th>\n",
              "      <th>employee_id</th>\n",
              "      <th>is_promoted</th>\n",
              "    </tr>\n",
              "  </thead>\n",
              "  <tbody>\n",
              "    <tr>\n",
              "      <th>0</th>\n",
              "      <td>8724</td>\n",
              "      <td>0</td>\n",
              "    </tr>\n",
              "    <tr>\n",
              "      <th>1</th>\n",
              "      <td>74430</td>\n",
              "      <td>0</td>\n",
              "    </tr>\n",
              "    <tr>\n",
              "      <th>2</th>\n",
              "      <td>72255</td>\n",
              "      <td>0</td>\n",
              "    </tr>\n",
              "    <tr>\n",
              "      <th>3</th>\n",
              "      <td>38562</td>\n",
              "      <td>0</td>\n",
              "    </tr>\n",
              "    <tr>\n",
              "      <th>4</th>\n",
              "      <td>64486</td>\n",
              "      <td>0</td>\n",
              "    </tr>\n",
              "  </tbody>\n",
              "</table>\n",
              "</div>"
            ],
            "text/plain": [
              "   employee_id  is_promoted\n",
              "0         8724            0\n",
              "1        74430            0\n",
              "2        72255            0\n",
              "3        38562            0\n",
              "4        64486            0"
            ]
          },
          "metadata": {
            "tags": []
          },
          "execution_count": 73
        }
      ]
    },
    {
      "metadata": {
        "id": "2lUPYYifNGQz",
        "colab_type": "code",
        "colab": {
          "base_uri": "https://localhost:8080/",
          "height": 66
        },
        "outputId": "82314ab5-b36a-4d6d-8f39-894f44d019a4"
      },
      "cell_type": "code",
      "source": [
        "submission['is_promoted'].value_counts()"
      ],
      "execution_count": 74,
      "outputs": [
        {
          "output_type": "execute_result",
          "data": {
            "text/plain": [
              "0    22845\n",
              "1      645\n",
              "Name: is_promoted, dtype: int64"
            ]
          },
          "metadata": {
            "tags": []
          },
          "execution_count": 74
        }
      ]
    },
    {
      "metadata": {
        "id": "_x7ugzXGNGQ2",
        "colab_type": "code",
        "colab": {}
      },
      "cell_type": "code",
      "source": [
        "# Converting the submission file to csv format\n",
        "submission.to_csv('cat_submission-basic3-es.csv', index=False)"
      ],
      "execution_count": 0,
      "outputs": []
    },
    {
      "metadata": {
        "id": "IbcpMsumr8P2",
        "colab_type": "code",
        "colab": {}
      },
      "cell_type": "code",
      "source": [
        "from google.colab import files\n",
        "files.download('cat_submission-basic3-es.csv')"
      ],
      "execution_count": 0,
      "outputs": []
    },
    {
      "metadata": {
        "id": "KyZO-XqFNGQ7",
        "colab_type": "text"
      },
      "cell_type": "markdown",
      "source": [
        "score on leaderboard - 0.71145"
      ]
    }
  ]
}